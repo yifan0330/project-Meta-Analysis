{
 "cells": [
  {
   "cell_type": "code",
   "execution_count": 9,
   "metadata": {},
   "outputs": [],
   "source": [
    "import numpy as np\n",
    "import pandas as pd\n",
    "from numpy.random import uniform, normal  \n",
    "from scipy.optimize import Bounds\n",
    "from scipy.optimize import minimize\n",
    "import matplotlib.pyplot as plt "
   ]
  },
  {
   "cell_type": "code",
   "execution_count": 10,
   "metadata": {},
   "outputs": [
    {
     "name": "stdout",
     "output_type": "stream",
     "text": [
      "J square = [0.25, 0.3076923076923077, 0.5, 0.75]\n"
     ]
    }
   ],
   "source": [
    "# k: the number of studies\n",
    "k_list = [10,30,50,100]\n",
    "# each element of `parameter_constellation` has the form (mu, sigma^2,tau^2) \n",
    "# where tau^2 is the between-study variance, sigma^2*u_i is the within-study variance\n",
    "parameter_constellation = [(0,12,4),(0,9,4),(0,4,4),(0,2,6)]\n",
    "# heterogeniety measure: J^2 = tau^2/(tau^2+sigma^2)\n",
    "J_square_list = [params[2]/(params[2]+params[1]) for params in parameter_constellation]\n",
    "print('J square =', J_square_list)"
   ]
  },
  {
   "cell_type": "code",
   "execution_count": null,
   "metadata": {},
   "outputs": [],
   "source": []
  },
  {
   "cell_type": "code",
   "execution_count": 3,
   "metadata": {},
   "outputs": [],
   "source": [
    "# normalised version, average over k studies (using np.mean rather than np.sum in nll and jac)\n",
    "# use softplus rather than square to make sure sigma^2, tau^2 > 0, because softplus grows linearly.\n",
    "\n",
    "def softplus(x):\n",
    "    return np.log(np.exp(x) + 1.0)\n",
    "\n",
    "def d_softplus(x):\n",
    "    return 1. - 1./(np.exp(x) + 1.0)\n",
    "\n",
    "def inv_softplus(x):\n",
    "    return np.log(np.exp(x) - 1.0)\n",
    "\n",
    "def nll(x, D, u):\n",
    "    # x = np.array([mu, sigma, tau])\n",
    "    mu, sigma_square, tau_square = x[0], softplus(x[1]), softplus(x[2])\n",
    "    return 1/2*np.mean((D - mu)**2/(tau_square + sigma_square*u) \\\n",
    "            +np.log(tau_square + sigma_square*u)+np.log(2*np.pi))  \n",
    "\n",
    "# Jacobian: the matrix of all its first-order partial derivatives\n",
    "def jac(x, D, u):\n",
    "    mu, sigma_square, tau_square = x[0], softplus(x[1]), softplus(x[2])\n",
    "    a = D - mu\n",
    "    b = tau_square + sigma_square * u\n",
    "    # convert the derivative with respect to sigma/tau, instead of sigma^2/tau^2\n",
    "    d_mu = np.mean(a / b)\n",
    "    d_sigma_square = (np.mean((a**2 * u) / b**2) - np.mean(u / b))\n",
    "    d_tau_square = (np.mean(a**2 / b**2) - np.mean(1./ b))\n",
    "    d0 = d_mu\n",
    "    d1 = d_sigma_square * d_softplus(x[1])\n",
    "    d2 = d_tau_square * d_softplus(x[2])\n",
    "    return - np.array([d0, d1, d2]) \n",
    "\n",
    "\n",
    "\n",
    "# mse(theta_hat, theta) = Var(theta_hat) + bias(theta_hat, theta)^2\n",
    "def mse(param_ast, param):\n",
    "    bias = np.mean(param_ast)-param\n",
    "    mse = np.var(param_ast) + bias**2\n",
    "    return mse\n",
    "\n",
    "# summarize all the needed statistical infomation: [mean, bias, standard_deviation]\n",
    "def stats_info(param_ast, param):\n",
    "    result_list = [np.mean(param_ast)-param, np.std(param_ast), mse(param_ast,param)]\n",
    "    return result_list"
   ]
  },
  {
   "cell_type": "code",
   "execution_count": 4,
   "metadata": {},
   "outputs": [],
   "source": [
    "class Replication(object):\n",
    "    \n",
    "    def __init__(self, k, mu, sigma_square, tau_square):\n",
    "        self.k = k \n",
    "        self.mu_gt = mu \n",
    "        self.sigma_square_gt = sigma_square \n",
    "        self.tau_square_gt = tau_square \n",
    "        self.u = uniform(0.02, 0.2, self.k)\n",
    "        self.x = normal(self.mu_gt, self.tau_square_gt**0.5, self.k)\n",
    "        self.D = normal(self.x, np.sqrt(self.sigma_square_gt)*self.u**0.5, self.k)\n",
    "        \n",
    "    def optimize(self, method=\"UC\"):\n",
    "        # random but reasonable initial point\n",
    "        mu = uniform(-2.0, 2.0)\n",
    "        sigma = uniform(0., 15.)\n",
    "        tau = uniform(0., 8.)\n",
    "        # the initialisation does not look reasonable, how about (mu, 1., 1.)\n",
    "        if method == \"UC\":\n",
    "            self.minimizer = minimize(nll, np.array([mu, 1.0, 1.0]), \\\n",
    "                            args=(self.D, self.u), method=\"BFGS\", jac=jac, tol=1e-20, options={\"disp\":False, \"maxiter\":100})\n",
    "    \n",
    "    def query(self, what):\n",
    "        if what == \"parameters\":\n",
    "            params = self.minimizer.x\n",
    "            params = [params[0], softplus(params[1]), softplus(params[2])]\n",
    "            return params\n",
    "        elif what == \"status\":\n",
    "            return self.minimizer.status\n",
    "        elif what == \"jacobian\":\n",
    "            return self.minimizer.jac\n",
    "        elif what == \"curvature\":\n",
    "            return np.linalg.det(self.minimizer.hess_inv)\n",
    "        "
   ]
  },
  {
   "cell_type": "code",
   "execution_count": 5,
   "metadata": {},
   "outputs": [],
   "source": [
    "def simulate(method, k, mu, sigma_square, tau_square, num_replications=10):\n",
    "    replications = [Replication(k, mu,sigma_square,tau_square) for i in range(num_replications)]\n",
    "    [r.optimize(method=method) for r in replications]\n",
    "    return replications\n",
    "\n",
    "def stats(replications):\n",
    "    all_params = np.array([r.query(\"parameters\") for r in replications])\n",
    "    all_mu_ast = all_params[:, 0]\n",
    "    all_sigma_square_ast = all_params[:, 1]\n",
    "    all_tau_square_ast = all_params[:, 2]\n",
    "    # return the result for mu/sigma/tau in the form of: [mean, bias, std]\n",
    "    mu_info = stats_info(all_mu_ast, replications[0].mu_gt)\n",
    "    sigma_square_info = stats_info(all_sigma_square_ast, replications[0].sigma_square_gt)\n",
    "    tau_square_info = stats_info(all_tau_square_ast, replications[0].tau_square_gt)\n",
    "    return mu_info, sigma_square_info, tau_square_info"
   ]
  },
  {
   "cell_type": "code",
   "execution_count": 11,
   "metadata": {},
   "outputs": [
    {
     "name": "stdout",
     "output_type": "stream",
     "text": [
      "k=10, mu=0, sigma_square=12, tau_square=4\n",
      "mu: [-0.02992544041330998, 0.7465887754069773, 0.5582903315476205]\n",
      "sigma_square: [4.874877258485643, 23.137003937747384, 559.0853795006384]\n",
      "tau_square: [-1.1093537708971306, 2.6371588231745138, 8.185272447650869]\n",
      "k=30, mu=0, sigma_square=12, tau_square=4\n",
      "mu: [0.0014043449564344924, 0.4188495309974035, 0.17543690180150157]\n",
      "sigma_square: [5.181298014446519, 19.271822870727217, 398.249005875192]\n",
      "tau_square: [-0.6877819227420341, 2.114482992305348, 4.944082297999307]\n",
      "k=50, mu=0, sigma_square=12, tau_square=4\n",
      "mu: [-0.0005853540021769299, 0.33516705191628493, 0.1123372953295615]\n",
      "sigma_square: [2.9041804710737047, 15.878508161258, 260.56128563570286]\n",
      "tau_square: [-0.42071006588677484, 1.7780388014758357, 3.338418939092081]\n",
      "k=100, mu=0, sigma_square=12, tau_square=4\n",
      "mu: [-0.006220266099015161, 0.2311500104548038, 0.05346901904359846]\n",
      "sigma_square: [1.8740721420754003, 12.547166201979685, 160.94352609380442]\n",
      "tau_square: [-0.25482701884884307, 1.3982688063388422, 2.0200924643156393]\n",
      "k=10, mu=0, sigma_square=9, tau_square=4\n",
      "mu: [0.036209538329246074, 0.7499821753138873, 0.5637843939545677]\n",
      "sigma_square: [7.095645377449404, 20.461079009822463, 469.0039375687164]\n",
      "tau_square: [-1.3608473271813675, 2.463913434680895, 7.922774861497677]\n",
      "k=30, mu=0, sigma_square=9, tau_square=4\n",
      "mu: [0.004434252955615669, 0.4212860670664977, 0.17750161290363195]\n",
      "sigma_square: [5.665767855068978, 17.40673303917105, 335.09528048450204]\n",
      "tau_square: [-0.7456824448189425, 1.968255241545265, 4.430071004381564]\n",
      "k=50, mu=0, sigma_square=9, tau_square=4\n",
      "mu: [0.0013692936199219705, 0.32552298140062186, 0.10596708638496717]\n",
      "sigma_square: [4.765603793851499, 15.506007805497438, 263.14725758411925]\n",
      "tau_square: [-0.6037343490605371, 1.6829856080243013, 3.196935721052477]\n",
      "k=100, mu=0, sigma_square=9, tau_square=4\n",
      "mu: [0.0010799332930264026, 0.21164323428301604, 0.04479402487369301]\n",
      "sigma_square: [2.1799466796343623, 11.491132125273566, 136.79828504654307]\n",
      "tau_square: [-0.2745771520737077, 1.262561299359029, 1.6694536470800672]\n",
      "k=10, mu=0, sigma_square=4, tau_square=4\n",
      "mu: [0.03795758901569753, 0.6965977478032369, 0.48668920080842665]\n",
      "sigma_square: [7.666376345282686, 17.365452788161253, 360.33227680536737]\n",
      "tau_square: [-1.3389021776824612, 2.2651471925265394, 6.9235508452137]\n",
      "k=30, mu=0, sigma_square=4, tau_square=4\n",
      "mu: [0.005653991167374107, 0.39479433297378097, 0.1558945329643334]\n",
      "sigma_square: [6.8133915704627395, 14.63634420660948, 260.64487642680365]\n",
      "tau_square: [-0.8664025406517095, 1.735851683390214, 3.7638344291763763]\n",
      "k=50, mu=0, sigma_square=4, tau_square=4\n",
      "mu: [0.006785088344197753, 0.293727990326604, 0.08632216972514416]\n",
      "sigma_square: [5.524092364879966, 11.97121117587597, 173.82549347314284]\n",
      "tau_square: [-0.707796008193641, 1.3934449028833888, 2.4426638865865495]\n",
      "k=100, mu=0, sigma_square=4, tau_square=4\n",
      "mu: [-0.0007904772450781117, 0.20871374294618922, 0.043562051348882934]\n",
      "sigma_square: [3.448248706923099, 8.651301922393195, 86.73544409720103]\n",
      "tau_square: [-0.41313014215934674, 1.0247500344570242, 1.2207891474802746]\n",
      "k=10, mu=0, sigma_square=2, tau_square=6\n",
      "mu: [0.013250706840065836, 0.8364611362760168, 0.6998428137319265]\n",
      "sigma_square: [12.880353984631016, 23.930836176743924, 738.5884388875558]\n",
      "tau_square: [-2.067912493322154, 3.131603261612276, 14.083201068178493]\n",
      "k=30, mu=0, sigma_square=2, tau_square=6\n",
      "mu: [0.008396120071353722, 0.46922076278202296, 0.22023861905799605]\n",
      "sigma_square: [10.752270588217595, 18.167224177636207, 445.65935712273875]\n",
      "tau_square: [-1.394697774873646, 2.3567149355086405, 7.499287170486994]\n",
      "k=50, mu=0, sigma_square=2, tau_square=6\n",
      "mu: [0.002759985341929487, 0.3566809006870974, 0.1272288824340467]\n",
      "sigma_square: [8.603170547464531, 15.537614723495846, 315.4320147645561]\n",
      "tau_square: [-1.0140230206528358, 1.9559928622066889, 4.854150763417417]\n",
      "k=100, mu=0, sigma_square=2, tau_square=6\n",
      "mu: [-0.005598506621425845, 0.24400043100981014, 0.05956755360936327]\n",
      "sigma_square: [6.082863836637296, 11.385650100252285, 166.63426066044468]\n",
      "tau_square: [-0.7463691867602078, 1.4520459978568847, 2.66550454283729]\n"
     ]
    }
   ],
   "source": [
    "np.random.seed(234)\n",
    "method = \"UC\"\n",
    "for idx, params in enumerate(parameter_constellation):\n",
    "    mu, sigma_square, tau_square = params\n",
    "    for k_idx, k in enumerate(k_list):\n",
    "        rs = simulate(method, k, mu, sigma_square, tau_square, num_replications=1000)\n",
    "        print(\"k={0}, mu={1}, sigma_square={2}, tau_square={3}\".format(k, mu, sigma_square, tau_square))\n",
    "        s = stats(rs)\n",
    "        print(\"mu:\", s[0])\n",
    "        print(\"sigma_square:\", s[1])\n",
    "        print(\"tau_square:\", s[2])"
   ]
  },
  {
   "cell_type": "code",
   "execution_count": 12,
   "metadata": {},
   "outputs": [
    {
     "name": "stdout",
     "output_type": "stream",
     "text": [
      "█\r"
     ]
    }
   ],
   "source": [
    "from wxpy import *"
   ]
  },
  {
   "cell_type": "code",
   "execution_count": 13,
   "metadata": {},
   "outputs": [
    {
     "name": "stderr",
     "output_type": "stream",
     "text": [
      "Getting uuid of QR code.\n",
      "Downloading QR code.\n",
      "Please scan the QR code to log in.\n",
      "Please press confirm on your phone.\n",
      "Loading the contact, this may take a little while.\n",
      "Login successfully as 余一帆\n"
     ]
    }
   ],
   "source": [
    "bot = Bot()"
   ]
  },
  {
   "cell_type": "code",
   "execution_count": 27,
   "metadata": {},
   "outputs": [],
   "source": [
    "jin = bot.friends().search(u'徐进')[0]"
   ]
  },
  {
   "cell_type": "code",
   "execution_count": 30,
   "metadata": {},
   "outputs": [
    {
     "name": "stderr",
     "output_type": "stream",
     "text": [
      "LOG OUT!\n"
     ]
    }
   ],
   "source": [
    "for i in range(10):\n",
    "    jin.send('想你啦我的kk')"
   ]
  },
  {
   "cell_type": "code",
   "execution_count": null,
   "metadata": {},
   "outputs": [],
   "source": []
  }
 ],
 "metadata": {
  "kernelspec": {
   "display_name": "Python 3",
   "language": "python",
   "name": "python3"
  },
  "language_info": {
   "codemirror_mode": {
    "name": "ipython",
    "version": 3
   },
   "file_extension": ".py",
   "mimetype": "text/x-python",
   "name": "python",
   "nbconvert_exporter": "python",
   "pygments_lexer": "ipython3",
   "version": "3.7.6"
  }
 },
 "nbformat": 4,
 "nbformat_minor": 4
}
