{
 "cells": [
  {
   "cell_type": "code",
   "execution_count": 33,
   "metadata": {},
   "outputs": [],
   "source": [
    "import numpy as np\n",
    "import pandas as pd\n",
    "from numpy.random import uniform, normal, chisquare\n",
    "from math import pi\n",
    "from scipy.optimize import Bounds\n",
    "from scipy.optimize import minimize\n",
    "import matplotlib.pyplot as plt \n",
    "\n",
    "# ignore the warning message\n",
    "import sys\n",
    "import warnings\n",
    "if not sys.warnoptions:\n",
    "    warnings.simplefilter(\"ignore\")"
   ]
  },
  {
   "cell_type": "code",
   "execution_count": 2,
   "metadata": {},
   "outputs": [],
   "source": [
    "def J_square(sigma_square,tau_square):\n",
    "    return tau_square/(tau_square+sigma_square)"
   ]
  },
  {
   "cell_type": "code",
   "execution_count": 3,
   "metadata": {},
   "outputs": [
    {
     "name": "stdout",
     "output_type": "stream",
     "text": [
      "J square = [0.25, 0.3076923076923077, 0.5, 0.75]\n"
     ]
    }
   ],
   "source": [
    "# k: the number of studies\n",
    "k_list = [10,30,50,100]\n",
    "# each element of `parameter_constellation` has the form (mu, sigma^2,tau^2) \n",
    "# where tau^2 is the between-study variance, sigma^2*u_i is the within-study variance\n",
    "parameter_constellation = [(0,12,4),(0,9,4),(0,4,4),(0,2,6)]\n",
    "# heterogeniety measure: J^2\n",
    "J_square_list = list()\n",
    "for element in parameter_constellation:\n",
    "    sigma_square_i = element[1]\n",
    "    tau_square_i = element[2]\n",
    "    J_square_list.append(J_square(sigma_square_i,tau_square_i))\n",
    "print('J square =',J_square_list)"
   ]
  },
  {
   "cell_type": "markdown",
   "metadata": {},
   "source": [
    "## when sigma^2 is known"
   ]
  },
  {
   "cell_type": "markdown",
   "metadata": {},
   "source": [
    "### The negative log-likelihood function of $v = (\\mu, \\sigma^2, \\tau^2)$ is given by\n",
    "\n",
    "$I(v) = \\frac{1}{2}\\sum \\limits_{i=1}^{k}[\\frac{(D_i-\\mu)^2}{\\tau^2+\\sigma^2 u_i}+\\log{(\\tau^2+\\sigma^2 u_i)}+c]$\n",
    "\n",
    "with first order derivatives (only two variables $\\mu$ and $\\tau^2$)\n",
    "$$\\frac{\\partial l(v)}{\\partial \\mu} = \\sum \\limits_{i=1}^{k} \\frac{D_i - \\mu}{\\tau^2 + \\sigma^2 u_i}$$\n",
    "$$\\frac{\\partial l(v)}{\\partial \\tau^2} = \\sum \\limits_{i=1}^{k} \\frac{(D_i - \\mu)^2}{(\\tau^2 + \\sigma^2 u_i)^2} - \\sum \\limits_{i=1}^{k} \\frac{1}{\\tau^2+\\sigma^2 u_i}$$\n",
    "\n",
    "Therefore, the Hessian of the log-likelihood function is\n",
    "$$\n",
    "\\left[\\begin{array}{cc} \n",
    "\\sum \\limits_{i=1}^{k} \\frac{1}{\\tau^2 + \\sigma^2 u_i} & 0\\\\ \n",
    "0 & \\frac{1}{2} \\sum \\limits_{i=1}^{k} \\frac{1}{(\\tau^2 + \\sigma^2 u_i)^2}\n",
    "\\end{array}\\right]\n",
    "$$\n",
    "\n",
    "And \n",
    "$$\\frac{\\partial l(v)}{\\partial \\mu} = 0 \\Rightarrow \\mu = \\frac{\\sum \\limits_{i=1}^{k} \\frac{D_i}{\\tau^2 + \\sigma^2 u_i}}{\\sum \\limits_{i=1}^{k} \\frac{1}{\\tau^2 + \\sigma^2 u_i}} (\\text{where } \\tau^2 \\text{ is unknown})$$ \n",
    "$$\\frac{\\partial l(v)}{\\partial \\tau^2} = 0 \\Rightarrow \\sum \\limits_{i=1}^{k} \\frac{(D_i - \\mu)^2}{(\\tau^2 + \\sigma^2 u_i)^2} = \\sum \\limits_{i=1}^{k} \\frac{1}{\\tau^2+\\sigma^2 u_i} = \\sum \\limits_{i=1}^{k} \\frac{\\tau^2+\\sigma^2 u_i}{(\\tau^2+\\sigma^2 u_i)^2}$$\n",
    "$$\\Rightarrow \\tau^2 = \\frac{\\sum \\limits_{i=1}^{k} \\frac{(D_i - \\mu)^2 - \\sigma^2 u_i}{(\\tau^2 + \\sigma^2 u_i)^2}}{\\sum \\limits_{i=1}^{k} \\frac{1}{(\\tau^2 + \\sigma^2 u_i)^2}}$$"
   ]
  },
  {
   "cell_type": "code",
   "execution_count": 4,
   "metadata": {},
   "outputs": [],
   "source": [
    "# function for generating u_array and D_array\n",
    "def array_generator(k,mu,sigma,tau):\n",
    "    # u in (0.01, 0.1) => n=1/u in (10,100)\n",
    "    u_array = uniform(0.01,0.1,k)\n",
    "    # x_i ~ N(mu,tau^2)\n",
    "    x_array = normal(mu,tau,k)\n",
    "    # D_i ~ N(x_i, sigma^2*u_i)\n",
    "    D_array = normal(x_array,sigma*u_array**0.5,k)\n",
    "    return u_array, D_array"
   ]
  },
  {
   "cell_type": "code",
   "execution_count": 5,
   "metadata": {},
   "outputs": [],
   "source": [
    "# fix the simulated u_array and D_array in advance\n",
    "# for avoiding randomness\n",
    "two_generated_arrays = array_generator(k=100,mu=0,sigma=np.sqrt(12),tau=2)\n",
    "u_array = two_generated_arrays[0]\n",
    "D_array = two_generated_arrays[1]"
   ]
  },
  {
   "cell_type": "markdown",
   "metadata": {},
   "source": [
    "### method 1: unconstrained optimization: minimize the negative log-likelihood function with BFGS method (using sigma/tau)"
   ]
  },
  {
   "cell_type": "code",
   "execution_count": 53,
   "metadata": {},
   "outputs": [],
   "source": [
    "def nll_unknown_sigma(x, D, u):\n",
    "    # x = np.array([mu, sigma, tau])\n",
    "    mu, sigma, tau = x[0], x[1], x[2]\n",
    "    sigma_square, tau_square = sigma**2, tau**2\n",
    "    return 1/2*np.sum((D - mu)**2/(tau_square + sigma_square*u) \\\n",
    "            +np.log(tau_square + sigma_square*u)+np.log(2*pi))\n",
    "\n",
    "# Jacobian: the matrix of all its first-order partial derivatives\n",
    "def jac_unknown_sigma(x, D, u):\n",
    "    mu, sigma, tau = x[0], x[1], x[2]\n",
    "    sigma_square, tau_square = sigma**2, tau**2\n",
    "    a = D - mu\n",
    "    b = tau_square + sigma_square * u\n",
    "    # convert the derivative with respect to sigma/tau, instead of sigma^2/tau^2\n",
    "    d_mu = np.sum(a / b)\n",
    "    d_sigma = (np.sum((a**2 * u) / b**2) - np.sum(u / b)) * (2*sigma) \n",
    "    d_tau = (np.sum(a**2 / b**2) - np.sum(1./ b)) * (2*tau)\n",
    "    return - np.array([d_mu, d_sigma, d_tau])\n",
    "\n",
    "def nll_known_sigma(x, D, u):\n",
    "    # x = np.array([mu, tau])\n",
    "    mu, tau = x[0], x[1], \n",
    "    tau_square = tau**2\n",
    "    known_sigma_square = np.var(D)\n",
    "    return 1/2*np.sum((D - mu)**2/(tau_square + known_sigma_square*u) \\\n",
    "            +np.log(tau_square + known_sigma_square*u)+np.log(2*pi))\n",
    "\n",
    "def jac_known_sigma(x, D, u):\n",
    "    mu, tau = x[0], x[1]\n",
    "    tau_square = tau**2\n",
    "    known_sigma_square = np.var(D)\n",
    "    a = D - mu\n",
    "    b = tau_square + known_sigma_square * u\n",
    "    # convert the derivative with respect to sigma/tau, instead of sigma^2/tau^2\n",
    "    d_mu = np.sum(a / b)\n",
    "    d_tau = (np.sum(a**2 / b**2) - np.sum(1./ b)) * (2*tau)\n",
    "    return - np.array([d_mu, d_tau])\n",
    "\n",
    "\n",
    "def nll_known_sigma_chi(x, D, u):\n",
    "    # x = np.array([mu, tau])\n",
    "    mu, tau = x[0], x[1], \n",
    "    tau_square = tau**2\n",
    "    #S^2/sigma^2 ~ chi^2_{k-1}/(k-1)\n",
    "    S_square = np.var(D)# sample variance\n",
    "    k = D_array.shape[0]\n",
    "    S_sigma_square_ratio = chisquare(df = 99, size=None)/(k-1)\n",
    "    known_sigma_square = S_square/S_sigma_square_ratio\n",
    "    known_sigma = np.sqrt(known_sigma_square)\n",
    "    return 1/2*np.sum((D - mu)**2/(tau_square + known_sigma_square*u) \\\n",
    "            +np.log(tau_square + known_sigma_square*u)+np.log(2*pi))\n",
    "\n",
    "def jac_known_sigma_chi(x, D, u):\n",
    "    mu, tau = x[0], x[1]\n",
    "    tau_square = tau**2\n",
    "    \n",
    "    #S^2/sigma^2 ~ chi^2_{k-1}/(k-1)\n",
    "    S_square = np.var(D)# sample variance\n",
    "    k = D_array.shape[0]\n",
    "    S_sigma_square_ratio = chisquare(df = 99, size=None)/(k-1)\n",
    "    known_sigma_square = S_square/S_sigma_square_ratio\n",
    "    known_sigma = np.sqrt(known_sigma_square)\n",
    "    \n",
    "    a = D - mu\n",
    "    b = tau_square + known_sigma_square * u\n",
    "    # convert the derivative with respect to sigma/tau, instead of sigma^2/tau^2\n",
    "    d_mu = np.sum(a / b)\n",
    "    d_tau = (np.sum(a**2 / b**2) - np.sum(1./ b)) * (2*tau)\n",
    "    return - np.array([d_mu, d_tau])\n"
   ]
  },
  {
   "cell_type": "code",
   "execution_count": 54,
   "metadata": {},
   "outputs": [],
   "source": [
    "def simulation_UC_unknown_sigma(D_array,u_array,stopping_criteria = 1e-10):\n",
    "    # random but resonable initial point\n",
    "    mu_0 = uniform(-2.0, 2.0)\n",
    "    sigma_0 = uniform(0., 15.)\n",
    "    tau_0 = uniform(0., 8.)\n",
    "    x0 = np.array([mu_0, sigma_0, tau_0])\n",
    "    minimizer = minimize(nll_unknown_sigma, x0, args=(D_array, u_array), method=\"BFGS\", jac=jac_unknown_sigma, tol=stopping_criteria)   \n",
    "    #minimizer_kwargs = {\"method\": \"BFGS\", \"args\": (D_array, u_array), \"jac\":True}\n",
    "    # corresponding mu/sigma/tau when the negative log likelihood function is minimized\n",
    "    mu_ast, sigma_ast, tau_ast = minimizer.x\n",
    "    n_iteration = minimizer.nit\n",
    "    sigma_square_ast = sigma_ast**2\n",
    "    tau_square_ast = tau_ast**2\n",
    "    return np.array([mu_ast, tau_square_ast, n_iteration])"
   ]
  },
  {
   "cell_type": "code",
   "execution_count": 55,
   "metadata": {},
   "outputs": [
    {
     "data": {
      "text/plain": [
       "array([-0.15454944,  2.76976986, 12.        ])"
      ]
     },
     "execution_count": 55,
     "metadata": {},
     "output_type": "execute_result"
    }
   ],
   "source": [
    "simulation_UC_unknown_sigma(D_array,u_array,stopping_criteria = 1e-10)"
   ]
  },
  {
   "cell_type": "code",
   "execution_count": 56,
   "metadata": {},
   "outputs": [],
   "source": [
    "def simulation_UC_known_sigma(D_array,u_array,stopping_criteria = 1e-10):\n",
    "    known_sigma= np.std(D_array)\n",
    "    known_sigma_square= np.var(D_array)\n",
    "    \n",
    "    # random but resonable initial point\n",
    "    mu_0 = uniform(-2.0, 2.0)\n",
    "    tau_0 = uniform(0., 8.)\n",
    "    x0 = np.array([mu_0, tau_0])\n",
    "    minimizer = minimize(nll_known_sigma, x0, args=(D_array, u_array), method=\"BFGS\", jac=jac_known_sigma, tol=stopping_criteria)   \n",
    "    #minimizer_kwargs = {\"method\": \"BFGS\", \"args\": (D_array, u_array), \"jac\":True}\n",
    "    # corresponding mu/sigma/tau when the negative log likelihood function is minimized\n",
    "    mu_ast, tau_ast = minimizer.x\n",
    "    n_iteration = minimizer.nit\n",
    "    tau_square_ast = tau_ast**2\n",
    "    return np.array([mu_ast, tau_square_ast, n_iteration])"
   ]
  },
  {
   "cell_type": "code",
   "execution_count": 57,
   "metadata": {},
   "outputs": [
    {
     "data": {
      "text/plain": [
       "array([-0.15951636,  3.86366385, 11.        ])"
      ]
     },
     "execution_count": 57,
     "metadata": {},
     "output_type": "execute_result"
    }
   ],
   "source": [
    "simulation_UC_known_sigma(D_array,u_array,stopping_criteria = 1e-10)"
   ]
  },
  {
   "cell_type": "code",
   "execution_count": 58,
   "metadata": {},
   "outputs": [],
   "source": [
    "def simulation_UC_known_sigma_chi(D_array,u_array,stopping_criteria = 1e-10):\n",
    "    known_sigma= np.std(D_array)\n",
    "    known_sigma_square= np.var(D_array)\n",
    "    \n",
    "    # random but resonable initial point\n",
    "    mu_0 = uniform(-2.0, 2.0)\n",
    "    tau_0 = uniform(0., 8.)\n",
    "    x0 = np.array([mu_0, tau_0])\n",
    "    minimizer = minimize(nll_known_sigma_chi, x0, args=(D_array, u_array), method=\"BFGS\", jac=jac_known_sigma_chi, tol=stopping_criteria)   \n",
    "    #minimizer_kwargs = {\"method\": \"BFGS\", \"args\": (D_array, u_array), \"jac\":True}\n",
    "    # corresponding mu/sigma/tau when the negative log likelihood function is minimized\n",
    "    mu_ast, tau_ast = minimizer.x\n",
    "    n_iteration = minimizer.nit\n",
    "    tau_square_ast = tau_ast**2\n",
    "    return np.array([mu_ast, tau_square_ast, n_iteration])"
   ]
  },
  {
   "cell_type": "code",
   "execution_count": 59,
   "metadata": {},
   "outputs": [
    {
     "data": {
      "text/plain": [
       "array([-0.15853423,  3.7950719 ,  5.        ])"
      ]
     },
     "execution_count": 59,
     "metadata": {},
     "output_type": "execute_result"
    }
   ],
   "source": [
    "simulation_UC_known_sigma_chi(D_array,u_array,stopping_criteria = 1e-10)"
   ]
  },
  {
   "cell_type": "markdown",
   "metadata": {},
   "source": [
    "### method 2: constrained (bounded) optimization using tau^2 and sigma^2 (non-negative) with BFGS method"
   ]
  },
  {
   "cell_type": "code",
   "execution_count": 60,
   "metadata": {},
   "outputs": [],
   "source": [
    "def CO_nll_unknown_sigma(x, D, u):\n",
    "    # x = np.array([mu, sigma^2, tau^2])\n",
    "    mu, sigma_square, tau_square = x[0], x[1], x[2]\n",
    "    return 1/2*np.sum((D - mu)**2/(tau_square + sigma_square*u) \\\n",
    "            +np.log(tau_square + sigma_square*u)+np.log(2*pi))\n",
    "\n",
    "# Jacobian: the matrix of all its first-order partial derivatives\n",
    "def CO_jac_unknown_sigma(x, D, u):\n",
    "    mu, sigma_square, tau_square = x[0], x[1], x[2]\n",
    "    a = D - mu\n",
    "    b = tau_square + sigma_square * u\n",
    "    # convert the derivative with respect to sigma/tau, instead of sigma^2/tau^2\n",
    "    d_mu = np.sum(a / b)\n",
    "    d_sigma_square = (np.sum((a**2 * u) / b**2) - np.sum(u / b)) \n",
    "    d_tau_square = (np.sum(a**2 / b**2) - np.sum(1./ b))\n",
    "    return - np.array([d_mu, d_sigma_square, d_tau_square])\n",
    "\n",
    "def CO_nll_known_sigma(x, D, u):\n",
    "    # x = np.array([mu, sigma^2, tau^2])\n",
    "    mu, tau_square = x[0], x[1]\n",
    "    known_sigma_square = np.var(D)\n",
    "    return 1/2*np.sum((D - mu)**2/(tau_square + known_sigma_square*u) \\\n",
    "            +np.log(tau_square + known_sigma_square*u)+np.log(2*pi))\n",
    "\n",
    "def CO_jac_known_sigma(x, D, u):\n",
    "    mu, tau_square = x[0], x[1]\n",
    "    known_sigma_square = np.var(D)\n",
    "    a = D - mu\n",
    "    b = tau_square + known_sigma_square * u\n",
    "    # convert the derivative with respect to sigma/tau, instead of sigma^2/tau^2\n",
    "    d_mu = np.sum(a / b) \n",
    "    d_tau_square = (np.sum(a**2 / b**2) - np.sum(1./ b))\n",
    "    return - np.array([d_mu,d_tau_square])\n",
    "\n",
    "#S^2/sigma^2 ~ chi^2_{k-1}/(k-1)\n",
    "    S_square = np.var(D)# sample variance\n",
    "    k = D_array.shape[0]\n",
    "    S_sigma_square_ratio = chisquare(df = 99, size=None)/(k-1)\n",
    "    known_sigma_square = S_square/S_sigma_square_ratio\n",
    "    known_sigma = np.sqrt(known_sigma_square)\n",
    "    \n",
    "def CO_nll_known_sigma_chi(x, D, u):\n",
    "    # x = np.array([mu, sigma^2, tau^2])\n",
    "    mu, tau_square = x[0], x[1]\n",
    "    #S^2/sigma^2 ~ chi^2_{k-1}/(k-1)\n",
    "    S_square = np.var(D)# sample variance\n",
    "    k = D_array.shape[0]\n",
    "    S_sigma_square_ratio = chisquare(df = 99, size=None)/(k-1)\n",
    "    known_sigma_square = S_square/S_sigma_square_ratio\n",
    "    known_sigma = np.sqrt(known_sigma_square)\n",
    "    return 1/2*np.sum((D - mu)**2/(tau_square + known_sigma_square*u) \\\n",
    "            +np.log(tau_square + known_sigma_square*u)+np.log(2*pi))\n",
    "\n",
    "def CO_jac_known_sigma_chi(x, D, u):\n",
    "    mu, tau_square = x[0], x[1]\n",
    "    #S^2/sigma^2 ~ chi^2_{k-1}/(k-1)\n",
    "    S_square = np.var(D)# sample variance\n",
    "    k = D_array.shape[0]\n",
    "    S_sigma_square_ratio = chisquare(df = 99, size=None)/(k-1)\n",
    "    known_sigma_square = S_square/S_sigma_square_ratio\n",
    "    known_sigma = np.sqrt(known_sigma_square)\n",
    "    a = D - mu\n",
    "    b = tau_square + known_sigma_square * u\n",
    "    # convert the derivative with respect to sigma/tau, instead of sigma^2/tau^2\n",
    "    d_mu = np.sum(a / b) \n",
    "    d_tau_square = (np.sum(a**2 / b**2) - np.sum(1./ b))\n",
    "    return - np.array([d_mu,d_tau_square])"
   ]
  },
  {
   "cell_type": "code",
   "execution_count": 12,
   "metadata": {},
   "outputs": [],
   "source": [
    "def simulation_CO_unknown_sigma(D_array,u_array,stopping_criteria = 1e-10):\n",
    "    # random but resonable initial point\n",
    "    mu_0 = uniform(-2.0, 2.0)\n",
    "    sigma_0 = uniform(0., 15.)\n",
    "    tau_0 = uniform(0., 8.)\n",
    "    \n",
    "    sigma_square_0 = sigma_0**2\n",
    "    tau_square_0 = tau_0**2\n",
    "    \n",
    "    x0 = np.array([mu_0, sigma_square_0, tau_square_0])\n",
    "    bds = ((-np.inf, np.inf), (0, np.inf), (0, np.inf))\n",
    "    \n",
    "    minimizer = minimize(CO_nll_unknown_sigma, x0, args=(D_array, u_array), method=\"BFGS\", jac=CO_jac_unknown_sigma, bounds=bds, tol=stopping_criteria)   \n",
    "    mu_ast, sigma_square_ast, tau_square_ast = minimizer.x\n",
    "    n_iteration = minimizer.nit\n",
    "    return np.array([mu_ast, tau_square_ast, n_iteration])"
   ]
  },
  {
   "cell_type": "code",
   "execution_count": 13,
   "metadata": {},
   "outputs": [
    {
     "data": {
      "text/plain": [
       "array([-0.15454945,  2.76976995, 29.        ])"
      ]
     },
     "execution_count": 13,
     "metadata": {},
     "output_type": "execute_result"
    }
   ],
   "source": [
    "simulation_CO_unknown_sigma(D_array,u_array,stopping_criteria = 1e-10)"
   ]
  },
  {
   "cell_type": "code",
   "execution_count": 14,
   "metadata": {},
   "outputs": [],
   "source": [
    "def simulation_CO_known_sigma(D_array,u_array,stopping_criteria = 1e-10):\n",
    "    # random but resonable initial point\n",
    "    mu_0 = uniform(-2.0, 2.0)\n",
    "    tau_0 = uniform(0., 8.)\n",
    "    tau_square_0 = tau_0**2\n",
    "    \n",
    "    x0 = np.array([mu_0, tau_square_0])\n",
    "    bds = ((-np.inf, np.inf), (0, np.inf))\n",
    "    \n",
    "    minimizer = minimize(CO_nll_known_sigma, x0, args=(D_array, u_array), method=\"BFGS\", jac=CO_jac_known_sigma, bounds=bds, tol=stopping_criteria)   \n",
    "    mu_ast, tau_square_ast = minimizer.x\n",
    "    n_iteration = minimizer.nit\n",
    "    return np.array([mu_ast, tau_square_ast, n_iteration])"
   ]
  },
  {
   "cell_type": "code",
   "execution_count": 15,
   "metadata": {},
   "outputs": [
    {
     "data": {
      "text/plain": [
       "array([-0.15951636,  3.86366384, 15.        ])"
      ]
     },
     "execution_count": 15,
     "metadata": {},
     "output_type": "execute_result"
    }
   ],
   "source": [
    "simulation_CO_known_sigma(D_array,u_array,stopping_criteria = 1e-10)"
   ]
  },
  {
   "cell_type": "code",
   "execution_count": 62,
   "metadata": {},
   "outputs": [],
   "source": [
    "def simulation_CO_known_sigma_chi(D_array,u_array,stopping_criteria = 1e-10):\n",
    "    # random but resonable initial point\n",
    "    mu_0 = uniform(-2.0, 2.0)\n",
    "    tau_0 = uniform(0., 8.)\n",
    "    tau_square_0 = tau_0**2\n",
    "    \n",
    "    x0 = np.array([mu_0, tau_square_0])\n",
    "    bds = ((-np.inf, np.inf), (0, np.inf))\n",
    "    \n",
    "    minimizer = minimize(CO_nll_known_sigma_chi, x0, args=(D_array, u_array), method=\"BFGS\", jac=CO_jac_known_sigma_chi, bounds=bds, tol=stopping_criteria)   \n",
    "    mu_ast, tau_square_ast = minimizer.x\n",
    "    n_iteration = minimizer.nit\n",
    "    return np.array([mu_ast, tau_square_ast, n_iteration])"
   ]
  },
  {
   "cell_type": "code",
   "execution_count": 63,
   "metadata": {},
   "outputs": [
    {
     "data": {
      "text/plain": [
       "array([-0.15951636,  3.86366385, 12.        ])"
      ]
     },
     "execution_count": 63,
     "metadata": {},
     "output_type": "execute_result"
    }
   ],
   "source": [
    "simulation_CO_known_sigma(D_array,u_array,stopping_criteria = 1e-10)"
   ]
  },
  {
   "cell_type": "markdown",
   "metadata": {},
   "source": [
    "### method 3: fixed point algorithm (using sigma^2/tau^2 as the stopping criteria)"
   ]
  },
  {
   "cell_type": "markdown",
   "metadata": {},
   "source": [
    "### starting value: $$\\hat{\\tau}_0^2 = 0$$\n",
    "$$\\hat{\\mu}_0 = \\frac{\\sum \\limits_{i=1}^{k} \\frac{D_i}{u_i}}{\\sum \\limits_{i=1}^{k} \\frac{1}{u_i}}$$"
   ]
  },
  {
   "cell_type": "markdown",
   "metadata": {},
   "source": [
    "### iterative process\n",
    "$$\\mu_{s+1} = \\frac{\\sum \\limits_{i=1}^{k} \\frac{D_i}{\\tau_{s}^2+\\sigma^2 u_i}}{\\sum \\limits_{i=1}^{k} \\frac{1}{\\tau_{s}^2+\\sigma^2 u_i}}$$\n",
    "\n",
    "$$\\Rightarrow \\tau_{s+1}^2 = \\frac{\\sum \\limits_{i=1}^{k} \\frac{(D_i - \\mu_{s})^2 - \\sigma^2 u_i}{(\\tau_{s}^2 + \\sigma^2 u_i)^2}}{\\sum \\limits_{i=1}^{k} \\frac{1}{(\\tau_{s}^2 + \\sigma^2 u_i)^2}}$$\n",
    "where $\\sigma^2$ is known from the beginning"
   ]
  },
  {
   "cell_type": "code",
   "execution_count": 16,
   "metadata": {},
   "outputs": [],
   "source": [
    "# function for finding estimated mu/sigma^2/tau^2 for given D_array and u_array\n",
    "# using fixed point algrithm with unknown sigma\n",
    "def simulation_FP_unknown_sigma(D_array,u_array,stopping_criteria = 1e-10,max_iter=1000):\n",
    "    k = D_array.shape[0]\n",
    "    u_inv_array = 1/u_array\n",
    "    # starting value\n",
    "    tau_square_hat_0 = 0\n",
    "    mu_hat_0 = np.sum(D_array*u_inv_array)/np.sum(u_inv_array)\n",
    "    sigma_square_hat_0 = 1/k*np.sum((D_array - mu_hat_0)**2/u_array)\n",
    "    \n",
    "    log_likelihood = -1/2*np.sum((D_array - mu_hat_0)**2/(tau_square_hat_0 + sigma_square_hat_0*u_array)+np.log(tau_square_hat_0 + sigma_square_hat_0*u_array)+np.log(2*pi))\n",
    "    #print('The log likelihood corresponding to starting values is', log_likelihood)\n",
    "\n",
    "    mu = mu_hat_0\n",
    "    tau_square = tau_square_hat_0\n",
    "    sigma_square = sigma_square_hat_0\n",
    "    \n",
    "    #########\n",
    "    count = 0\n",
    "    error = 1\n",
    "    \n",
    "    while (error > stopping_criteria) and (count < max_iter):\n",
    "\n",
    "        # calculate the common terms firstly to avoid repeated calculation\n",
    "        common_term = 1/(tau_square + sigma_square*u_array)\n",
    "        common_term_square = common_term**2\n",
    "        D_minus_u_square = (D_array - mu)**2\n",
    "\n",
    "        # iterative equations\n",
    "        mu_updated = np.sum(D_array*common_term) / np.sum(common_term)\n",
    "        sigma_square_updated = np.sum((D_minus_u_square*u_array - tau_square*u_array)*common_term_square)/np.sum(u_array**2*common_term_square)\n",
    "        tau_square_updated = np.sum((D_minus_u_square - sigma_square*u_array)*common_term_square)/np.sum(common_term_square)\n",
    "        log_likelihood = -1/2*np.sum((D_array - mu_updated)**2/(tau_square_updated + sigma_square_updated*u_array)+np.log(tau_square_updated + sigma_square_updated*u_array)+np.log(2*pi))\n",
    "        #print('log_likelihood',log_likelihood)\n",
    "            \n",
    "        # instead of discarding instances where sigma^2 or tau^2 is negative\n",
    "        # continue to update other parameters while fixing one at zero\n",
    "        if (sigma_square_updated) < 0 or (np.isnan(sigma_square_updated)==True):\n",
    "            sigma_square_updated = 0 \n",
    "        if tau_square_updated < 0 or (np.isnan(tau_square_updated)==True):\n",
    "            tau_square_updated = 0 \n",
    "\n",
    "            \n",
    "        error = max(abs(mu_updated-mu),abs(sigma_square_updated-sigma_square),abs(tau_square_updated-tau_square))\n",
    "        #print('max error = ',error)\n",
    "\n",
    "        mu = mu_updated\n",
    "        sigma_square = sigma_square_updated\n",
    "        tau_square = tau_square_updated\n",
    "        count += 1\n",
    "    \n",
    "    return np.array([mu,tau_square,count])"
   ]
  },
  {
   "cell_type": "code",
   "execution_count": 17,
   "metadata": {},
   "outputs": [],
   "source": [
    "# function for finding estimated mu/tau^2 for given D_array and u_array\n",
    "# using fixed point algrithm with known sigma\n",
    "def simulation_FP_known_sigma(D_array,u_array,stopping_criteria = 1e-10,max_iter=1000):\n",
    "    u_inv_array = 1/u_array\n",
    "    known_sigma_1 = np.std(D_array)\n",
    "    known_sigma_sqaure_1 = np.var(D_array)\n",
    "    # starting value\n",
    "    tau_square_hat_0 = 0\n",
    "    mu_hat_0 = np.sum(D_array*u_inv_array)/np.sum(u_inv_array)\n",
    "\n",
    "    # log-likelihood function\n",
    "    log_likelihood = -1/2*np.sum((D_array - mu_hat_0)**2/(tau_square_hat_0 + known_sigma_sqaure_1*u_array)+np.log(tau_square_hat_0 + known_sigma_sqaure_1*u_array)+np.log(2*pi))\n",
    "    #print(log_likelihood)\n",
    "    mu = mu_hat_0\n",
    "    tau_square = tau_square_hat_0\n",
    "\n",
    "    #########\n",
    "    count = 0\n",
    "    error = 1\n",
    "    while (error > stopping_criteria) and (count < max_iter):\n",
    "        # calculate the common terms firstly to avoid repeated calculation\n",
    "        common_term = 1/(tau_square + known_sigma_sqaure_1*u_array)\n",
    "        common_term_square = common_term**2\n",
    "        # iterative equations\n",
    "        mu_updated = np.sum(D_array*common_term)/np.sum(common_term)\n",
    "        tau_square_updated = np.sum(((D_array-mu)**2-known_sigma_sqaure_1*u_array)*common_term_square)/np.sum(common_term_square)\n",
    "        log_likelihood = -1/2*np.sum((D_array - mu_updated)**2/(tau_square_updated + known_sigma_sqaure_1*u_array)+np.log(tau_square_updated + known_sigma_sqaure_1*u_array)+np.log(2*pi))\n",
    "        #print(log_likelihood)\n",
    "\n",
    "        # instead of discarding instances where tau^2 is negative\n",
    "        # continue to update other parameters while fixing it at zero\n",
    "        if tau_square_updated < 0 or (np.isnan(tau_square_updated)==True):\n",
    "            tau_square_updated = 0 \n",
    "\n",
    "        error = max(abs(mu_updated-mu), abs(tau_square_updated-tau_square))\n",
    "        #print('max error = ',error)\n",
    "\n",
    "        mu = mu_updated\n",
    "        tau_square = tau_square_updated\n",
    "        count += 1\n",
    "    return np.array([mu,tau_square,count])\n"
   ]
  },
  {
   "cell_type": "code",
   "execution_count": 41,
   "metadata": {},
   "outputs": [
    {
     "name": "stdout",
     "output_type": "stream",
     "text": [
      "107.14609940062996\n"
     ]
    }
   ],
   "source": [
    "c = chisquare(df = 99, size=None)\n",
    "print(c)\n"
   ]
  },
  {
   "cell_type": "code",
   "execution_count": 42,
   "metadata": {},
   "outputs": [],
   "source": [
    "# function for finding estimated mu/tau^2 for given D_array and u_array\n",
    "# using fixed point algrithm with known sigma\n",
    "def simulation_FP_known_sigma_chi(D_array,u_array,stopping_criteria = 1e-10,max_iter=1000):\n",
    "    u_inv_array = 1/u_array\n",
    "    \n",
    "    #S^2/sigma^2 ~ chi^2_{k-1}/(k-1)\n",
    "    S = np.std(D_array) #sample standard deviation\n",
    "    S_square = np.var(D_array) #sample variance\n",
    "    k = D_array.shape[0]\n",
    "    S_sigma_square_ratio = chisquare(df = 99, size=None)/(k-1)\n",
    "    known_sigma_sqaure_2 = S_square/S_sigma_square_ratio\n",
    "    known_sigma_2 = np.sqrt(known_sigma_sqaure_2)\n",
    "    \n",
    "    # starting value\n",
    "    tau_square_hat_0 = 0\n",
    "    mu_hat_0 = np.sum(D_array*u_inv_array)/np.sum(u_inv_array)\n",
    "\n",
    "    # log-likelihood function\n",
    "    log_likelihood = -1/2*np.sum((D_array - mu_hat_0)**2/(tau_square_hat_0 + known_sigma_sqaure_2*u_array)+np.log(tau_square_hat_0 + known_sigma_sqaure_2*u_array)+np.log(2*pi))\n",
    "    #print(log_likelihood)\n",
    "    mu = mu_hat_0\n",
    "    tau_square = tau_square_hat_0\n",
    "\n",
    "    #########\n",
    "    count = 0\n",
    "    error = 1\n",
    "    while (error > stopping_criteria) and (count < max_iter):\n",
    "        # calculate the common terms firstly to avoid repeated calculation\n",
    "        common_term = 1/(tau_square + known_sigma_sqaure_2*u_array)\n",
    "        common_term_square = common_term**2\n",
    "        # iterative equations\n",
    "        mu_updated = np.sum(D_array*common_term)/np.sum(common_term)\n",
    "        tau_square_updated = np.sum(((D_array-mu)**2-known_sigma_sqaure_2*u_array)*common_term_square)/np.sum(common_term_square)\n",
    "        log_likelihood = -1/2*np.sum((D_array - mu_updated)**2/(tau_square_updated + known_sigma_sqaure_2*u_array)+np.log(tau_square_updated + known_sigma_sqaure_2*u_array)+np.log(2*pi))\n",
    "        #print(log_likelihood)\n",
    "\n",
    "        # instead of discarding instances where tau^2 is negative\n",
    "        # continue to update other parameters while fixing it at zero\n",
    "        if tau_square_updated < 0 or (np.isnan(tau_square_updated)==True):\n",
    "            tau_square_updated = 0 \n",
    "\n",
    "        error = max(abs(mu_updated-mu), abs(tau_square_updated-tau_square))\n",
    "        #print('max error = ',error)\n",
    "\n",
    "        mu = mu_updated\n",
    "        tau_square = tau_square_updated\n",
    "        count += 1\n",
    "    return np.array([mu,tau_square,count])\n"
   ]
  },
  {
   "cell_type": "code",
   "execution_count": 18,
   "metadata": {},
   "outputs": [
    {
     "data": {
      "text/plain": [
       "array([-1.54549440e-01,  2.76976986e+00,  2.02000000e+02])"
      ]
     },
     "execution_count": 18,
     "metadata": {},
     "output_type": "execute_result"
    }
   ],
   "source": [
    "simulation_FP_unknown_sigma(D_array,u_array,stopping_criteria = 1e-10,max_iter=1000)"
   ]
  },
  {
   "cell_type": "code",
   "execution_count": 19,
   "metadata": {},
   "outputs": [
    {
     "data": {
      "text/plain": [
       "array([-0.15951636,  3.86366385,  7.        ])"
      ]
     },
     "execution_count": 19,
     "metadata": {},
     "output_type": "execute_result"
    }
   ],
   "source": [
    "simulation_FP_known_sigma(D_array,u_array,stopping_criteria = 1e-10,max_iter=1000)"
   ]
  },
  {
   "cell_type": "code",
   "execution_count": null,
   "metadata": {},
   "outputs": [],
   "source": []
  },
  {
   "cell_type": "code",
   "execution_count": null,
   "metadata": {},
   "outputs": [],
   "source": []
  },
  {
   "cell_type": "markdown",
   "metadata": {},
   "source": [
    "### simulation results and plots from all the three methods"
   ]
  },
  {
   "cell_type": "code",
   "execution_count": 20,
   "metadata": {},
   "outputs": [],
   "source": [
    "# summarize the simulation results from each methods into the form of [bias, standard_error, mse]\n",
    "def method_info(method_array):\n",
    "    # input: method_array has the shape (4,4,2,n_replication)\n",
    "    # output: method_info has the shape (4,4,2,3)\n",
    "    # for all the combination of theoretical mu/sigma^2/tau^2, we all have mu=0\n",
    "    method_bias = np.mean(method_array,axis=3)\n",
    "    method_std = np.std(method_array,axis=3)\n",
    "    method_mse = method_bias**2 + method_std**2\n",
    "    \n",
    "    method_info_array = np.stack((method_bias, method_std, method_mse), axis = 3) \n",
    "    \n",
    "    return method_info_array"
   ]
  },
  {
   "cell_type": "code",
   "execution_count": 21,
   "metadata": {
    "scrolled": true
   },
   "outputs": [
    {
     "name": "stdout",
     "output_type": "stream",
     "text": [
      "CPU times: user 6min 16s, sys: 243 ms, total: 6min 16s\n",
      "Wall time: 6min 16s\n"
     ]
    }
   ],
   "source": [
    "%%time\n",
    "n_replication = 1000\n",
    "\n",
    "#(J^2,k,parameters,replication)\n",
    "# where parameters = mu/tau^2\n",
    "UC_unknown_sigma_array, UC_known_sigma_array = np.empty((4,4,2,n_replication)),np.empty((4,4,2,n_replication))\n",
    "#UC_unknown_sigma_info, UC_known_sigma_info = np.empty((4,4,2,3)),np.empty((4,4,2,3)) # 3 -> bias/standard_error/mse\n",
    "UC_unknown_sigma_counts, UC_known_sigma_counts = np.empty((4,4,n_replication)),np.empty((4,4,n_replication))\n",
    "\n",
    "CO_unknown_sigma_array, CO_known_sigma_array = np.empty((4,4,2,n_replication)),np.empty((4,4,2,n_replication))\n",
    "CO_unknown_sigma_info, CO_known_sigma_info = np.empty((4,4,2,3)),np.empty((4,4,2,3))\n",
    "CO_unknown_sigma_counts, CO_known_sigma_counts = np.empty((4,4,n_replication)),np.empty((4,4,n_replication))\n",
    "\n",
    "FP_unknown_sigma_array, FP_known_sigma_array = np.empty((4,4,2,n_replication)),np.empty((4,4,2,n_replication))\n",
    "FP_unknown_sigma_info, FP_known_sigma_info = np.empty((4,4,2,3)),np.empty((4,4,2,3))\n",
    "FP_unknown_sigma_counts, FP_known_sigma_counts = np.empty((4,4,n_replication)),np.empty((4,4,n_replication))\n",
    "\n",
    "# parameter_constellation: (mu, sigma^2,tau^2) = (0,12,4)/(0,9,4)/(0,4,4)/(0,2,6)\n",
    "for r in range(n_replication):\n",
    "    for i in range(4):\n",
    "        para_combination = parameter_constellation[i]\n",
    "        mu_for_simulation = para_combination[0]\n",
    "        sigma_square_for_simulation = para_combination[1]\n",
    "        tau_square_for_simulation = para_combination[2]\n",
    "\n",
    "        sigma_for_simulation = np.sqrt(sigma_square_for_simulation)\n",
    "        tau_for_simulation = np.sqrt(tau_square_for_simulation)\n",
    "        for j in range(4):\n",
    "            k = k_list[j]\n",
    "            each_replication_array = array_generator(k,mu_for_simulation,sigma_for_simulation,tau_for_simulation)\n",
    "            each_replication_u_array = each_replication_array[0]\n",
    "            each_replication_D_array = each_replication_array[1]\n",
    "            \n",
    "            # UC with unknown sigma\n",
    "            UC_unknown_simulation = simulation_UC_unknown_sigma(each_replication_D_array,each_replication_u_array)\n",
    "            UC_unknown_sigma_array[i][j][0][r] = UC_unknown_simulation[0] #the estimated value of mu\n",
    "            UC_unknown_sigma_array[i][j][1][r] = UC_unknown_simulation[1] #the estimated value of tau^2\n",
    "            UC_unknown_sigma_counts[i][j][r] = UC_unknown_simulation[2] # number of counts\n",
    "            \n",
    "            # UC with known sigma\n",
    "            UC_known_simulation = simulation_UC_known_sigma(each_replication_D_array,each_replication_u_array)\n",
    "            UC_known_sigma_array[i][j][0][r] = UC_known_simulation[0]\n",
    "            UC_known_sigma_array[i][j][1][r] = UC_known_simulation[1]\n",
    "            UC_known_sigma_counts[i][j][r] = UC_known_simulation[2]\n",
    "\n",
    "            # CO with unknown sigma\n",
    "            CO_unknown_simulation = simulation_CO_unknown_sigma(each_replication_D_array,each_replication_u_array)\n",
    "            CO_unknown_sigma_array[i][j][0][r] = CO_unknown_simulation[0] \n",
    "            CO_unknown_sigma_array[i][j][1][r] = CO_unknown_simulation[1] \n",
    "            CO_unknown_sigma_counts[i][j][r] = CO_unknown_simulation[2] \n",
    "            \n",
    "            # CO with known sigma\n",
    "            CO_known_simulation = simulation_CO_known_sigma(each_replication_D_array,each_replication_u_array)\n",
    "            CO_known_sigma_array[i][j][0][r] = CO_known_simulation[0]\n",
    "            CO_known_sigma_array[i][j][1][r] = CO_known_simulation[1]\n",
    "            CO_known_sigma_counts[i][j][r] = CO_known_simulation[2]\n",
    "\n",
    "            # FP with unknown sigma\n",
    "            FP_unknown_simulation = simulation_FP_unknown_sigma(each_replication_D_array,each_replication_u_array)\n",
    "            FP_unknown_sigma_array[i][j][0][r] = FP_unknown_simulation[0] \n",
    "            FP_unknown_sigma_array[i][j][1][r] = FP_unknown_simulation[1] \n",
    "            FP_unknown_sigma_counts[i][j][r] = FP_unknown_simulation[2] \n",
    "            \n",
    "            # FP with known sigma\n",
    "            FP_known_simulation = simulation_FP_known_sigma(each_replication_D_array,each_replication_u_array)\n",
    "            FP_known_sigma_array[i][j][0][r] = FP_known_simulation[0]\n",
    "            FP_known_sigma_array[i][j][1][r] = FP_known_simulation[1]\n",
    "            FP_known_sigma_counts[i][j][r] = FP_known_simulation[2]"
   ]
  },
  {
   "cell_type": "code",
   "execution_count": 22,
   "metadata": {},
   "outputs": [
    {
     "name": "stdout",
     "output_type": "stream",
     "text": [
      "CPU times: user 1.53 ms, sys: 729 µs, total: 2.26 ms\n",
      "Wall time: 1.49 ms\n"
     ]
    }
   ],
   "source": [
    "%%time\n",
    "# summarize the simulation results into the form of [bias, standard_error, mse]\n",
    "UC_unknown_sigma_info = method_info(UC_unknown_sigma_array)\n",
    "UC_known_sigma_info = method_info(UC_known_sigma_array)\n",
    "\n",
    "CO_unknown_sigma_info = method_info(CO_unknown_sigma_array)\n",
    "CO_known_sigma_info = method_info(CO_known_sigma_array)\n",
    "\n",
    "FP_unknown_sigma_info = method_info(FP_unknown_sigma_array)\n",
    "FP_known_sigma_info = method_info(FP_known_sigma_array)"
   ]
  },
  {
   "cell_type": "code",
   "execution_count": 23,
   "metadata": {},
   "outputs": [],
   "source": [
    "# the bias/standard error/ mse ratio of tau^2 with unknown/known sigma\n",
    "# [bias, standard error, mse]\n",
    "UC_unknown_sigma_tau_square= UC_unknown_sigma_info[:,:,1,:]\n",
    "UC_known_sigma_tau_square = UC_known_sigma_info[:,:,1,:]\n",
    "UC_tau_square_ratio_array = UC_unknown_sigma_tau_square/UC_known_sigma_tau_square\n",
    "\n",
    "CO_unknown_sigma_tau_square= CO_unknown_sigma_info[:,:,1,:]\n",
    "CO_known_sigma_tau_square = CO_known_sigma_info[:,:,1,:]\n",
    "CO_tau_square_ratio_array = CO_unknown_sigma_tau_square/CO_known_sigma_tau_square\n",
    "\n",
    "FP_unknown_sigma_tau_square= FP_unknown_sigma_info[:,:,1,:]\n",
    "FP_known_sigma_tau_square = FP_known_sigma_info[:,:,1,:]\n",
    "FP_tau_square_ratio_array = FP_unknown_sigma_tau_square/FP_known_sigma_tau_square\n"
   ]
  },
  {
   "cell_type": "code",
   "execution_count": 24,
   "metadata": {},
   "outputs": [],
   "source": [
    "def plot_for_comparison(measurement,x_axis, k = 100, J_square = 0.25, handler=plt):\n",
    "    measurement_dict = {'bias':0, 'standard_error':1, 'mse':2}\n",
    "    measurement_index = measurement_dict[measurement]\n",
    "    \n",
    "    # when comparing all the three methods with varying k, we fix J^2 = 0.25 by default\n",
    "    if x_axis == 'k':\n",
    "        x  = k_list\n",
    "        J_square_index = J_square_list.index(J_square)\n",
    "        UC_ratio = UC_tau_square_ratio_array[J_square_index,:,measurement_index]\n",
    "        CO_ratio = CO_tau_square_ratio_array[J_square_index,:,measurement_index]\n",
    "        FP_ratio = FP_tau_square_ratio_array[J_square_index,:,measurement_index]\n",
    "        \n",
    "        handler.scatter(x,UC_ratio)\n",
    "        handler.plot(x,UC_ratio,label='UC')\n",
    "        handler.scatter(x,CO_ratio)\n",
    "        handler.plot(x,CO_ratio,label='CO')\n",
    "        handler.scatter(x,FP_ratio)\n",
    "        handler.plot(x,FP_ratio,label='FP')\n",
    "        handler.legend()\n",
    "        handler.set_xlabel('k')\n",
    "        handler.set_ylabel('ratio')\n",
    "        handler.set_title('The '+measurement+ ' ratio of tau square (J^2 = '+str(J_square)+')')\n",
    "        handler.hlines(y=1,xmin=10,xmax=100,linestyles='dashed')\n",
    "        \n",
    "    if x_axis == 'J^2':\n",
    "        x = J_square_list\n",
    "        k_index = k_list.index(k)\n",
    "        UC_ratio = UC_tau_square_ratio_array[:,k_index,measurement_index]\n",
    "        CO_ratio = CO_tau_square_ratio_array[:,k_index,measurement_index]\n",
    "        FP_ratio = FP_tau_square_ratio_array[:,k_index,measurement_index]\n",
    "        \n",
    "        handler.scatter(x,UC_ratio)\n",
    "        handler.plot(x,UC_ratio,label='UC')\n",
    "        handler.scatter(x,CO_ratio)\n",
    "        handler.plot(x,CO_ratio,label='CO')\n",
    "        handler.scatter(x,FP_ratio)\n",
    "        handler.plot(x,FP_ratio,label='FP')\n",
    "        handler.legend()\n",
    "        handler.set_xlabel('J^2')\n",
    "        handler.set_ylabel('ratio')\n",
    "        handler.set_title('The '+measurement+ ' ratio of tau square (k = '+str(k)+')')\n",
    "        handler.hlines(y=1,xmin=min(J_square_list),xmax=max(J_square_list),linestyles='dashed')\n",
    "    return"
   ]
  },
  {
   "cell_type": "code",
   "execution_count": 25,
   "metadata": {},
   "outputs": [
    {
     "data": {
      "image/png": "[encoded data removed]",
      "text/plain": [
       "<Figure size 1152x576 with 4 Axes>"
      ]
     },
     "metadata": {
      "needs_background": "light"
     },
     "output_type": "display_data"
    }
   ],
   "source": [
    "# plot of the standard_error ratio of tau square when J_sqaure = 0.25/0.31/0.5/0.75\n",
    "fig = plt.figure(figsize=(16,8)) \n",
    "ax = fig.add_subplot(2,2,1)\n",
    "plot_for_comparison(measurement='standard_error',x_axis='k', k = 100, J_square = 0.25, handler=ax)\n",
    "ax = fig.add_subplot(2,2,2)\n",
    "plot_for_comparison(measurement='standard_error',x_axis='k', k = 100, J_square = 0.3076923076923077, handler=ax)\n",
    "ax = fig.add_subplot(2,2,3)\n",
    "plot_for_comparison(measurement='standard_error',x_axis='k', k = 100, J_square = 0.5, handler=ax)\n",
    "ax = fig.add_subplot(2,2,4)\n",
    "plot_for_comparison(measurement='standard_error',x_axis='k', k = 100, J_square = 0.75, handler=ax)"
   ]
  },
  {
   "cell_type": "markdown",
   "metadata": {},
   "source": [
    "### using the scaled chi square distribution (with degree of freedom (n-1)) for the esimated known sigma"
   ]
  },
  {
   "cell_type": "markdown",
   "metadata": {},
   "source": [
    "if $D_1, D_2,...,D_n$ are iid N(\\mu, \\sigma) are random variables, then\n",
    "$$\\frac{(n-1)}{\\sigma^2} S^2 \\sim \\chi_{n-1}^2$$\n",
    "$$ S^2 \\sim \\sigma^2 \\cdot \\frac{\\chi^2_{n-1}}{(n-1)}$$"
   ]
  },
  {
   "cell_type": "code",
   "execution_count": null,
   "metadata": {},
   "outputs": [],
   "source": [
    "%%time\n",
    "n_replication = 1000\n",
    "\n",
    "#(J^2,k,parameters,replication)\n",
    "# where parameters = mu/tau^2\n",
    "UC_unknown_sigma_array2, UC_known_sigma_array2 = np.empty((4,4,2,n_replication)),np.empty((4,4,2,n_replication))\n",
    "UC_unknown_sigma_info2, UC_known_sigma_info2 = np.empty((4,4,2,3)),np.empty((4,4,2,3)) # 3 -> bias/standard_error/mse\n",
    "UC_unknown_sigma_counts2, UC_known_sigma_counts2 = np.empty((4,4,n_replication)),np.empty((4,4,n_replication))\n",
    "\n",
    "CO_unknown_sigma_array2, CO_known_sigma_array2 = np.empty((4,4,2,n_replication)),np.empty((4,4,2,n_replication))\n",
    "CO_unknown_sigma_info2, CO_known_sigma_info2 = np.empty((4,4,2,3)),np.empty((4,4,2,3))\n",
    "CO_unknown_sigma_counts2, CO_known_sigma_counts2 = np.empty((4,4,n_replication)),np.empty((4,4,n_replication))\n",
    "\n",
    "FP_unknown_sigma_array2, FP_known_sigma_array2 = np.empty((4,4,2,n_replication)),np.empty((4,4,2,n_replication))\n",
    "FP_unknown_sigma_info2, FP_known_sigma_info2 = np.empty((4,4,2,3)),np.empty((4,4,2,3))\n",
    "FP_unknown_sigma_counts2, FP_known_sigma_counts2 = np.empty((4,4,n_replication)),np.empty((4,4,n_replication))\n",
    "\n",
    "# parameter_constellation: (mu, sigma^2,tau^2) = (0,12,4)/(0,9,4)/(0,4,4)/(0,2,6)\n",
    "for r in range(n_replication):\n",
    "    for i in range(4):\n",
    "        para_combination = parameter_constellation[i]\n",
    "        mu_for_simulation = para_combination[0]\n",
    "        sigma_square_for_simulation = para_combination[1]\n",
    "        tau_square_for_simulation = para_combination[2]\n",
    "\n",
    "        sigma_for_simulation = np.sqrt(sigma_square_for_simulation)\n",
    "        tau_for_simulation = np.sqrt(tau_square_for_simulation)\n",
    "        for j in range(4):\n",
    "            k = k_list[j]\n",
    "            each_replication_array = array_generator(k,mu_for_simulation,sigma_for_simulation,tau_for_simulation)\n",
    "            each_replication_u_array = each_replication_array[0]\n",
    "            each_replication_D_array = each_replication_array[1]\n",
    "            \n",
    "            # UC with unknown sigma\n",
    "            UC_unknown_simulation2 = simulation_UC_unknown_sigma(each_replication_D_array,each_replication_u_array)\n",
    "            UC_unknown_sigma_array2[i][j][0][r] = UC_unknown_simulation2[0] #the estimated value of mu\n",
    "            UC_unknown_sigma_array2[i][j][1][r] = UC_unknown_simulation2[1] #the estimated value of tau^2\n",
    "            UC_unknown_sigma_counts2[i][j][r] = UC_unknown_simulation2[2] # number of counts\n",
    "            \n",
    "            # UC with known sigma\n",
    "            UC_known_simulation2 = simulation_UC_known_sigma_chi(each_replication_D_array,each_replication_u_array)\n",
    "            UC_known_sigma_array2[i][j][0][r] = UC_known_simulation2[0]\n",
    "            UC_known_sigma_array2[i][j][1][r] = UC_known_simulation2[1]\n",
    "            UC_known_sigma_counts2[i][j][r] = UC_known_simulation2[2]\n",
    "\n",
    "            # CO with unknown sigma\n",
    "            CO_unknown_simulation2 = simulation_CO_unknown_sigma(each_replication_D_array,each_replication_u_array)\n",
    "            CO_unknown_sigma_array2[i][j][0][r] = CO_unknown_simulation2[0] \n",
    "            CO_unknown_sigma_array2[i][j][1][r] = CO_unknown_simulation2[1] \n",
    "            CO_unknown_sigma_counts2[i][j][r] = CO_unknown_simulation2[2] \n",
    "            \n",
    "            # CO with known sigma\n",
    "            CO_known_simulation2 = simulation_CO_known_sigma_chi(each_replication_D_array,each_replication_u_array)\n",
    "            CO_known_sigma_array2[i][j][0][r] = CO_known_simulation2[0]\n",
    "            CO_known_sigma_array2[i][j][1][r] = CO_known_simulation2[1]\n",
    "            CO_known_sigma_counts2[i][j][r] = CO_known_simulation2[2]\n",
    "            \n",
    "            # FP with unknown sigma\n",
    "            FP_unknown_simulation2 = simulation_FP_unknown_sigma(each_replication_D_array,each_replication_u_array)\n",
    "            FP_unknown_sigma_array2[i][j][0][r] = FP_unknown_simulation2[0] \n",
    "            FP_unknown_sigma_array2[i][j][1][r] = FP_unknown_simulation2[1] \n",
    "            FP_unknown_sigma_counts2[i][j][r] = FP_unknown_simulation2[2] \n",
    "            \n",
    "            # FP with known sigma\n",
    "            FP_known_simulation2 = simulation_FP_known_sigma_chi(each_replication_D_array,each_replication_u_array)\n",
    "            FP_known_sigma_array2[i][j][0][r] = FP_known_simulation2[0]\n",
    "            FP_known_sigma_array2[i][j][1][r] = FP_known_simulation2[1]\n",
    "            FP_known_sigma_counts2[i][j][r] = FP_known_simulation2[2]"
   ]
  },
  {
   "cell_type": "code",
   "execution_count": null,
   "metadata": {},
   "outputs": [],
   "source": [
    "%%time\n",
    "# summarize the simulation results into the form of [bias, standard_error, mse]\n",
    "UC_unknown_sigma_info2 = method_info(UC_unknown_sigma_array2)\n",
    "UC_known_sigma_info2 = method_info(UC_known_sigma_array2)\n",
    "\n",
    "CO_unknown_sigma_info2 = method_info(CO_unknown_sigma_array2)\n",
    "CO_known_sigma_info2 = method_info(CO_known_sigma_array2)\n",
    "\n",
    "FP_unknown_sigma_info2 = method_info(FP_unknown_sigma_array2)\n",
    "FP_known_sigma_info2 = method_info(FP_known_sigma_array2)"
   ]
  },
  {
   "cell_type": "code",
   "execution_count": null,
   "metadata": {},
   "outputs": [],
   "source": [
    "# the bias/standard error/ mse ratio of tau^2 with unknown/known sigma\n",
    "# [bias, standard error, mse]\n",
    "UC_unknown_sigma_tau_square2= UC_unknown_sigma_info2[:,:,1,:]\n",
    "UC_known_sigma_tau_square2 = UC_known_sigma_info2[:,:,1,:]\n",
    "UC_tau_square_ratio_array2 = UC_unknown_sigma_tau_square2/UC_known_sigma_tau_square2\n",
    "\n",
    "CO_unknown_sigma_tau_square2= CO_unknown_sigma_info2[:,:,1,:]\n",
    "CO_known_sigma_tau_square2 = CO_known_sigma_info2[:,:,1,:]\n",
    "CO_tau_square_ratio_array2 = CO_unknown_sigma_tau_square2/CO_known_sigma_tau_square2\n",
    "\n",
    "FP_unknown_sigma_tau_square2 = FP_unknown_sigma_info2[:,:,1,:]\n",
    "FP_known_sigma_tau_square2 = FP_known_sigma_info2[:,:,1,:]\n",
    "FP_tau_square_ratio_array2 = FP_unknown_sigma_tau_square2/FP_known_sigma_tau_square2\n"
   ]
  },
  {
   "cell_type": "code",
   "execution_count": null,
   "metadata": {},
   "outputs": [],
   "source": [
    "def plot_for_comparison2(measurement,x_axis, k = 100, J_square = 0.25, handler=plt):\n",
    "    measurement_dict = {'bias':0, 'standard_error':1, 'mse':2}\n",
    "    measurement_index = measurement_dict[measurement]\n",
    "    \n",
    "    # when comparing all the three methods with varying k, we fix J^2 = 0.25 by default\n",
    "    if x_axis == 'k':\n",
    "        x  = k_list\n",
    "        J_square_index = J_square_list.index(J_square)\n",
    "        UC_ratio = UC_tau_square_ratio_array2[J_square_index,:,measurement_index]\n",
    "        CO_ratio = CO_tau_square_ratio_array2[J_square_index,:,measurement_index]\n",
    "        FP_ratio = FP_tau_square_ratio_array2[J_square_index,:,measurement_index]\n",
    "        \n",
    "        handler.scatter(x,UC_ratio)\n",
    "        handler.plot(x,UC_ratio,label='UC')\n",
    "        handler.scatter(x,CO_ratio)\n",
    "        handler.plot(x,CO_ratio,label='CO')\n",
    "        handler.scatter(x,FP_ratio)\n",
    "        handler.plot(x,FP_ratio,label='FP')\n",
    "        handler.legend()\n",
    "        handler.set_xlabel('k')\n",
    "        handler.set_ylabel('ratio')\n",
    "        handler.set_title('The '+measurement+ ' ratio of tau square (J^2 = '+str(J_square)+')')\n",
    "        handler.hlines(y=1,xmin=10,xmax=100,linestyles='dashed')\n",
    "        \n",
    "    if x_axis == 'J^2':\n",
    "        x = J_square_list\n",
    "        k_index = k_list.index(k)\n",
    "        UC_ratio = UC_tau_square_ratio_array2[:,k_index,measurement_index]\n",
    "        CO_ratio = CO_tau_square_ratio_array2[:,k_index,measurement_index]\n",
    "        FP_ratio = FP_tau_square_ratio_array2[:,k_index,measurement_index]\n",
    "        \n",
    "        handler.scatter(x,UC_ratio)\n",
    "        handler.plot(x,UC_ratio,label='UC')\n",
    "        handler.scatter(x,CO_ratio)\n",
    "        handler.plot(x,CO_ratio,label='CO')\n",
    "        handler.scatter(x,FP_ratio)\n",
    "        handler.plot(x,FP_ratio,label='FP')\n",
    "        handler.legend()\n",
    "        handler.set_xlabel('J^2')\n",
    "        handler.set_ylabel('ratio')\n",
    "        handler.set_title('The '+measurement+ ' ratio of tau square (k = '+str(k)+')')\n",
    "        handler.hlines(y=1,xmin=min(J_square_list),xmax=max(J_square_list),linestyles='dashed')\n",
    "    return"
   ]
  },
  {
   "cell_type": "code",
   "execution_count": null,
   "metadata": {},
   "outputs": [],
   "source": [
    "# plot of the standard_error ratio of tau square when J_sqaure = 0.25/0.31/0.5/0.75\n",
    "fig = plt.figure(figsize=(16,8)) \n",
    "ax = fig.add_subplot(2,2,1)\n",
    "plot_for_comparison2(measurement='standard_error',x_axis='k', k = 100, J_square = 0.25, handler=ax)\n",
    "ax = fig.add_subplot(2,2,2)\n",
    "plot_for_comparison2(measurement='standard_error',x_axis='k', k = 100, J_square = 0.3076923076923077, handler=ax)\n",
    "ax = fig.add_subplot(2,2,3)\n",
    "plot_for_comparison2(measurement='standard_error',x_axis='k', k = 100, J_square = 0.5, handler=ax)\n",
    "ax = fig.add_subplot(2,2,4)\n",
    "plot_for_comparison2(measurement='standard_error',x_axis='k', k = 100, J_square = 0.75, handler=ax)"
   ]
  },
  {
   "cell_type": "markdown",
   "metadata": {},
   "source": [
    "# try multiple parameter settings\n",
    "(i) Nmax/Nmin:  10, 25, 100, 250\n",
    "(ii) Nmin: 10, 50"
   ]
  },
  {
   "cell_type": "code",
   "execution_count": 26,
   "metadata": {},
   "outputs": [],
   "source": [
    "def array_generator_from_N(n_min,n_max,mu,sigma,tau,k=100):\n",
    "    half_k = int(k/2)\n",
    "    # n_array consists of half of N equal to min + the remaining half of N equal to max\n",
    "    n_array = np.array([n_min]*half_k + [n_max]*half_k)\n",
    "    u_array = 1/n_array\n",
    "    # x_i ~ N(mu,tau^2)\n",
    "    x_array = normal(mu,tau,k)\n",
    "    # D_i ~ N(x_i, sigma^2*u_i)\n",
    "    D_array = normal(x_array,sigma*u_array**0.5,k)\n",
    "    return u_array, D_array"
   ]
  },
  {
   "cell_type": "code",
   "execution_count": 27,
   "metadata": {},
   "outputs": [
    {
     "name": "stdout",
     "output_type": "stream",
     "text": [
      "CPU times: user 10min 2s, sys: 421 ms, total: 10min 2s\n",
      "Wall time: 10min 2s\n"
     ]
    }
   ],
   "source": [
    "%%time\n",
    "min_max_ratio_list = [10, 25, 100, 250]\n",
    "n_min_list = [10, 50]\n",
    "# k = 100 by default\n",
    "n_replication = 1000\n",
    "\n",
    "# (J^2,n_min,max_min_ratio,n_replication)\n",
    "UC_unknown_sigma_N, UC_known_sigma_N = np.empty((4,2,4,n_replication)), np.empty((4,2,4,n_replication))\n",
    "CO_unknown_sigma_N, CO_known_sigma_N = np.empty((4,2,4,n_replication)), np.empty((4,2,4,n_replication))\n",
    "FP_unknown_sigma_N, FP_known_sigma_N = np.empty((4,2,4,n_replication)), np.empty((4,2,4,n_replication))\n",
    "\n",
    "for r in range(n_replication):\n",
    "    for i in range(4):\n",
    "        para_combination = parameter_constellation[i]\n",
    "        mu_for_simulation = para_combination[0]\n",
    "        sigma_square_for_simulation = para_combination[1]\n",
    "        tau_square_for_simulation = para_combination[2]\n",
    "\n",
    "        sigma_for_simulation = np.sqrt(sigma_square_for_simulation)\n",
    "        tau_for_simulation = np.sqrt(tau_square_for_simulation)\n",
    "        for j in range(2):\n",
    "            n_min = n_min_list[j]\n",
    "            n_max_list = [n_min*element for element in min_max_ratio_list]\n",
    "            for h in range(4):\n",
    "                n_max = n_max_list[h]\n",
    "                #print(para_combination,n_min,n_max)\n",
    "                each_replication_array = array_generator_from_N(n_min,n_max,mu_for_simulation,sigma_for_simulation,tau_for_simulation)\n",
    "                each_replication_u_array = each_replication_array[0]\n",
    "                each_replication_D_array = each_replication_array[1]\n",
    "                \n",
    "                # UC with unknown sigma\n",
    "                UC_unknown_simulation = simulation_UC_unknown_sigma(each_replication_D_array,each_replication_u_array)\n",
    "                UC_unknown_sigma_N[i][j][h][r] = UC_unknown_simulation[1] #the estimated value of tau^2\n",
    "                \n",
    "                # UC with known sigma\n",
    "                UC_known_simulation = simulation_UC_known_sigma(each_replication_D_array,each_replication_u_array)\n",
    "                UC_known_sigma_N[i][j][h][r] = UC_known_simulation[1] #the estimated value of tau^2\n",
    "                \n",
    "                # CO with unknown sigma\n",
    "                CO_unknown_simulation = simulation_CO_unknown_sigma(each_replication_D_array,each_replication_u_array)\n",
    "                CO_unknown_sigma_N[i][j][h][r] = CO_unknown_simulation[1] #the estimated value of tau^2\n",
    "                \n",
    "                # CO with known sigma\n",
    "                CO_known_simulation = simulation_CO_known_sigma(each_replication_D_array,each_replication_u_array)\n",
    "                CO_known_sigma_N[i][j][h][r] = CO_known_simulation[1] #the estimated value of tau^2\n",
    "                \n",
    "                # FP with unknown sigma\n",
    "                FP_unknown_simulation = simulation_FP_unknown_sigma(each_replication_D_array,each_replication_u_array)\n",
    "                FP_unknown_sigma_N[i][j][h][r] = FP_unknown_simulation[1] #the estimated value of tau^2\n",
    "                \n",
    "                # FP with known sigma\n",
    "                FP_known_simulation = simulation_FP_known_sigma(each_replication_D_array,each_replication_u_array)\n",
    "                FP_known_sigma_N[i][j][h][r] = FP_known_simulation[1] #the estimated value of tau^2\n",
    "                "
   ]
  },
  {
   "cell_type": "code",
   "execution_count": 28,
   "metadata": {},
   "outputs": [
    {
     "name": "stdout",
     "output_type": "stream",
     "text": [
      "CPU times: user 2.1 ms, sys: 1.47 ms, total: 3.57 ms\n",
      "Wall time: 2.14 ms\n"
     ]
    }
   ],
   "source": [
    "%%time\n",
    "# summarize the simulation results into the form of [bias, standard_error, mse]\n",
    "UC_unknown_sigma_info_N = method_info(UC_unknown_sigma_N)\n",
    "UC_known_sigma_info_N = method_info(UC_known_sigma_N)\n",
    "\n",
    "CO_unknown_sigma_info_N = method_info(CO_unknown_sigma_N)\n",
    "CO_known_sigma_info_N = method_info(CO_known_sigma_N)\n",
    "\n",
    "FP_unknown_sigma_info_N = method_info(FP_unknown_sigma_N)\n",
    "FP_known_sigma_info_N = method_info(FP_known_sigma_N)"
   ]
  },
  {
   "cell_type": "code",
   "execution_count": 29,
   "metadata": {},
   "outputs": [],
   "source": [
    "# the bias/standard error/ mse ratio of tau^2 with unknown/known sigma\n",
    "# [bias, standard error, mse]\n",
    "UC_tau_square_ratio_N = UC_unknown_sigma_info_N/UC_known_sigma_info_N\n",
    "CO_tau_square_ratio_N = CO_unknown_sigma_info_N/CO_known_sigma_info_N\n",
    "FP_tau_square_ratio_N = FP_unknown_sigma_info_N/FP_known_sigma_info_N"
   ]
  },
  {
   "cell_type": "code",
   "execution_count": 30,
   "metadata": {},
   "outputs": [],
   "source": [
    "def plot_for_comparison_N(measurement,x_axis, n_min = 10, max_min_ratio = 10, J_square=0.25, handler=plt):\n",
    "    measurement_dict = {'bias':0, 'standard_error':1, 'mse':2}\n",
    "    measurement_index = measurement_dict[measurement]\n",
    "    \n",
    "    J_square_index = J_square_list.index(J_square)\n",
    "    \n",
    "    # when comparing all the three methods with varying n_min, we fix max_min_ratio=10 by default\n",
    "    if x_axis == 'n_min':\n",
    "        x  = n_min_list\n",
    "        max_min_ratio_index = min_max_ratio_list.index(max_min_ratio)\n",
    "        UC_ratio = UC_tau_square_ratio_N[J_square_index,:,max_min_ratio_index,measurement_index]\n",
    "        CO_ratio = CO_tau_square_ratio_N[J_square_index,:,max_min_ratio_index,measurement_index]\n",
    "        FP_ratio = FP_tau_square_ratio_N[J_square_index,:,max_min_ratio_index,measurement_index]\n",
    "        \n",
    "        handler.scatter(x,UC_ratio)\n",
    "        handler.plot(x,UC_ratio,label='UC')\n",
    "        handler.scatter(x,CO_ratio)\n",
    "        handler.plot(x,CO_ratio,label='CO')\n",
    "        handler.scatter(x,FP_ratio)\n",
    "        handler.plot(x,FP_ratio,label='FP')\n",
    "        handler.legend()\n",
    "        handler.set_xlabel('n_min')\n",
    "        handler.set_ylabel('ratio')\n",
    "        handler.set_title('The '+measurement+ ' ratio of tau square (n_max/n_min = '+str(max_min_ratio)+')')\n",
    "        handler.hlines(y=1,xmin=10,xmax=50,linestyles='dashed')\n",
    "    \n",
    "    if x_axis == 'max_min_ratio':\n",
    "        x = min_max_ratio_list\n",
    "        n_min_index = n_min_list.index(n_min)\n",
    "        UC_ratio = UC_tau_square_ratio_N[J_square_index,n_min_index,:,measurement_index]\n",
    "        CO_ratio = CO_tau_square_ratio_N[J_square_index,n_min_index,:,measurement_index]\n",
    "        FP_ratio = FP_tau_square_ratio_N[J_square_index,n_min_index,:,measurement_index]\n",
    "        \n",
    "        handler.scatter(x,UC_ratio)\n",
    "        handler.plot(x,UC_ratio,label='UC')\n",
    "        handler.scatter(x,CO_ratio)\n",
    "        handler.plot(x,CO_ratio,label='CO')\n",
    "        handler.scatter(x,FP_ratio)\n",
    "        handler.plot(x,FP_ratio,label='FP')\n",
    "        handler.legend()\n",
    "        handler.set_xlabel('n_max_min_ratio')\n",
    "        handler.set_ylabel('ratio')\n",
    "        handler.set_title('The '+measurement+ ' ratio of tau square (n_min = '+str(n_min)+')')\n",
    "        handler.hlines(y=1,xmin=10,xmax=250,linestyles='dashed')\n",
    "    return"
   ]
  },
  {
   "cell_type": "code",
   "execution_count": 31,
   "metadata": {},
   "outputs": [
    {
     "data": {
      "image/png": "[encoded data removed]",
      "text/plain": [
       "<Figure size 1152x576 with 4 Axes>"
      ]
     },
     "metadata": {
      "needs_background": "light"
     },
     "output_type": "display_data"
    }
   ],
   "source": [
    "# plot of the standard_error ratio of tau square when max_min_ratio = 10/25/100/250\n",
    "fig = plt.figure(figsize=(16,8)) ## setting over-all figure size (optional)\n",
    "ax = fig.add_subplot(2,2,1)\n",
    "plot_for_comparison_N(measurement='standard_error',x_axis='n_min', n_min = 10, max_min_ratio = 10, J_square=0.25, handler=ax)\n",
    "ax = fig.add_subplot(2,2,2)\n",
    "plot_for_comparison_N(measurement='standard_error',x_axis='n_min', n_min = 10, max_min_ratio = 25, J_square=0.25, handler=ax)\n",
    "ax = fig.add_subplot(2,2,3)\n",
    "plot_for_comparison_N(measurement='standard_error',x_axis='n_min', n_min = 10, max_min_ratio = 100, J_square=0.25, handler=ax)\n",
    "ax = fig.add_subplot(2,2,4)\n",
    "plot_for_comparison_N(measurement='standard_error',x_axis='n_min', n_min = 10, max_min_ratio = 250, J_square=0.25, handler=ax)\n"
   ]
  },
  {
   "cell_type": "code",
   "execution_count": 32,
   "metadata": {},
   "outputs": [
    {
     "data": {
      "image/png": "[encoded data removed]",
      "text/plain": [
       "<Figure size 1152x288 with 2 Axes>"
      ]
     },
     "metadata": {
      "needs_background": "light"
     },
     "output_type": "display_data"
    }
   ],
   "source": [
    "# plot of the standard_error ratio of tau square when n_min = 10/50\n",
    "fig = plt.figure(figsize=(16,4)) ## setting over-all figure size (optional)\n",
    "ax = fig.add_subplot(1,2,1)\n",
    "plot_for_comparison_N(measurement='standard_error',x_axis='max_min_ratio', n_min = 10, max_min_ratio = 10, J_square=0.25, handler=ax)\n",
    "ax = fig.add_subplot(1,2,2)\n",
    "plot_for_comparison_N(measurement='standard_error',x_axis='max_min_ratio', n_min = 50, max_min_ratio = 25, J_square=0.25, handler=ax)\n"
   ]
  },
  {
   "cell_type": "code",
   "execution_count": null,
   "metadata": {},
   "outputs": [],
   "source": []
  }
 ],
 "metadata": {
  "kernelspec": {
   "display_name": "Python 3",
   "language": "python",
   "name": "python3"
  },
  "language_info": {
   "codemirror_mode": {
    "name": "ipython",
    "version": 3
   },
   "file_extension": ".py",
   "mimetype": "text/x-python",
   "name": "python",
   "nbconvert_exporter": "python",
   "pygments_lexer": "ipython3",
   "version": "3.7.6"
  }
 },
 "nbformat": 4,
 "nbformat_minor": 4
}
