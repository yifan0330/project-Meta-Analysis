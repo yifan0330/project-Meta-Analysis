{
 "cells": [
  {
   "cell_type": "code",
   "execution_count": 2,
   "metadata": {},
   "outputs": [],
   "source": [
    "import os\n",
    "import nimare\n",
    "import gzip\n",
    "import pickle\n",
    "import nibabel as nib\n",
    "from nimare.tests.utils import get_test_data_path\n",
    "from nilearn.masking import compute_background_mask\n",
    "import numpy as np\n",
    "from numpy import linalg as LA\n",
    "from numpy.random import uniform\n",
    "from math import pi\n",
    "import matplotlib.pyplot as plt\n",
    "import seaborn as sns\n",
    "from scipy.optimize import minimize\n",
    "\n",
    "import sys\n",
    "import warnings\n",
    "if not sys.warnoptions:\n",
    "    warnings.simplefilter(\"ignore\")"
   ]
  },
  {
   "cell_type": "markdown",
   "metadata": {},
   "source": [
    "### load the original data without mask"
   ]
  },
  {
   "cell_type": "code",
   "execution_count": 3,
   "metadata": {},
   "outputs": [],
   "source": [
    "# load the 21 pain datasets\n",
    "dset_dir = nimare.extract.download_nidm_pain()\n",
    "\n",
    "dset_file = os.path.join(get_test_data_path(), 'nidm_pain_dset.json')\n",
    "dset = nimare.dataset.Dataset(dset_file, target='mni152_2mm', mask=None) \n",
    "dset.save('pain_dset.pkl')\n",
    "dset = nimare.dataset.Dataset.load('pain_dset.pkl')\n",
    "os.remove('pain_dset.pkl')  # cleanup"
   ]
  },
  {
   "cell_type": "code",
   "execution_count": 4,
   "metadata": {},
   "outputs": [],
   "source": [
    "# imtype = [con__relative, se__relative, t__relative, z__relative]\n",
    "def get_images(imtype):\n",
    "    filenames = list(dset.images[imtype]) \n",
    "    filenames  = [os.path.join(dset_dir, filename) for filename in filenames]\n",
    "    imgs = [nib.load(filename).get_fdata() for filename in filenames]\n",
    "    return imgs\n",
    "con = get_images(\"con__relative\")\n",
    "se = get_images(\"se__relative\")\n",
    "t = get_images(\"t__relative\")\n",
    "#z = get_images(\"z__relative\")"
   ]
  },
  {
   "cell_type": "code",
   "execution_count": 5,
   "metadata": {},
   "outputs": [],
   "source": [
    "# dir for the contrast map file\n",
    "con_filenames = list(dset.images[\"con__relative\"]) \n",
    "con_filenames  = [os.path.join(dset_dir, filename) for filename in con_filenames]"
   ]
  },
  {
   "cell_type": "code",
   "execution_count": 6,
   "metadata": {},
   "outputs": [],
   "source": [
    "all_masks = list()\n",
    "affine_list = list()\n",
    "for file in con_filenames:\n",
    "    file_mask = compute_background_mask(file)\n",
    "    \n",
    "    each_pain_mask = file_mask.get_fdata()\n",
    "    all_masks.append(each_pain_mask)\n",
    "    \n",
    "    file_affine = file_mask.affine\n",
    "    affine_list.append(file_affine)\n",
    "\n",
    "# use the same affine array from background_mask in each file\n",
    "affine_array = np.array(affine_list)\n",
    "affine = np.unique(affine_array,axis=0).reshape(4,4)\n",
    "\n",
    "# compute the intersection of each file's background_mask\n",
    "all_masks_array = np.array(all_masks)\n",
    "intersect_mask_array = np.min(all_masks_array,axis=0)\n",
    "\n",
    "# convert the mask from numpy array back to nibabel image\n",
    "#intersect_mask = nib.Nifti1Image(intersect_mask_array, affine=affine)"
   ]
  },
  {
   "cell_type": "code",
   "execution_count": 7,
   "metadata": {},
   "outputs": [],
   "source": [
    "# sample size of individual studies\n",
    "sample_size = np.array(dset.get_metadata(), dtype=np.float64)\n",
    "sample_size_array = sample_size.reshape((21))\n",
    "u_array = 1/sample_size_array\n",
    "# number of studies\n",
    "k = sample_size.shape[0]"
   ]
  },
  {
   "cell_type": "code",
   "execution_count": 8,
   "metadata": {},
   "outputs": [
    {
     "name": "stdout",
     "output_type": "stream",
     "text": [
      "(21, 91, 109, 91)\n"
     ]
    }
   ],
   "source": [
    "xbar_array = np.array(con)\n",
    "print(xbar_array.shape)"
   ]
  },
  {
   "cell_type": "markdown",
   "metadata": {},
   "source": [
    "### use a brain mask to extract \"in brain\" voxel"
   ]
  },
  {
   "cell_type": "code",
   "execution_count": 9,
   "metadata": {},
   "outputs": [
    {
     "name": "stdout",
     "output_type": "stream",
     "text": [
      "(192885, 21)\n"
     ]
    }
   ],
   "source": [
    "xbar_mask = list()\n",
    "for j in range(xbar_array.shape[0]):\n",
    "    each_pain_study = xbar_array[j]\n",
    "    # apply the intersected brain mask to extract \"in brain\" voxel\n",
    "    each_pain_study_mask = each_pain_study[intersect_mask_array==1]\n",
    "    xbar_mask.append(each_pain_study_mask)\n",
    "# [voxel, study]: shape(192885,21)\n",
    "xbar_mask_array = np.array(xbar_mask).T\n",
    "print(xbar_mask_array.shape)"
   ]
  },
  {
   "cell_type": "code",
   "execution_count": 10,
   "metadata": {},
   "outputs": [],
   "source": [
    "# compute sigma from SE\n",
    "known_sigma = []\n",
    "for idx in range(len(sample_size)):\n",
    "    known_sigma.append(se[idx] * np.sqrt(sample_size[idx]))"
   ]
  },
  {
   "cell_type": "code",
   "execution_count": 11,
   "metadata": {},
   "outputs": [
    {
     "name": "stdout",
     "output_type": "stream",
     "text": [
      "(192885, 21)\n"
     ]
    }
   ],
   "source": [
    "# extract known_sigma of \"in brain\" voxel\n",
    "known_sigma_mask = list()\n",
    "for j in range(len(known_sigma)):\n",
    "    each_study_sigma = known_sigma[j]\n",
    "    each_study_sigma_mask = each_study_sigma[intersect_mask_array==1]\n",
    "    known_sigma_mask.append(each_study_sigma_mask)\n",
    "known_sigma_array = np.array(known_sigma_mask).T\n",
    "known_sigma_square_array = known_sigma_array**2\n",
    "print(known_sigma_square_array.shape)"
   ]
  },
  {
   "cell_type": "markdown",
   "metadata": {},
   "source": [
    "### functions for computing variance of mu/tau^2"
   ]
  },
  {
   "cell_type": "code",
   "execution_count": 12,
   "metadata": {},
   "outputs": [],
   "source": [
    "def var_mu(tau_square_array, sigma_square_array, u_array):\n",
    "    var_mu_list = []\n",
    "    n_voxel = tau_square_array.shape[0]\n",
    "    for i in range(n_voxel):\n",
    "        var_mu = 1/np.sum(1/(tau_square_array[i]+sigma_square_array[i]*u_array))\n",
    "        var_mu_list.append(var_mu)\n",
    "    return np.array(var_mu_list)\n",
    "\n",
    "def var_tau_square_unknown(tau_square_array, sigma_square_array, u_array):\n",
    "    var_tau_square_list = []\n",
    "    n_voxel = tau_square_array.shape[0]\n",
    "    for i in range(n_voxel):\n",
    "        common_term = tau_square_array[i]+sigma_square_array[i]*u_array\n",
    "        common_term_square = common_term**2\n",
    "        numerator = 2*np.sum(u_array**2/common_term_square)\n",
    "        denominator = np.sum(u_array**2/common_term_square)*np.sum(1/common_term_square) - (np.sum(u_array/common_term_square))**2\n",
    "        var_tau_square = numerator/denominator\n",
    "        var_tau_square_list.append(var_tau_square)\n",
    "    return np.array(var_tau_square_list)\n",
    "def var_tau_square_known(tau_square_array, sigma_square_array, u_array):\n",
    "    var_tau_square_list = []\n",
    "    n_voxel = tau_square_array.shape[0]\n",
    "    for i in range(n_voxel):\n",
    "        var_tau_square = 2/np.sum(1/(tau_square_array[i]+sigma_square_array[i]*u_array)**2)\n",
    "        var_tau_square_list.append(var_tau_square)\n",
    "    return np.array(var_tau_square_list)"
   ]
  },
  {
   "cell_type": "markdown",
   "metadata": {},
   "source": [
    "### unconstrained optimization -- unknown $\\sigma^2$"
   ]
  },
  {
   "cell_type": "code",
   "execution_count": 13,
   "metadata": {},
   "outputs": [],
   "source": [
    "def nll_unknown_sigma(x, xbar, u):\n",
    "    # x = np.array([mu, sigma, tau])\n",
    "    mu, sigma, tau = x[0], x[1], x[2]\n",
    "    sigma_square, tau_square = sigma**2, tau**2\n",
    "    return 1/2*np.mean((xbar - mu)**2/(tau_square + sigma_square*u) \\\n",
    "            +np.log(tau_square + sigma_square*u)+np.log(2*pi))\n",
    "\n",
    "def jac_unknown_sigma(x, xbar, u):\n",
    "    mu, sigma, tau = x[0], x[1], x[2]\n",
    "    sigma_square, tau_square = sigma**2, tau**2\n",
    "    a = xbar - mu\n",
    "    b = tau_square + sigma_square * u\n",
    "    # convert the derivative with respect to sigma/tau, instead of sigma^2/tau^2\n",
    "    d_mu = np.sum(a / b)\n",
    "    d_sigma = (np.sum((a**2 * u) / b**2) - np.sum(u / b)) * (2*sigma) \n",
    "    d_tau = (np.sum(a**2 / b**2) - np.sum(1./ b)) * (2*tau)\n",
    "    return - np.array([d_mu, d_sigma, d_tau])\n"
   ]
  },
  {
   "cell_type": "code",
   "execution_count": 14,
   "metadata": {},
   "outputs": [],
   "source": [
    "def simulation_UC_unknown_sigma(xbar_array, u_array, stopping_criteria = 1e-10):\n",
    "    \n",
    "    mu_0 = np.mean(xbar_array)\n",
    "    tau_0 = np.std(xbar_array)\n",
    "    sigma_0 = uniform(0,15)\n",
    "    \n",
    "    x0 = np.array([mu_0, sigma_0, tau_0])\n",
    "    minimizer = minimize(nll_unknown_sigma, x0, args=(xbar_array, u_array), method='Nelder-Mead', jac=jac_unknown_sigma, tol=stopping_criteria)   \n",
    "    \n",
    "    # corresponding mu/sigma/tau when the negative log likelihood function is minimized\n",
    "    mu_ast, sigma_ast, tau_ast = minimizer.x\n",
    "    #print(minimizer)\n",
    "    n_iteration = minimizer.nit\n",
    "    sigma_square_ast = sigma_ast**2\n",
    "    tau_square_ast = tau_ast**2\n",
    "    return np.array([mu_ast, sigma_square_ast, tau_square_ast, n_iteration])"
   ]
  },
  {
   "cell_type": "code",
   "execution_count": 15,
   "metadata": {},
   "outputs": [
    {
     "data": {
      "text/plain": [
       "array([-3.94527545e+01,  2.05557231e+05,  5.03283555e-11,  1.97000000e+02])"
      ]
     },
     "execution_count": 15,
     "metadata": {},
     "output_type": "execute_result"
    }
   ],
   "source": [
    "xbar_array = xbar_mask_array[100]\n",
    "simulation_UC_unknown_sigma(xbar_array, u_array, stopping_criteria = 1e-10)"
   ]
  },
  {
   "cell_type": "code",
   "execution_count": 16,
   "metadata": {},
   "outputs": [
    {
     "name": "stdout",
     "output_type": "stream",
     "text": [
      "CPU times: user 41min 8s, sys: 20.3 s, total: 41min 28s\n",
      "Wall time: 41min 13s\n"
     ]
    }
   ],
   "source": [
    "%%time\n",
    "UC_unknown_mu, UC_unknown_sigma_square, UC_unknown_tau_square, UC_unknown_iteration = [], [], [], []\n",
    "for i in range(xbar_mask_array.shape[0]):\n",
    "    xbar_array = xbar_mask_array[i]\n",
    "    simulation = simulation_UC_unknown_sigma(xbar_array, u_array, stopping_criteria = 1e-10)\n",
    "    UC_unknown_mu.append(simulation[0])\n",
    "    UC_unknown_sigma_square.append(simulation[1])\n",
    "    UC_unknown_tau_square.append(simulation[2])\n",
    "    UC_unknown_iteration.append(simulation[3])"
   ]
  },
  {
   "cell_type": "code",
   "execution_count": 17,
   "metadata": {},
   "outputs": [],
   "source": [
    "# convert list into numpy array\n",
    "UC_unknown_mu = np.array(UC_unknown_mu)\n",
    "UC_unknown_sigma_square = np.array(UC_unknown_sigma_square)\n",
    "UC_unknown_tau_square = np.array(UC_unknown_tau_square)"
   ]
  },
  {
   "cell_type": "code",
   "execution_count": 18,
   "metadata": {},
   "outputs": [],
   "source": [
    "# variance of mu/tau^2 when sigma^2 is unknown in Unconstrained optimization\n",
    "var_mu_UC_unknown = var_mu(UC_unknown_tau_square, UC_unknown_sigma_square, u_array) #shape(192885,)\n",
    "var_tau_square_UC_unknown = var_tau_square_unknown(UC_unknown_tau_square, UC_unknown_sigma_square, u_array) #shape(192885,)"
   ]
  },
  {
   "cell_type": "markdown",
   "metadata": {},
   "source": [
    "### unconstrained optimization -- known $\\sigma^2$"
   ]
  },
  {
   "cell_type": "code",
   "execution_count": 19,
   "metadata": {},
   "outputs": [],
   "source": [
    "def nll_known_sigma(x, xbar, u, known_sigma_square):\n",
    "    # x = np.array([mu, tau])\n",
    "    mu, tau = x[0], x[1]\n",
    "    tau_square = tau**2\n",
    "    return 1/2*np.mean((xbar - mu)**2/(tau_square + known_sigma_square*u) \\\n",
    "            +np.log(tau_square + known_sigma_square*u)+np.log(2*pi))\n",
    "\n",
    "def jac_known_sigma(x, xbar, u, known_sigma_square):\n",
    "    mu, tau = x[0], x[1]\n",
    "    tau_square = tau**2\n",
    "    a = xbar - mu\n",
    "    b = tau_square + known_sigma_square * u\n",
    "    # convert the derivative with respect to sigma/tau, instead of sigma^2/tau^2\n",
    "    d_mu = np.sum(a / b)\n",
    "    d_tau = (np.sum(a**2 / b**2) - np.sum(1./ b)) * (2*tau)\n",
    "    return - np.array([d_mu, d_tau])\n"
   ]
  },
  {
   "cell_type": "code",
   "execution_count": 22,
   "metadata": {},
   "outputs": [],
   "source": [
    "def simulation_UC_known_sigma(xbar_array, u_array, known_sigma_square, stopping_criteria = 1e-10):\n",
    "    \n",
    "    mu_0 = np.mean(xbar_array)\n",
    "    tau_0 = np.std(xbar_array)\n",
    "    \n",
    "    x0 = np.array([mu_0, tau_0])\n",
    "    minimizer = minimize(nll_known_sigma, x0, args=(xbar_array, u_array, known_sigma_square), method='Nelder-Mead', jac=jac_known_sigma, tol=stopping_criteria)   \n",
    "    \n",
    "    # corresponding mu/sigma/tau when the negative log likelihood function is minimized\n",
    "    mu_ast, tau_ast = minimizer.x\n",
    "    #print(minimizer)\n",
    "    n_iteration = minimizer.nit\n",
    "    tau_square_ast = tau_ast**2\n",
    "    return np.array([mu_ast, tau_square_ast, n_iteration])"
   ]
  },
  {
   "cell_type": "code",
   "execution_count": 23,
   "metadata": {},
   "outputs": [
    {
     "data": {
      "text/plain": [
       "array([1.20058780e-02, 3.50776856e-18, 1.04000000e+02])"
      ]
     },
     "execution_count": 23,
     "metadata": {},
     "output_type": "execute_result"
    }
   ],
   "source": [
    "xbar_array = xbar_mask_array[100]\n",
    "known_sigma_square = known_sigma_square_array[100]\n",
    "simulation_UC_known_sigma(xbar_array, u_array, known_sigma_square)"
   ]
  },
  {
   "cell_type": "code",
   "execution_count": 24,
   "metadata": {},
   "outputs": [
    {
     "name": "stdout",
     "output_type": "stream",
     "text": [
      "CPU times: user 21min 51s, sys: 13.4 s, total: 22min 5s\n",
      "Wall time: 57min 20s\n"
     ]
    }
   ],
   "source": [
    "%%time\n",
    "UC_known_mu, UC_known_tau_square, UC_known_iteration = [], [], []\n",
    "for i in range(xbar_mask_array.shape[0]):\n",
    "    xbar_array = xbar_mask_array[i]\n",
    "    known_sigma_square = known_sigma_square_array[i]\n",
    "    simulation = simulation_UC_known_sigma(xbar_array, u_array, known_sigma_square, stopping_criteria = 1e-10)\n",
    "    UC_known_mu.append(simulation[0])\n",
    "    UC_known_tau_square.append(simulation[1])\n",
    "    UC_known_iteration.append(simulation[2])"
   ]
  },
  {
   "cell_type": "code",
   "execution_count": 25,
   "metadata": {},
   "outputs": [],
   "source": [
    "# convert list into numpy array\n",
    "UC_known_mu = np.array(UC_known_mu)\n",
    "UC_known_tau_square = np.array(UC_known_tau_square)"
   ]
  },
  {
   "cell_type": "code",
   "execution_count": 26,
   "metadata": {},
   "outputs": [],
   "source": [
    "# variance of mu/tau^2 when sigma^2 is known in Unconstrained optimization\n",
    "var_mu_UC_known = var_mu(UC_known_tau_square, known_sigma_square_array, u_array) #shape(192885,)\n",
    "var_tau_square_UC_known = var_tau_square_known(UC_known_tau_square, known_sigma_square_array, u_array) #shape(192885,)"
   ]
  },
  {
   "cell_type": "code",
   "execution_count": 27,
   "metadata": {},
   "outputs": [
    {
     "name": "stdout",
     "output_type": "stream",
     "text": [
      "(192885,)\n",
      "2.6504514230425387\n",
      "42949407.88370952\n"
     ]
    }
   ],
   "source": [
    "# compute the standard error ratio of tau^2 when sigma is unknown/known \n",
    "variance_ratio_tau_square = var_tau_square_UC_unknown/var_tau_square_UC_known\n",
    "SE_ratio_tau_square = np.sqrt(variance_ratio_tau_square)\n",
    "print(SE_ratio_tau_square.shape)\n",
    "print(min(SE_ratio_tau_square))\n",
    "print(max(SE_ratio_tau_square))"
   ]
  },
  {
   "cell_type": "code",
   "execution_count": 91,
   "metadata": {},
   "outputs": [
    {
     "name": "stdout",
     "output_type": "stream",
     "text": [
      "5.803554052499898\n",
      "1.9638511923454314\n"
     ]
    }
   ],
   "source": [
    "a = SE_ratio_tau_square[SE_ratio_tau_square<10]\n",
    "print(np.mean(a))\n",
    "print(np.std(a))"
   ]
  },
  {
   "cell_type": "code",
   "execution_count": 28,
   "metadata": {},
   "outputs": [
    {
     "data": {
      "text/plain": [
       "(14599,)"
      ]
     },
     "execution_count": 28,
     "metadata": {},
     "output_type": "execute_result"
    }
   ],
   "source": [
    "SE_ratio_tau_square[SE_ratio_tau_square<10].shape"
   ]
  },
  {
   "cell_type": "code",
   "execution_count": 29,
   "metadata": {},
   "outputs": [
    {
     "data": {
      "text/plain": [
       "<matplotlib.axes._subplots.AxesSubplot at 0x7fe7e235ca10>"
      ]
     },
     "execution_count": 29,
     "metadata": {},
     "output_type": "execute_result"
    },
    {
     "data": {
      "image/png": "[encoded data removed]",
      "text/plain": [
       "<Figure size 432x288 with 1 Axes>"
      ]
     },
     "metadata": {
      "needs_background": "light"
     },
     "output_type": "display_data"
    }
   ],
   "source": [
    "sns.distplot(SE_ratio_tau_square[SE_ratio_tau_square<10])"
   ]
  },
  {
   "cell_type": "code",
   "execution_count": 86,
   "metadata": {},
   "outputs": [
    {
     "data": {
      "text/plain": [
       "3.5555555555555554"
      ]
     },
     "execution_count": 86,
     "metadata": {},
     "output_type": "execute_result"
    }
   ],
   "source": [
    "32/9"
   ]
  },
  {
   "cell_type": "markdown",
   "metadata": {},
   "source": [
    "### constrained optimization-- unknown $\\sigma^2$"
   ]
  },
  {
   "cell_type": "code",
   "execution_count": 30,
   "metadata": {},
   "outputs": [],
   "source": [
    "def CO_nll_unknown_sigma(x, xbar, u):\n",
    "    # x = np.array([mu, sigma^2, tau^2])\n",
    "    mu, sigma_square, tau_square = x[0], x[1], x[2]\n",
    "    return 1/2*np.mean((xbar - mu)**2/(tau_square + sigma_square*u) \\\n",
    "            +np.log(tau_square + sigma_square*u)+np.log(2*pi))\n",
    "\n",
    "# Jacobian: the matrix of all its first-order partial derivatives\n",
    "def CO_jac_unknown_sigma(x, xbar, u):\n",
    "    mu, sigma_square, tau_square = x[0], x[1], x[2]\n",
    "    a = xbar - mu\n",
    "    b = tau_square + sigma_square * u\n",
    "    # convert the derivative with respect to sigma/tau, instead of sigma^2/tau^2\n",
    "    d_mu = np.sum(a / b)\n",
    "    d_sigma_square = np.sum((a**2 * u) / b**2) - np.sum(u / b)\n",
    "    d_tau_square = np.sum(a**2 / b**2) - np.sum(1./ b)\n",
    "    return - np.array([d_mu, d_sigma_square, d_tau_square])\n"
   ]
  },
  {
   "cell_type": "code",
   "execution_count": 31,
   "metadata": {},
   "outputs": [],
   "source": [
    "def simulation_CO_unknown_sigma(xbar_array, u_array, stopping_criteria = 1e-10):\n",
    "    mu_0 = np.mean(xbar_array)\n",
    "    tau_square_0 = np.var(xbar_array)\n",
    "    sigma_square_0 = uniform(0,100)\n",
    "    \n",
    "    x0 = np.array([mu_0, sigma_square_0, tau_square_0])\n",
    "    bds = ((-np.inf, np.inf), (0, np.inf), (0, np.inf))\n",
    "    \n",
    "    minimizer = minimize(CO_nll_unknown_sigma, x0, args=(xbar_array, u_array), method='Nelder-Mead', jac=CO_jac_unknown_sigma, bounds=bds, tol=stopping_criteria)   \n",
    "    mu_ast, sigma_square_ast, tau_square_ast = minimizer.x\n",
    "    n_iteration = minimizer.nit\n",
    "    return np.array([mu_ast, sigma_square_ast, tau_square_ast, n_iteration])"
   ]
  },
  {
   "cell_type": "code",
   "execution_count": 32,
   "metadata": {},
   "outputs": [
    {
     "data": {
      "text/plain": [
       "array([-4.88372383e+01,  2.97469673e+05, -9.29592728e+03,  3.19000000e+02])"
      ]
     },
     "execution_count": 32,
     "metadata": {},
     "output_type": "execute_result"
    }
   ],
   "source": [
    "xbar_array = xbar_mask_array[100]\n",
    "simulation_CO_unknown_sigma(xbar_array, u_array, stopping_criteria = 1e-10)"
   ]
  },
  {
   "cell_type": "code",
   "execution_count": 33,
   "metadata": {},
   "outputs": [
    {
     "name": "stdout",
     "output_type": "stream",
     "text": [
      "CPU times: user 1h 3min 49s, sys: 28.3 s, total: 1h 4min 17s\n",
      "Wall time: 1h 4min\n"
     ]
    }
   ],
   "source": [
    "%%time\n",
    "CO_unknown_mu, CO_unknown_sigma_square, CO_unknown_tau_square, CO_unknown_iteration = [], [], [], []\n",
    "\n",
    "for i in range(xbar_mask_array.shape[0]):\n",
    "    xbar_array = xbar_mask_array[i]\n",
    "    simulation = simulation_CO_unknown_sigma(xbar_array, u_array, stopping_criteria = 1e-10)\n",
    "    CO_unknown_mu.append(simulation[0])\n",
    "    CO_unknown_sigma_square.append(simulation[1])\n",
    "    CO_unknown_tau_square.append(simulation[2])\n",
    "    CO_unknown_iteration.append(simulation[3])"
   ]
  },
  {
   "cell_type": "code",
   "execution_count": 34,
   "metadata": {},
   "outputs": [],
   "source": [
    "# convert list to numpy array\n",
    "CO_unknown_mu = np.array(CO_unknown_mu)\n",
    "CO_unknown_sigma_square = np.array(CO_unknown_sigma_square)\n",
    "CO_unknown_tau_square = np.array(CO_unknown_tau_square)\n",
    "CO_unknown_iteration = np.array(CO_unknown_iteration)"
   ]
  },
  {
   "cell_type": "code",
   "execution_count": 35,
   "metadata": {},
   "outputs": [],
   "source": [
    "# variance of mu/tau^2 when sigma^2 is unknown in Unconstrained optimization\n",
    "var_mu_CO_unknown = var_mu(CO_unknown_tau_square, CO_unknown_sigma_square, u_array) #shape(192885,)\n",
    "var_tau_square_CO_unknown = var_tau_square_unknown(CO_unknown_tau_square, CO_unknown_sigma_square, u_array) #shape(192885,)\n"
   ]
  },
  {
   "cell_type": "markdown",
   "metadata": {},
   "source": [
    "### constrained optimization-- known $\\sigma^2$"
   ]
  },
  {
   "cell_type": "code",
   "execution_count": 36,
   "metadata": {},
   "outputs": [],
   "source": [
    "def CO_nll_known_sigma(x, xbar, u, known_sigma_square):\n",
    "    # x = np.array([mu, sigma^2, tau^2])\n",
    "    mu, tau_square = x[0], x[1]\n",
    "    return 1/2*np.mean((xbar - mu)**2/(tau_square + known_sigma_square*u) \\\n",
    "            +np.log(tau_square + known_sigma_square*u)+np.log(2*pi))\n",
    "\n",
    "def CO_jac_known_sigma(x, xbar, u, known_sigma_square):\n",
    "    mu, tau_square = x[0], x[1]\n",
    "\n",
    "    a = xbar - mu\n",
    "    b = tau_square + known_sigma_square * u\n",
    "    # convert the derivative with respect to sigma/tau, instead of sigma^2/tau^2\n",
    "    d_mu = np.sum(a / b) \n",
    "    d_tau_square = np.sum(a**2 / b**2) - np.sum(1./ b)\n",
    "    return - np.array([d_mu,d_tau_square])"
   ]
  },
  {
   "cell_type": "code",
   "execution_count": 37,
   "metadata": {},
   "outputs": [],
   "source": [
    "def simulation_CO_known_sigma(xbar_array, u_array, known_sigma_square, stopping_criteria = 1e-10):\n",
    "    # random but resonable initial point\n",
    "    mu_0 = np.mean(xbar_array)\n",
    "    tau_square_0 = np.var(xbar_array)\n",
    "    \n",
    "    x0 = np.array([mu_0, tau_square_0])\n",
    "    bds = ((-np.inf, np.inf), (0, np.inf))\n",
    "    \n",
    "    minimizer = minimize(CO_nll_known_sigma, x0, args=(xbar_array, u_array, known_sigma_square), method='Nelder-Mead', jac=CO_jac_known_sigma, bounds=bds, tol=stopping_criteria)   \n",
    "    mu_ast, tau_square_ast = minimizer.x\n",
    "    n_iteration = minimizer.nit\n",
    "    return np.array([mu_ast, tau_square_ast, n_iteration])\n"
   ]
  },
  {
   "cell_type": "code",
   "execution_count": 52,
   "metadata": {},
   "outputs": [
    {
     "name": "stdout",
     "output_type": "stream",
     "text": [
      "CPU times: user 30min 16s, sys: 14.4 s, total: 30min 30s\n",
      "Wall time: 30min 23s\n"
     ]
    }
   ],
   "source": [
    "%%time\n",
    "CO_known_mu, CO_known_tau_square, CO_known_iteration = [], [], []\n",
    "\n",
    "for i in range(xbar_mask_array.shape[0]):\n",
    "    xbar_array = xbar_mask_array[i]\n",
    "    known_sigma_square = known_sigma_square_array[i]\n",
    "    simulation = simulation_CO_known_sigma(xbar_array, u_array, known_sigma_square, stopping_criteria = 1e-10)\n",
    "    \n",
    "    CO_known_mu.append(simulation[0])\n",
    "    CO_known_tau_square.append(simulation[1])\n",
    "    CO_known_iteration.append(simulation[2])"
   ]
  },
  {
   "cell_type": "code",
   "execution_count": 53,
   "metadata": {},
   "outputs": [],
   "source": [
    "CO_known_mu = np.array(CO_known_mu)\n",
    "CO_known_tau_square = np.array(CO_known_tau_square)\n",
    "CO_known_iteration = np.array(CO_known_iteration)"
   ]
  },
  {
   "cell_type": "code",
   "execution_count": 54,
   "metadata": {},
   "outputs": [],
   "source": [
    "# variance of mu/tau^2 when sigma^2 is known in Constrained optimization\n",
    "var_mu_CO_known = var_mu(CO_known_tau_square, known_sigma_square_array, u_array) #shape(192885,)\n",
    "var_tau_square_CO_known = var_tau_square_known(CO_known_tau_square, known_sigma_square_array, u_array) #shape(192885,)"
   ]
  },
  {
   "cell_type": "code",
   "execution_count": 55,
   "metadata": {},
   "outputs": [
    {
     "name": "stdout",
     "output_type": "stream",
     "text": [
      "(192885,)\n",
      "1.2296986913716514\n",
      "inf\n"
     ]
    }
   ],
   "source": [
    "# compute the standard error ratio of tau^2 when sigma is unknown/known \n",
    "variance_ratio_tau_square_CO = var_tau_square_CO_unknown/var_tau_square_CO_known\n",
    "SE_ratio_tau_square_CO = np.sqrt(variance_ratio_tau_square_CO)\n",
    "print(SE_ratio_tau_square_CO.shape)\n",
    "print(min(SE_ratio_tau_square_CO))\n",
    "print(max(SE_ratio_tau_square_CO))"
   ]
  },
  {
   "cell_type": "code",
   "execution_count": 92,
   "metadata": {},
   "outputs": [
    {
     "name": "stdout",
     "output_type": "stream",
     "text": [
      "6.61099103083696\n",
      "2.0110744893031822\n"
     ]
    }
   ],
   "source": [
    "b = SE_ratio_tau_square_CO[SE_ratio_tau_square_CO<10]\n",
    "print(np.mean(b))\n",
    "print(np.std(b))"
   ]
  },
  {
   "cell_type": "code",
   "execution_count": 63,
   "metadata": {},
   "outputs": [
    {
     "name": "stdout",
     "output_type": "stream",
     "text": [
      "(4106,)\n"
     ]
    },
    {
     "data": {
      "text/plain": [
       "<matplotlib.axes._subplots.AxesSubplot at 0x7fe8020850d0>"
      ]
     },
     "execution_count": 63,
     "metadata": {},
     "output_type": "execute_result"
    },
    {
     "data": {
      "image/png": "[encoded data removed]",
      "text/plain": [
       "<Figure size 432x288 with 1 Axes>"
      ]
     },
     "metadata": {
      "needs_background": "light"
     },
     "output_type": "display_data"
    }
   ],
   "source": [
    "print(SE_ratio_tau_square_CO[SE_ratio_tau_square_CO<10].shape)\n",
    "sns.distplot(SE_ratio_tau_square_CO[SE_ratio_tau_square_CO<10])"
   ]
  },
  {
   "cell_type": "markdown",
   "metadata": {},
   "source": [
    "### fixed-point algorithm -- unknown $\\sigma^2$"
   ]
  },
  {
   "cell_type": "code",
   "execution_count": 42,
   "metadata": {},
   "outputs": [],
   "source": [
    "# function for finding estimated mu/sigma^2/tau^2 for given xbat_array and u_array\n",
    "# using fixed point algrithm with unknown sigma\n",
    "def simulation_FP_unknown_sigma(xbar_array,u_array,stopping_criteria = 1e-10,max_iter=1000):\n",
    "    k = xbar_array.shape[0]\n",
    "    \n",
    "    # starting value\n",
    "    mu_hat_0 = np.mean(xbar_array)\n",
    "    tau_square_hat_0 = np.var(xbar_array)\n",
    "    sigma_square_hat_0 = uniform(0,100)\n",
    "    \n",
    "    log_likelihood = -1/2*np.sum((xbar_array - mu_hat_0)**2/(tau_square_hat_0 + sigma_square_hat_0*u_array)+np.log(tau_square_hat_0 + sigma_square_hat_0*u_array)+np.log(2*pi))\n",
    "    #print('The log likelihood corresponding to starting values is', log_likelihood)\n",
    "\n",
    "    mu = mu_hat_0\n",
    "    tau_square = tau_square_hat_0\n",
    "    sigma_square = sigma_square_hat_0\n",
    "    \n",
    "    #########\n",
    "    count = 0\n",
    "    error = 1\n",
    "    \n",
    "    while (error > stopping_criteria) and (count < max_iter):\n",
    "\n",
    "        # calculate the common terms firstly to avoid repeated calculation\n",
    "        common_term = 1/(tau_square + sigma_square*u_array)\n",
    "        common_term_square = common_term**2\n",
    "        xbar_minus_u_square = (xbar_array - mu)**2\n",
    "\n",
    "        # iterative equations\n",
    "        mu_updated = np.sum(xbar_array*common_term) / np.sum(common_term)\n",
    "        sigma_square_updated = np.sum((xbar_minus_u_square*u_array - tau_square*u_array)*common_term_square)/np.sum(u_array**2*common_term_square)\n",
    "        tau_square_updated = np.sum((xbar_minus_u_square - sigma_square*u_array)*common_term_square)/np.sum(common_term_square)\n",
    "        log_likelihood = -1/2*np.sum((xbar_array - mu_updated)**2/(tau_square_updated + sigma_square_updated*u_array)+np.log(tau_square_updated + sigma_square_updated*u_array)+np.log(2*pi))\n",
    "        #print(log_likelihood)\n",
    "        \n",
    "        # instead of discarding instances where sigma^2 or tau^2 is negative\n",
    "        # continue to update other parameters while fixing one at zero\n",
    "        if (sigma_square_updated) < 0 or (np.isnan(sigma_square_updated)==True):\n",
    "            sigma_square_updated = 0 \n",
    "        if tau_square_updated < 0 or (np.isnan(tau_square_updated)==True):\n",
    "            tau_square_updated = 0 \n",
    "        \n",
    "        error = max(abs(mu_updated-mu),abs(sigma_square_updated-sigma_square),abs(tau_square_updated-tau_square))\n",
    "        #print('max error = ',error)\n",
    "\n",
    "        mu = mu_updated\n",
    "        sigma_square = sigma_square_updated\n",
    "        tau_square = tau_square_updated\n",
    "        count += 1\n",
    "    return np.array([mu, sigma_square, tau_square, count])"
   ]
  },
  {
   "cell_type": "code",
   "execution_count": 43,
   "metadata": {},
   "outputs": [
    {
     "name": "stdout",
     "output_type": "stream",
     "text": [
      "CPU times: user 22min 54s, sys: 3.31 s, total: 22min 57s\n",
      "Wall time: 22min 59s\n"
     ]
    }
   ],
   "source": [
    "%%time\n",
    "FP_unknown_mu, FP_unknown_sigma_square, FP_unknown_tau_square, FP_unknown_iteration = [], [], [], []\n",
    "\n",
    "for i in range(xbar_mask_array.shape[0]):\n",
    "    xbar_array = xbar_mask_array[i]\n",
    "    simulation = simulation_FP_unknown_sigma(xbar_array,u_array,stopping_criteria = 1e-10,max_iter=1000)\n",
    "    FP_unknown_mu.append(simulation[0])\n",
    "    FP_unknown_sigma_square.append(simulation[1])\n",
    "    FP_unknown_tau_square.append(simulation[2])\n",
    "    FP_unknown_iteration.append(simulation[3])"
   ]
  },
  {
   "cell_type": "code",
   "execution_count": 44,
   "metadata": {},
   "outputs": [],
   "source": [
    "# convert list to numpy array\n",
    "FP_unknown_mu = np.array(FP_unknown_mu)\n",
    "FP_unknown_sigma_square = np.array(FP_unknown_sigma_square)\n",
    "FP_unknown_tau_square = np.array(FP_unknown_tau_square)\n",
    "FP_unknown_iteration = np.array(FP_unknown_iteration)"
   ]
  },
  {
   "cell_type": "code",
   "execution_count": 45,
   "metadata": {},
   "outputs": [],
   "source": [
    "# variance of mu/tau^2 when sigma^2 is unknown in Fixed-point algorithm\n",
    "var_mu_FP_unknown = var_mu(FP_unknown_tau_square, FP_unknown_sigma_square, u_array) #shape(192885,)\n",
    "var_tau_square_FP_unknown = var_tau_square_unknown(FP_unknown_tau_square, FP_unknown_sigma_square, u_array) #shape(192885,)"
   ]
  },
  {
   "cell_type": "markdown",
   "metadata": {},
   "source": [
    "### fixed-point algorithm -- known $\\sigma^2$"
   ]
  },
  {
   "cell_type": "code",
   "execution_count": 46,
   "metadata": {},
   "outputs": [],
   "source": [
    "# function for finding estimated mu/sigma^2/tau^2 for given xbat_array and u_array\n",
    "# using fixed point algrithm with known sigma\n",
    "def simulation_FP_known_sigma(xbar_array, u_array, known_sigma_square, stopping_criteria = 1e-10,max_iter=1000):\n",
    "    k = xbar_array.shape[0]\n",
    "    \n",
    "    # starting value\n",
    "    mu_hat_0 = np.mean(xbar_array)\n",
    "    tau_square_hat_0 = np.var(xbar_array)\n",
    "    \n",
    "    \n",
    "    log_likelihood = -1/2*np.sum((xbar_array - mu_hat_0)**2/(tau_square_hat_0 + known_sigma_square*u_array)+np.log(tau_square_hat_0 + known_sigma_square*u_array)+np.log(2*pi))\n",
    "    #print('The log likelihood corresponding to starting values is', log_likelihood)\n",
    "\n",
    "    mu = mu_hat_0\n",
    "    tau_square = tau_square_hat_0\n",
    "    \n",
    "    #########\n",
    "    count = 0\n",
    "    error = 1\n",
    "    \n",
    "    while (error > stopping_criteria) and (count < max_iter):\n",
    "\n",
    "        # calculate the common terms firstly to avoid repeated calculation\n",
    "        common_term = 1/(tau_square + known_sigma_square*u_array)\n",
    "        common_term_square = common_term**2\n",
    "        xbar_minus_u_square = (xbar_array - mu)**2\n",
    "\n",
    "        # iterative equations\n",
    "        mu_updated = np.sum(xbar_array*common_term) / np.sum(common_term)\n",
    "        tau_square_updated = np.sum((xbar_minus_u_square - known_sigma_square*u_array)*common_term_square)/np.sum(common_term_square)\n",
    "        log_likelihood = -1/2*np.sum((xbar_array - mu_updated)**2/(tau_square_updated + known_sigma_square*u_array)+np.log(tau_square_updated + known_sigma_square*u_array)+np.log(2*pi))\n",
    "        #print(log_likelihood)\n",
    "        \n",
    "        \n",
    "        # instead of discarding instances where tau^2 is negative\n",
    "        # continue to update other parameters while fixing one at zero\n",
    "        if tau_square_updated < 0 or (np.isnan(tau_square_updated)==True):\n",
    "            tau_square_updated = 0 \n",
    "        \n",
    "        error = max(abs(mu_updated-mu), abs(tau_square_updated-tau_square))\n",
    "        #print('max error = ',error)\n",
    "\n",
    "        mu = mu_updated\n",
    "        tau_square = tau_square_updated\n",
    "        count += 1\n",
    "    return np.array([mu, tau_square, count])"
   ]
  },
  {
   "cell_type": "code",
   "execution_count": 47,
   "metadata": {},
   "outputs": [
    {
     "name": "stdout",
     "output_type": "stream",
     "text": [
      "CPU times: user 3min 40s, sys: 611 ms, total: 3min 41s\n",
      "Wall time: 3min 41s\n"
     ]
    }
   ],
   "source": [
    "%%time\n",
    "FP_known_mu, FP_known_tau_square, FP_known_iteration = [], [], []\n",
    "\n",
    "for i in range(xbar_mask_array.shape[0]):\n",
    "    xbar_array = xbar_mask_array[i]\n",
    "    simulation = simulation_FP_known_sigma(xbar_array, u_array, known_sigma_square, stopping_criteria = 1e-10,max_iter=1000)\n",
    "    FP_known_mu.append(simulation[0])\n",
    "    FP_known_tau_square.append(simulation[1])\n",
    "    FP_known_iteration.append(simulation[2])"
   ]
  },
  {
   "cell_type": "code",
   "execution_count": 48,
   "metadata": {},
   "outputs": [],
   "source": [
    "FP_known_mu = np.array(FP_known_mu)\n",
    "FP_known_tau_square = np.array(FP_known_tau_square)\n",
    "FP_known_iteration = np.array(FP_known_iteration)"
   ]
  },
  {
   "cell_type": "code",
   "execution_count": 49,
   "metadata": {},
   "outputs": [],
   "source": [
    "# variance of mu/tau^2 when sigma^2 is known in Fixed point algorithm\n",
    "var_mu_FP_known = var_mu(FP_known_tau_square, known_sigma_square_array, u_array) #shape(192885,)\n",
    "var_tau_square_FP_known = var_tau_square_known(FP_known_tau_square, known_sigma_square_array, u_array) #shape(192885,)"
   ]
  },
  {
   "cell_type": "code",
   "execution_count": 50,
   "metadata": {},
   "outputs": [
    {
     "name": "stdout",
     "output_type": "stream",
     "text": [
      "(192885,)\n",
      "2.0991846018275084\n",
      "42949408.86282161\n"
     ]
    }
   ],
   "source": [
    "# compute the standard error ratio of tau^2 when sigma is unknown/known \n",
    "variance_ratio_tau_square_FP = var_tau_square_FP_unknown/var_tau_square_FP_known\n",
    "SE_ratio_tau_square_FP = np.sqrt(variance_ratio_tau_square_FP)\n",
    "\n",
    "print(SE_ratio_tau_square_FP.shape)\n",
    "print(min(SE_ratio_tau_square_FP))\n",
    "print(max(SE_ratio_tau_square_FP))"
   ]
  },
  {
   "cell_type": "code",
   "execution_count": 93,
   "metadata": {},
   "outputs": [
    {
     "name": "stdout",
     "output_type": "stream",
     "text": [
      "5.8047632021734605\n",
      "2.0022286498420367\n"
     ]
    }
   ],
   "source": [
    "c = SE_ratio_tau_square_FP[SE_ratio_tau_square_FP<10]\n",
    "print(np.mean(c))\n",
    "print(np.std(c))"
   ]
  },
  {
   "cell_type": "code",
   "execution_count": 64,
   "metadata": {},
   "outputs": [
    {
     "name": "stdout",
     "output_type": "stream",
     "text": [
      "(4534,)\n"
     ]
    },
    {
     "data": {
      "text/plain": [
       "<matplotlib.axes._subplots.AxesSubplot at 0x7fe854551b10>"
      ]
     },
     "execution_count": 64,
     "metadata": {},
     "output_type": "execute_result"
    },
    {
     "data": {
      "image/png": "[encoded data removed]",
      "text/plain": [
       "<Figure size 432x288 with 1 Axes>"
      ]
     },
     "metadata": {
      "needs_background": "light"
     },
     "output_type": "display_data"
    }
   ],
   "source": [
    "print(SE_ratio_tau_square_FP[SE_ratio_tau_square_FP<10].shape)\n",
    "sns.distplot(SE_ratio_tau_square_FP[SE_ratio_tau_square_FP<10])"
   ]
  },
  {
   "cell_type": "code",
   "execution_count": null,
   "metadata": {},
   "outputs": [],
   "source": []
  }
 ],
 "metadata": {
  "kernelspec": {
   "display_name": "Python 3",
   "language": "python",
   "name": "python3"
  },
  "language_info": {
   "codemirror_mode": {
    "name": "ipython",
    "version": 3
   },
   "file_extension": ".py",
   "mimetype": "text/x-python",
   "name": "python",
   "nbconvert_exporter": "python",
   "pygments_lexer": "ipython3",
   "version": "3.7.6"
  }
 },
 "nbformat": 4,
 "nbformat_minor": 4
}
