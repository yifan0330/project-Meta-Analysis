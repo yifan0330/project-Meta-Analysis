{
 "cells": [
  {
   "cell_type": "code",
   "execution_count": 1,
   "metadata": {},
   "outputs": [],
   "source": [
    "import numpy as np\n",
    "from numpy.random import uniform,choice\n",
    "import pandas as pd\n",
    "from random import sample\n",
    "import matplotlib.pyplot as plt\n",
    "from math import sqrt"
   ]
  },
  {
   "cell_type": "markdown",
   "metadata": {},
   "source": [
    "## generate $\\sigma^2$, $\\tau^2$ and calculate heterogeneity measure $J^2$ as in the paper"
   ]
  },
  {
   "cell_type": "code",
   "execution_count": 2,
   "metadata": {},
   "outputs": [],
   "source": [
    "def tau_star(sigma,tau):\n",
    "    return tau/sigma\n",
    "def J_square(sigma_square,tau_square):\n",
    "    return tau_square/(tau_square+sigma_square)"
   ]
  },
  {
   "cell_type": "code",
   "execution_count": 3,
   "metadata": {},
   "outputs": [
    {
     "name": "stdout",
     "output_type": "stream",
     "text": [
      "sigma square = [12.  9.  4.  2.]\n",
      "tau square = [4. 4. 4. 6.]\n",
      "J square = [0.25       0.30769231 0.5        0.75      ]\n"
     ]
    }
   ],
   "source": [
    "# each element of `parameter_constellation` has the form (mu,sigma^2,tau^2) \n",
    "# where tau^2 is the between-study variance, sigma^2*u_i is the within-study variance\n",
    "parameter_constellation = [(0,12,4),(0,9,4),(0,4,4),(0,2,6)]\n",
    "l = len(parameter_constellation)\n",
    "\n",
    "sigma_square_array = np.array([])\n",
    "tau_square_array = np.array([])\n",
    "J_square_array = np.array([])\n",
    "\n",
    "for i in range(l):\n",
    "    sigma_square_i = parameter_constellation[i][1]\n",
    "    tau_square_i = parameter_constellation[i][2]\n",
    "    J_square_i = J_square(sigma_square_i,tau_square_i)\n",
    "    sigma_square_array = np.append(sigma_square_array,sigma_square_i)\n",
    "    tau_square_array = np.append(tau_square_array,tau_square_i)\n",
    "    J_square_array = np.append(J_square_array, J_square_i)\n",
    "    \n",
    "print('sigma square =', sigma_square_array)\n",
    "print('tau square =', tau_square_array)\n",
    "print('J square =', J_square_array)\n"
   ]
  },
  {
   "cell_type": "code",
   "execution_count": 4,
   "metadata": {},
   "outputs": [],
   "source": [
    "# k: the number of studies\n",
    "k_list = [10,30,50,100]\n",
    "k_max = max(k_list)\n",
    "\n",
    "# u_i ~ Uniform(0.02,0.2)\n",
    "u_i_full_array = uniform(0.02,0.2,k_max)\n",
    "\n",
    "# fix all u_i to get rid of randomness\n",
    "# Note: all u_i corresponding to different k should sample from the same full list \n",
    "def u_i_array_generator(u_i_full_array,k):\n",
    "    return choice(u_i_full_array,k)\n",
    "\n",
    "u_i_array_10 = u_i_array_generator(u_i_full_array,10)\n",
    "u_i_array_30 = u_i_array_generator(u_i_full_array,30)\n",
    "u_i_array_50 = u_i_array_generator(u_i_full_array,50)\n"
   ]
  },
  {
   "cell_type": "markdown",
   "metadata": {},
   "source": [
    "## Firstly, calculate $$a=\\frac{\\sum \\limits_{i=1}^{k} \\frac{u_i}{(\\tau^2+\\sigma^2 u_i)^2} \\cdot \\sum \\limits_{i=1}^{k} \\frac{u_i}{(\\tau^2+\\sigma^2 u_i)^2}}{\\sum \\limits_{i=1}^{k} \\frac{u_i^2}{(\\tau^2+\\sigma^2 u_i)^2} \\cdot \\sum \\limits_{i=1}^{k} \\frac{1}{(\\tau^2+\\sigma^2 u_i)^2}}$$ and the variation ratio = $\\frac{1}{1-a}$"
   ]
  },
  {
   "cell_type": "code",
   "execution_count": 5,
   "metadata": {},
   "outputs": [],
   "source": [
    "def variance_ratio(u_i_array,sigma_square,tau_square):\n",
    "    # firstly, calculate the frequently appeared term: 1/(tau^2 + sigma^2*u_i)^2\n",
    "    common_term = 1/(tau_square + sigma_square*u_i_array)**2\n",
    "    a = np.sum(u_i_array*common_term)**2/(np.sum(u_i_array**2*common_term)*np.sum(common_term))\n",
    "    variance_ratio = 1/(1-a)\n",
    "    return variance_ratio"
   ]
  },
  {
   "cell_type": "markdown",
   "metadata": {},
   "source": [
    "## 1. plot of standard deviation ratio against heterogeniety measures J^2, with varying number of studies (k=10,30,50,100)"
   ]
  },
  {
   "cell_type": "code",
   "execution_count": 6,
   "metadata": {},
   "outputs": [
    {
     "name": "stdout",
     "output_type": "stream",
     "text": [
      "[12.  9.  4.  2.]\n",
      "the number of studies is: 10\n",
      "the standard deviation ratio = [2.39712382 2.42260075 2.48074381 2.52358552]\n",
      "the number of studies is: 30\n",
      "the standard deviation ratio = [2.53342787 2.56981184 2.6486314  2.7038401 ]\n",
      "the number of studies is: 50\n",
      "the standard deviation ratio = [2.17933313 2.20140508 2.2488087  2.28202339]\n",
      "the number of studies is: 100\n",
      "the standard deviation ratio = [2.27160022 2.31036371 2.39253586 2.44910021]\n"
     ]
    },
    {
     "data": {
      "image/png": "[encoded data removed]",
      "text/plain": [
       "<Figure size 432x288 with 1 Axes>"
      ]
     },
     "metadata": {
      "needs_background": "light"
     },
     "output_type": "display_data"
    }
   ],
   "source": [
    "print(sigma_square_array)\n",
    "\n",
    "def plot_standard_deviation_ratio(u_i_array):\n",
    "    standard_deviation_ratio_array = np.array([])\n",
    "    for i in range(l):\n",
    "        sigma_square_i = sigma_square_array[i]\n",
    "        tau_square_i = tau_square_array[i]\n",
    "        variance_ratio_i = variance_ratio(u_i_array,sigma_square_i,tau_square_i)\n",
    "        standard_deviation_ratio_array= np.append(standard_deviation_ratio_array,sqrt(variance_ratio_i)) \n",
    "    print('the number of studies is:',np.shape(u_i_array)[0])\n",
    "    print('the standard deviation ratio =',standard_deviation_ratio_array)\n",
    "\n",
    "    plt.scatter(J_square_array, standard_deviation_ratio_array)\n",
    "    plt.plot(J_square_array, standard_deviation_ratio_array)\n",
    "    return standard_deviation_ratio_array\n",
    "\n",
    "k10_info = plot_standard_deviation_ratio(u_i_array_10)\n",
    "k30_info = plot_standard_deviation_ratio(u_i_array_30)\n",
    "k50_info = plot_standard_deviation_ratio(u_i_array_50)\n",
    "k100_info = plot_standard_deviation_ratio(u_i_full_array)\n",
    "\n",
    "# ideally, the variance ratio is approaching the horizontal line: y=1\n",
    "plt.hlines(y=1,xmin=min(J_square_array),xmax=max(J_square_array),linestyles='dashed')\n",
    "plt.title('The plot of standard deviation ratio with varying k (the number of studies)')\n",
    "plt.xlabel('heterogeneity measure J^2')\n",
    "plt.ylabel('the standard deviation ratio')\n",
    "plt.show()"
   ]
  },
  {
   "cell_type": "code",
   "execution_count": 7,
   "metadata": {},
   "outputs": [],
   "source": [
    "# from pd.dataframe to latex table\n",
    "plot1_df = pd.DataFrame({'J_square': J_square_array,\n",
    "                         'k=10': k10_info,\n",
    "                         'k=30': k30_info,\n",
    "                         'k=50': k50_info,\n",
    "                         'k=100': k100_info\n",
    "                   })\n",
    "#print(plot1_df.to_latex(index=False))"
   ]
  },
  {
   "cell_type": "markdown",
   "metadata": {},
   "source": [
    "### table of standard deviation ratio with varying $k$ and $J^2$\n",
    "|      J^2 |     k=10 |     k=30 |     k=50 |    k=100 |\n",
    "|---------:|---------:|---------:|---------:|---------:|\n",
    "| 0.250000 | 2.122284 | 2.751944 | 2.276870 | 2.197752 |\n",
    "| 0.307692 | 2.158271 | 2.780151 | 2.308382 | 2.229059 |\n",
    "| 0.500000 | 2.237563 | 2.833035 | 2.372688 | 2.293944 |\n",
    "| 0.750000 | 2.294469 | 2.865107 | 2.415502 | 2.337847 |"
   ]
  },
  {
   "cell_type": "markdown",
   "metadata": {},
   "source": [
    "### Conclusion\n",
    "1. the number of studies involved (k) does not have a significant influence on the standard deviation ratio.\n",
    "\n",
    "2. increasing heterogeniety measure $J^2$ (the proportion of the between-study variance over total variances) $\\Rightarrow$ increasing standard deviation ratio"
   ]
  },
  {
   "cell_type": "markdown",
   "metadata": {},
   "source": [
    "## 2. plot of standard deviation ratio against heterogeniety measures J^2, with a fixed number of studies (k=100)\n",
    "## when we fix the $n_{\\min} \\approx 5$ , and only change the ratio $n_{\\max}/n_{\\min}$"
   ]
  },
  {
   "cell_type": "code",
   "execution_count": 8,
   "metadata": {},
   "outputs": [
    {
     "name": "stdout",
     "output_type": "stream",
     "text": [
      "the number of studies is: 100\n",
      "the standard deviation ratio = [2.25388467 2.30648271 2.41583384 2.48939004]\n",
      "the number of studies is: 100\n",
      "the standard deviation ratio = [1.72046336 1.76215834 1.84729548 1.90366923]\n",
      "the number of studies is: 100\n",
      "the standard deviation ratio = [1.9619713  2.00961447 2.10672087 2.17097482]\n",
      "the number of studies is: 100\n",
      "the standard deviation ratio = [1.96888258 2.00997183 2.09520926 2.15288008]\n",
      "the ratio of n_max/n_min is [9.827425361740502, 122.43396504286183, 81.36400814215894, 410.47170483233816]\n"
     ]
    },
    {
     "data": {
      "image/png": "[encoded data removed]",
      "text/plain": [
       "<Figure size 432x288 with 1 Axes>"
      ]
     },
     "metadata": {
      "needs_background": "light"
     },
     "output_type": "display_data"
    }
   ],
   "source": [
    "u_i_lower_bound = [2e-2,2e-5,2e-8,2e-11]\n",
    "# fix the number of studies: k = 100\n",
    "n_studies = 100\n",
    "results_array = np.zeros((4, 4))\n",
    "max_min_ratio = list()\n",
    "for j in range(4):\n",
    "    element = u_i_lower_bound[j]\n",
    "    u_i_array = uniform(element,0.2,n_studies)\n",
    "    n_i_array = 1/u_i_array\n",
    "    #print('the range of n_i is:',min(n_i_array), max(n_i_array))\n",
    "    #print('the corresponding n_max/n_min ratio is', max(n_i_array)/min(n_i_array))\n",
    "    max_min_ratio.append(max(n_i_array)/min(n_i_array))\n",
    "    each_result = plot_standard_deviation_ratio(u_i_array)\n",
    "    results_array[j:] = each_result\n",
    "print('the ratio of n_max/n_min is',max_min_ratio)\n",
    "\n",
    "#print(results_array)\n",
    "\n",
    "plt.hlines(y=1,xmin=min(J_square_array),xmax=max(J_square_array),linestyles='dashed')\n",
    "plt.title('The plot of standard deviation ratio with varying n_max/n_min')\n",
    "plt.xlabel('heterogeneity measure J^2')\n",
    "plt.ylabel('the standard deviation ratio')\n",
    "plt.show()"
   ]
  },
  {
   "cell_type": "code",
   "execution_count": 9,
   "metadata": {},
   "outputs": [],
   "source": [
    "# from pd.dataframe to latex table\n",
    "plot2_df = pd.DataFrame({'J_square': J_square_array,\n",
    "                         'n_max/n_min = 8.03': results_array[0],\n",
    "                         'n_max/n_min = 35.76': results_array[1],\n",
    "                         'n_max/n_min = 92.70': results_array[2],\n",
    "                         'n_max/n_min = 249.95': results_array[3]\n",
    "                   })\n",
    "#print(plot2_df.to_latex(index=False))"
   ]
  },
  {
   "cell_type": "markdown",
   "metadata": {},
   "source": [
    "### table of standard deviation ratio with varying $\\frac{n_{\\max}}{n_{\\min}}$ and $J^2$\n",
    "|      J^2 | n_max/n_min = 8.03 | n_max/n_min = 35.76 | n_max/n_min = 92.70 | n_max/n_min = 249.95 |\n",
    "|---------:|-------------------:|--------------------:|--------------------:|---------------------:|\n",
    "| 0.250000 |           2.315210 |            1.707612 |            1.910412 |             1.901214 |\n",
    "| 0.307692 |           2.345786 |            1.741020 |            1.953030 |             1.951590 |\n",
    "| 0.500000 |           2.408525 |            1.811147 |            2.040909 |             2.055025 |\n",
    "| 0.750000 |           2.450213 |            1.858965 |            2.099849 |             2.123885 |"
   ]
  },
  {
   "cell_type": "markdown",
   "metadata": {},
   "source": [
    "### Conclusion\n",
    "1. larger ratio of $n_{\\max}/n_{\\min} \\Rightarrow$ the standard deviation ratio is closer to $1$; \n",
    "\n",
    "2. the standard deviation ratio is very close to $1$ when $n_{\\max}/n_{\\min}$ is large enough (which supports the theoretical derivation)}"
   ]
  },
  {
   "cell_type": "markdown",
   "metadata": {},
   "source": [
    "## 3. plot of standard deviation ratio against heterogeniety measures J^2, with a fixed number of studies (k=100)\n",
    "## when we fix the ratio $n_{\\max}/n_{\\min} \\approx 10$, and only change $n_{\\min}$"
   ]
  },
  {
   "cell_type": "code",
   "execution_count": 10,
   "metadata": {},
   "outputs": [
    {
     "name": "stdout",
     "output_type": "stream",
     "text": [
      "the minimum n is [5.04172110054648, 10.188853388246907, 20.151565303136202, 41.36396576704348]\n",
      "the ratio of n_max and n_min is [9.552920784985796, 9.56947629278341, 8.71398298802474, 9.283560243145068]\n"
     ]
    }
   ],
   "source": [
    "k_max = 100\n",
    "\n",
    "n_min_list = list()\n",
    "max_min_ratio_list = list()\n",
    "\n",
    "u_i_array_1 = uniform(0.02,0.2,k_max)\n",
    "n_i_array_1 = 1/u_i_array_1\n",
    "n_min_list.append(min(n_i_array_1))\n",
    "max_min_ratio_list.append(max(n_i_array_1)/min(n_i_array_1))\n",
    "\n",
    "u_i_array_2 = uniform(0.01,0.1,k_max)\n",
    "n_i_array_2 = 1/u_i_array_2\n",
    "n_min_list.append(min(n_i_array_2))\n",
    "max_min_ratio_list.append(max(n_i_array_2)/min(n_i_array_2))\n",
    "\n",
    "u_i_array_3 = uniform(0.005,0.05,k_max)\n",
    "n_i_array_3 = 1/u_i_array_3\n",
    "n_min_list.append(min(n_i_array_3))\n",
    "max_min_ratio_list.append(max(n_i_array_3)/min(n_i_array_3))\n",
    "\n",
    "u_i_array_4 = uniform(0.0025,0.025,k_max)\n",
    "n_i_array_4 = 1/u_i_array_4\n",
    "n_min_list.append(min(n_i_array_4))\n",
    "max_min_ratio_list.append(max(n_i_array_4)/min(n_i_array_4))\n",
    "\n",
    "print('the minimum n is',n_min_list)\n",
    "print('the ratio of n_max and n_min is', max_min_ratio_list)"
   ]
  },
  {
   "cell_type": "code",
   "execution_count": 11,
   "metadata": {},
   "outputs": [
    {
     "name": "stdout",
     "output_type": "stream",
     "text": [
      "the number of studies is: 100\n",
      "the standard deviation ratio = [2.07594818 2.10650337 2.17103421 2.21524485]\n",
      "the number of studies is: 100\n",
      "the standard deviation ratio = [2.07573291 2.09580765 2.13443435 2.158271  ]\n",
      "the number of studies is: 100\n",
      "the standard deviation ratio = [2.27484385 2.28999638 2.31714191 2.3326919 ]\n",
      "the number of studies is: 100\n",
      "the standard deviation ratio = [2.23438184 2.24216935 2.25566237 2.26313614]\n"
     ]
    },
    {
     "data": {
      "image/png": "[encoded data removed]",
      "text/plain": [
       "<Figure size 432x288 with 1 Axes>"
      ]
     },
     "metadata": {
      "needs_background": "light"
     },
     "output_type": "display_data"
    }
   ],
   "source": [
    "min_5_result = plot_standard_deviation_ratio(u_i_array_1)\n",
    "min_10_result = plot_standard_deviation_ratio(u_i_array_2)\n",
    "min_20_result = plot_standard_deviation_ratio(u_i_array_3)\n",
    "min_40_result = plot_standard_deviation_ratio(u_i_array_4)\n",
    "#plt.hlines(y=1,xmin=min(J_square_array),xmax=max(J_square_array),linestyles='dashed')\n",
    "plt.title('The plot of standard deviation ratio with varying n_min')\n",
    "plt.xlabel('heterogeneity measure J^2')\n",
    "plt.ylabel('the standard deviation ratio')\n",
    "plt.show()"
   ]
  },
  {
   "cell_type": "code",
   "execution_count": 12,
   "metadata": {},
   "outputs": [],
   "source": [
    "# from pd.dataframe to latex table\n",
    "plot3_df = pd.DataFrame({'J_square': J_square_array,\n",
    "                         'u_lower_bound': [0.02, 0.01, 0.005, 0.0025],\n",
    "                         'n_min = 5.11': min_5_result,\n",
    "                         'n_min = 10.19': min_10_result,\n",
    "                         'n_min = 20.03': min_20_result,\n",
    "                         'n_min = 40.02': min_40_result\n",
    "                   })\n",
    "#print(plot3_df.to_latex(index=False))"
   ]
  },
  {
   "cell_type": "markdown",
   "metadata": {},
   "source": [
    "### table of standard deviation ratio with varying $n_{\\min}$ and $J^2$\n",
    "|      J^2 | u_lower_bound | n_min = 5.11 | n_min = 10.19 | n_min = 20.03 | n_min = 40.02 |\n",
    "|---------:|--------------:|-------------:|--------------:|--------------:|--------------:|\n",
    "| 0.250000 |        0.0200 |     2.317930 |      2.145946 |      2.358058 |      2.363408 |\n",
    "| 0.307692 |        0.0100 |     2.350363 |      2.168725 |      2.373351 |      2.371292 |\n",
    "| 0.500000 |        0.0050 |     2.415910 |      2.212000 |      2.400858 |      2.384906 |\n",
    "| 0.750000 |        0.0025 |     2.458898 |      2.238375 |      2.416677 |      2.392423 |"
   ]
  },
  {
   "cell_type": "markdown",
   "metadata": {},
   "source": [
    "### Conclusion\n",
    "It seems that when the ratio of $n_{\\max}/n_{\\min}$ is fixed, there is no obvious relationship between $n_{\\min}$ and the variance ratio?"
   ]
  },
  {
   "cell_type": "markdown",
   "metadata": {},
   "source": [
    "### 4. When we set all N at min/all N at max/half min and half max"
   ]
  },
  {
   "cell_type": "code",
   "execution_count": 13,
   "metadata": {},
   "outputs": [],
   "source": [
    "n_studies = 100\n",
    "\n",
    "# all N at min\n",
    "u_i_array_allmin = np.array([0.2]*n_studies)\n",
    "n_i_array_allmin = 1/u_i_array_allmin\n",
    "\n",
    "# all N at max\n",
    "u_i_array_allmax = np.array([0.02]*n_studies)\n",
    "n_i_array_allmax = 1/u_i_array_allmax\n",
    "\n",
    "# half of N at min + half of N at max\n",
    "u_i_array_halfmix = np.array([0.02]*int(n_studies/2)+[0.2]*int(n_studies/2))\n",
    "n_i_array_halfmix = 1/u_i_array_halfmix\n",
    "\n",
    "# equally spaced between 0.02 and 0.2\n",
    "u_i_array_allmix = np.array([0.02 + i*0.18/99 for i in range(n_studies)])\n",
    "n_i_array_allmix = 1/u_i_array_allmix"
   ]
  },
  {
   "cell_type": "code",
   "execution_count": 14,
   "metadata": {},
   "outputs": [],
   "source": [
    "def variance_ratio(u_i_array,sigma_square,tau_square):\n",
    "    # firstly, calculate the frequently appeared term: 1/(tau^2 + sigma^2*u_i)^2\n",
    "    common_term = 1/(tau_square + sigma_square*u_i_array)**2\n",
    "    a = np.sum(u_i_array*common_term)**2/(np.sum(u_i_array**2*common_term)*np.sum(common_term))\n",
    "    variance_ratio = 1/(1-a)\n",
    "    return variance_ratio"
   ]
  },
  {
   "cell_type": "code",
   "execution_count": 16,
   "metadata": {},
   "outputs": [
    {
     "name": "stdout",
     "output_type": "stream",
     "text": [
      "[-4.50359963e+15  1.50119988e+15  3.00239975e+15 -4.50359963e+15]\n",
      "[ 9.00719925e+15  1.28674275e+15 -4.50359963e+15             inf]\n",
      "[1.81690143 1.91190963 2.15597633 2.36036005]\n",
      "[4.52917481 4.68443282 5.01919457 5.25431559]\n"
     ]
    },
    {
     "name": "stderr",
     "output_type": "stream",
     "text": [
      "/opt/anaconda3/envs/tensorflow_cpu_1/lib/python3.7/site-packages/ipykernel_launcher.py:5: RuntimeWarning: divide by zero encountered in double_scalars\n",
      "  \"\"\"\n"
     ]
    }
   ],
   "source": [
    "variance_ratio_array_allmin = []\n",
    "variance_ratio_array_allmax = []\n",
    "variance_ratio_array_halfmix = []\n",
    "variance_ratio_array_allmix = []\n",
    "for i in range(l):\n",
    "    sigma_square_i = sigma_square_array[i]\n",
    "    tau_square_i = tau_square_array[i]\n",
    "    variance_ratio_allmin = variance_ratio(u_i_array_allmin,sigma_square_i,tau_square_i)\n",
    "    variance_ratio_allmax = variance_ratio(u_i_array_allmax,sigma_square_i,tau_square_i)\n",
    "    variance_ratio_halfmix = variance_ratio(u_i_array_halfmix,sigma_square_i,tau_square_i)\n",
    "    variance_ratio_allmix = variance_ratio(u_i_array_allmix,sigma_square_i,tau_square_i)\n",
    "    \n",
    "    variance_ratio_array_allmin= np.append(variance_ratio_array_allmin,variance_ratio_allmin)\n",
    "    variance_ratio_array_allmax= np.append(variance_ratio_array_allmax,variance_ratio_allmax)\n",
    "    variance_ratio_array_halfmix= np.append(variance_ratio_array_halfmix,variance_ratio_halfmix)\n",
    "    variance_ratio_array_allmix= np.append(variance_ratio_array_allmix,variance_ratio_allmix)\n",
    "    \n",
    "print(variance_ratio_array_allmin)   \n",
    "print(variance_ratio_array_allmax)   \n",
    "print(variance_ratio_array_halfmix)   \n",
    "print(variance_ratio_array_allmix)   "
   ]
  },
  {
   "cell_type": "markdown",
   "metadata": {},
   "source": [
    "# Conclusion\n",
    "1. same sample sizes would give infinity standard deviation ratio\n",
    "2. larger difference in sample sizes -> smaller standard deviation ratio (closer to 1)"
   ]
  },
  {
   "cell_type": "code",
   "execution_count": null,
   "metadata": {},
   "outputs": [],
   "source": []
  },
  {
   "cell_type": "markdown",
   "metadata": {},
   "source": [
    "# the standard deviation ratio with the pain dataset"
   ]
  },
  {
   "cell_type": "code",
   "execution_count": 61,
   "metadata": {},
   "outputs": [
    {
     "name": "stderr",
     "output_type": "stream",
     "text": [
      "ERROR:duecredit:Failed to import duecredit due to No module named 'duecredit'\n"
     ]
    },
    {
     "name": "stdout",
     "output_type": "stream",
     "text": [
      "200504-12:18:04,916 nipype.utils INFO:\n",
      "\t No new version available.\n"
     ]
    },
    {
     "name": "stderr",
     "output_type": "stream",
     "text": [
      "INFO:nipype.utils:No new version available.\n"
     ]
    }
   ],
   "source": [
    "%matplotlib inline\n",
    "import os\n",
    "import urllib.request\n",
    "\n",
    "import numpy as np\n",
    "import pandas as pd\n",
    "import nibabel as nib\n",
    "from nilearn.masking import apply_mask, unmask\n",
    "from nilearn.plotting import plot_stat_map\n",
    "\n",
    "import nimare\n",
    "from nimare.meta.esma import fishers\n",
    "from nimare.meta.ibma import (Fishers, Stouffers, WeightedStouffers,\n",
    "                              RFX_GLM, FFX_GLM, ffx_glm)"
   ]
  },
  {
   "cell_type": "code",
   "execution_count": 62,
   "metadata": {},
   "outputs": [],
   "source": [
    "url = \"https://raw.githubusercontent.com/tsalo/NiMARE/coco2019/download_test_data.py\"\n",
    "u = urllib.request.urlopen(url)\n",
    "data = u.read()\n",
    "u.close()\n",
    "\n",
    "# write python to file in binary mode ('b')\n",
    "with open(\"download_test_data.py\", \"wb\") as f:\n",
    "    f.write(data)\n",
    "\n",
    "# download the requisite data\n",
    "from download_test_data import download_dataset\n",
    "dset_dir = download_dataset()\n",
    "os.remove(\"download_test_data.py\")"
   ]
  },
  {
   "cell_type": "code",
   "execution_count": 75,
   "metadata": {},
   "outputs": [],
   "source": [
    "import download_test_data"
   ]
  },
  {
   "cell_type": "code",
   "execution_count": 63,
   "metadata": {},
   "outputs": [],
   "source": [
    "dset_file = os.path.join(os.path.dirname(nimare.__file__),\n",
    "                         'tests', 'data', 'nidm_pain_dset.json')\n",
    "dset = nimare.dataset.Dataset(dset_file)\n",
    "dset.update_path(dset_dir)\n",
    "\n",
    "mask_img = dset.masker.mask_img\n",
    "\n",
    "logp_thresh = -np.log(.05)"
   ]
  },
  {
   "cell_type": "code",
   "execution_count": 64,
   "metadata": {},
   "outputs": [
    {
     "data": {
      "text/html": [
       "<div>\n",
       "<style scoped>\n",
       "    .dataframe tbody tr th:only-of-type {\n",
       "        vertical-align: middle;\n",
       "    }\n",
       "\n",
       "    .dataframe tbody tr th {\n",
       "        vertical-align: top;\n",
       "    }\n",
       "\n",
       "    .dataframe thead th {\n",
       "        text-align: right;\n",
       "    }\n",
       "</style>\n",
       "<table border=\"1\" class=\"dataframe\">\n",
       "  <thead>\n",
       "    <tr style=\"text-align: right;\">\n",
       "      <th></th>\n",
       "      <th>id</th>\n",
       "      <th>study_id</th>\n",
       "      <th>contrast_id</th>\n",
       "      <th>con__relative</th>\n",
       "      <th>se__relative</th>\n",
       "      <th>space</th>\n",
       "      <th>t__relative</th>\n",
       "      <th>z__relative</th>\n",
       "      <th>con</th>\n",
       "      <th>se</th>\n",
       "      <th>t</th>\n",
       "      <th>z</th>\n",
       "    </tr>\n",
       "  </thead>\n",
       "  <tbody>\n",
       "    <tr>\n",
       "      <th>0</th>\n",
       "      <td>pain_01.nidm-1</td>\n",
       "      <td>pain_01.nidm</td>\n",
       "      <td>1</td>\n",
       "      <td>pain_01.nidm/Contrast.nii.gz</td>\n",
       "      <td>pain_01.nidm/ContrastStandardError.nii.gz</td>\n",
       "      <td>MNI_2mm</td>\n",
       "      <td>pain_01.nidm/TStatistic.nii.gz</td>\n",
       "      <td>None</td>\n",
       "      <td>/opt/anaconda3/envs/tensorflow_cpu_1/lib/pytho...</td>\n",
       "      <td>/opt/anaconda3/envs/tensorflow_cpu_1/lib/pytho...</td>\n",
       "      <td>/opt/anaconda3/envs/tensorflow_cpu_1/lib/pytho...</td>\n",
       "      <td>None</td>\n",
       "    </tr>\n",
       "    <tr>\n",
       "      <th>1</th>\n",
       "      <td>pain_02.nidm-1</td>\n",
       "      <td>pain_02.nidm</td>\n",
       "      <td>1</td>\n",
       "      <td>pain_02.nidm/Contrast.nii.gz</td>\n",
       "      <td>pain_02.nidm/ContrastStandardError.nii.gz</td>\n",
       "      <td>MNI_2mm</td>\n",
       "      <td>pain_02.nidm/TStatistic.nii.gz</td>\n",
       "      <td>None</td>\n",
       "      <td>/opt/anaconda3/envs/tensorflow_cpu_1/lib/pytho...</td>\n",
       "      <td>/opt/anaconda3/envs/tensorflow_cpu_1/lib/pytho...</td>\n",
       "      <td>/opt/anaconda3/envs/tensorflow_cpu_1/lib/pytho...</td>\n",
       "      <td>None</td>\n",
       "    </tr>\n",
       "    <tr>\n",
       "      <th>2</th>\n",
       "      <td>pain_03.nidm-1</td>\n",
       "      <td>pain_03.nidm</td>\n",
       "      <td>1</td>\n",
       "      <td>pain_03.nidm/Contrast.nii.gz</td>\n",
       "      <td>pain_03.nidm/ContrastStandardError.nii.gz</td>\n",
       "      <td>MNI_2mm</td>\n",
       "      <td>pain_03.nidm/TStatistic.nii.gz</td>\n",
       "      <td>None</td>\n",
       "      <td>/opt/anaconda3/envs/tensorflow_cpu_1/lib/pytho...</td>\n",
       "      <td>/opt/anaconda3/envs/tensorflow_cpu_1/lib/pytho...</td>\n",
       "      <td>/opt/anaconda3/envs/tensorflow_cpu_1/lib/pytho...</td>\n",
       "      <td>None</td>\n",
       "    </tr>\n",
       "    <tr>\n",
       "      <th>3</th>\n",
       "      <td>pain_04.nidm-1</td>\n",
       "      <td>pain_04.nidm</td>\n",
       "      <td>1</td>\n",
       "      <td>pain_04.nidm/Contrast.nii.gz</td>\n",
       "      <td>pain_04.nidm/ContrastStandardError.nii.gz</td>\n",
       "      <td>MNI_2mm</td>\n",
       "      <td>pain_04.nidm/TStatistic.nii.gz</td>\n",
       "      <td>None</td>\n",
       "      <td>/opt/anaconda3/envs/tensorflow_cpu_1/lib/pytho...</td>\n",
       "      <td>/opt/anaconda3/envs/tensorflow_cpu_1/lib/pytho...</td>\n",
       "      <td>/opt/anaconda3/envs/tensorflow_cpu_1/lib/pytho...</td>\n",
       "      <td>None</td>\n",
       "    </tr>\n",
       "    <tr>\n",
       "      <th>4</th>\n",
       "      <td>pain_05.nidm-1</td>\n",
       "      <td>pain_05.nidm</td>\n",
       "      <td>1</td>\n",
       "      <td>pain_05.nidm/Contrast.nii.gz</td>\n",
       "      <td>pain_05.nidm/ContrastStandardError.nii.gz</td>\n",
       "      <td>MNI_2mm</td>\n",
       "      <td>pain_05.nidm/TStatistic.nii.gz</td>\n",
       "      <td>None</td>\n",
       "      <td>/opt/anaconda3/envs/tensorflow_cpu_1/lib/pytho...</td>\n",
       "      <td>/opt/anaconda3/envs/tensorflow_cpu_1/lib/pytho...</td>\n",
       "      <td>/opt/anaconda3/envs/tensorflow_cpu_1/lib/pytho...</td>\n",
       "      <td>None</td>\n",
       "    </tr>\n",
       "    <tr>\n",
       "      <th>5</th>\n",
       "      <td>pain_06.nidm-1</td>\n",
       "      <td>pain_06.nidm</td>\n",
       "      <td>1</td>\n",
       "      <td>pain_06.nidm/Contrast.nii.gz</td>\n",
       "      <td>pain_06.nidm/ContrastStandardError.nii.gz</td>\n",
       "      <td>MNI_2mm</td>\n",
       "      <td>pain_06.nidm/TStatistic.nii.gz</td>\n",
       "      <td>None</td>\n",
       "      <td>/opt/anaconda3/envs/tensorflow_cpu_1/lib/pytho...</td>\n",
       "      <td>/opt/anaconda3/envs/tensorflow_cpu_1/lib/pytho...</td>\n",
       "      <td>/opt/anaconda3/envs/tensorflow_cpu_1/lib/pytho...</td>\n",
       "      <td>None</td>\n",
       "    </tr>\n",
       "    <tr>\n",
       "      <th>6</th>\n",
       "      <td>pain_07.nidm-1</td>\n",
       "      <td>pain_07.nidm</td>\n",
       "      <td>1</td>\n",
       "      <td>pain_07.nidm/Contrast.nii.gz</td>\n",
       "      <td>pain_07.nidm/ContrastStandardError.nii.gz</td>\n",
       "      <td>MNI_2mm</td>\n",
       "      <td>pain_07.nidm/TStatistic.nii.gz</td>\n",
       "      <td>None</td>\n",
       "      <td>/opt/anaconda3/envs/tensorflow_cpu_1/lib/pytho...</td>\n",
       "      <td>/opt/anaconda3/envs/tensorflow_cpu_1/lib/pytho...</td>\n",
       "      <td>/opt/anaconda3/envs/tensorflow_cpu_1/lib/pytho...</td>\n",
       "      <td>None</td>\n",
       "    </tr>\n",
       "    <tr>\n",
       "      <th>7</th>\n",
       "      <td>pain_08.nidm-1</td>\n",
       "      <td>pain_08.nidm</td>\n",
       "      <td>1</td>\n",
       "      <td>pain_08.nidm/Contrast.nii.gz</td>\n",
       "      <td>pain_08.nidm/ContrastStandardError.nii.gz</td>\n",
       "      <td>MNI_2mm</td>\n",
       "      <td>pain_08.nidm/TStatistic.nii.gz</td>\n",
       "      <td>None</td>\n",
       "      <td>/opt/anaconda3/envs/tensorflow_cpu_1/lib/pytho...</td>\n",
       "      <td>/opt/anaconda3/envs/tensorflow_cpu_1/lib/pytho...</td>\n",
       "      <td>/opt/anaconda3/envs/tensorflow_cpu_1/lib/pytho...</td>\n",
       "      <td>None</td>\n",
       "    </tr>\n",
       "    <tr>\n",
       "      <th>8</th>\n",
       "      <td>pain_09.nidm-1</td>\n",
       "      <td>pain_09.nidm</td>\n",
       "      <td>1</td>\n",
       "      <td>pain_09.nidm/Contrast.nii.gz</td>\n",
       "      <td>pain_09.nidm/ContrastStandardError.nii.gz</td>\n",
       "      <td>MNI_2mm</td>\n",
       "      <td>pain_09.nidm/TStatistic.nii.gz</td>\n",
       "      <td>None</td>\n",
       "      <td>/opt/anaconda3/envs/tensorflow_cpu_1/lib/pytho...</td>\n",
       "      <td>/opt/anaconda3/envs/tensorflow_cpu_1/lib/pytho...</td>\n",
       "      <td>/opt/anaconda3/envs/tensorflow_cpu_1/lib/pytho...</td>\n",
       "      <td>None</td>\n",
       "    </tr>\n",
       "    <tr>\n",
       "      <th>9</th>\n",
       "      <td>pain_10.nidm-1</td>\n",
       "      <td>pain_10.nidm</td>\n",
       "      <td>1</td>\n",
       "      <td>pain_10.nidm/Contrast.nii.gz</td>\n",
       "      <td>pain_10.nidm/ContrastStandardError.nii.gz</td>\n",
       "      <td>MNI_2mm</td>\n",
       "      <td>pain_10.nidm/TStatistic.nii.gz</td>\n",
       "      <td>None</td>\n",
       "      <td>/opt/anaconda3/envs/tensorflow_cpu_1/lib/pytho...</td>\n",
       "      <td>/opt/anaconda3/envs/tensorflow_cpu_1/lib/pytho...</td>\n",
       "      <td>/opt/anaconda3/envs/tensorflow_cpu_1/lib/pytho...</td>\n",
       "      <td>None</td>\n",
       "    </tr>\n",
       "    <tr>\n",
       "      <th>10</th>\n",
       "      <td>pain_11.nidm-1</td>\n",
       "      <td>pain_11.nidm</td>\n",
       "      <td>1</td>\n",
       "      <td>pain_11.nidm/Contrast_T001.nii.gz</td>\n",
       "      <td>pain_11.nidm/ContrastStandardError_T001.nii.gz</td>\n",
       "      <td>MNI_2mm</td>\n",
       "      <td>pain_11.nidm/TStatistic_T001.nii.gz</td>\n",
       "      <td>pain_11.nidm/ZStatistic_T001.nii.gz</td>\n",
       "      <td>/opt/anaconda3/envs/tensorflow_cpu_1/lib/pytho...</td>\n",
       "      <td>/opt/anaconda3/envs/tensorflow_cpu_1/lib/pytho...</td>\n",
       "      <td>/opt/anaconda3/envs/tensorflow_cpu_1/lib/pytho...</td>\n",
       "      <td>/opt/anaconda3/envs/tensorflow_cpu_1/lib/pytho...</td>\n",
       "    </tr>\n",
       "    <tr>\n",
       "      <th>11</th>\n",
       "      <td>pain_12.nidm-1</td>\n",
       "      <td>pain_12.nidm</td>\n",
       "      <td>1</td>\n",
       "      <td>pain_12.nidm/Contrast_T001.nii.gz</td>\n",
       "      <td>pain_12.nidm/ContrastStandardError_T001.nii.gz</td>\n",
       "      <td>MNI_2mm</td>\n",
       "      <td>pain_12.nidm/TStatistic_T001.nii.gz</td>\n",
       "      <td>pain_12.nidm/ZStatistic_T001.nii.gz</td>\n",
       "      <td>/opt/anaconda3/envs/tensorflow_cpu_1/lib/pytho...</td>\n",
       "      <td>/opt/anaconda3/envs/tensorflow_cpu_1/lib/pytho...</td>\n",
       "      <td>/opt/anaconda3/envs/tensorflow_cpu_1/lib/pytho...</td>\n",
       "      <td>/opt/anaconda3/envs/tensorflow_cpu_1/lib/pytho...</td>\n",
       "    </tr>\n",
       "    <tr>\n",
       "      <th>12</th>\n",
       "      <td>pain_13.nidm-1</td>\n",
       "      <td>pain_13.nidm</td>\n",
       "      <td>1</td>\n",
       "      <td>pain_13.nidm/Contrast_T001.nii.gz</td>\n",
       "      <td>pain_13.nidm/ContrastStandardError_T001.nii.gz</td>\n",
       "      <td>MNI_2mm</td>\n",
       "      <td>pain_13.nidm/TStatistic_T001.nii.gz</td>\n",
       "      <td>pain_13.nidm/ZStatistic_T001.nii.gz</td>\n",
       "      <td>/opt/anaconda3/envs/tensorflow_cpu_1/lib/pytho...</td>\n",
       "      <td>/opt/anaconda3/envs/tensorflow_cpu_1/lib/pytho...</td>\n",
       "      <td>/opt/anaconda3/envs/tensorflow_cpu_1/lib/pytho...</td>\n",
       "      <td>/opt/anaconda3/envs/tensorflow_cpu_1/lib/pytho...</td>\n",
       "    </tr>\n",
       "    <tr>\n",
       "      <th>13</th>\n",
       "      <td>pain_14.nidm-1</td>\n",
       "      <td>pain_14.nidm</td>\n",
       "      <td>1</td>\n",
       "      <td>pain_14.nidm/Contrast_T001.nii.gz</td>\n",
       "      <td>pain_14.nidm/ContrastStandardError_T001.nii.gz</td>\n",
       "      <td>MNI_2mm</td>\n",
       "      <td>pain_14.nidm/TStatistic_T001.nii.gz</td>\n",
       "      <td>pain_14.nidm/ZStatistic_T001.nii.gz</td>\n",
       "      <td>/opt/anaconda3/envs/tensorflow_cpu_1/lib/pytho...</td>\n",
       "      <td>/opt/anaconda3/envs/tensorflow_cpu_1/lib/pytho...</td>\n",
       "      <td>/opt/anaconda3/envs/tensorflow_cpu_1/lib/pytho...</td>\n",
       "      <td>/opt/anaconda3/envs/tensorflow_cpu_1/lib/pytho...</td>\n",
       "    </tr>\n",
       "    <tr>\n",
       "      <th>14</th>\n",
       "      <td>pain_15.nidm-1</td>\n",
       "      <td>pain_15.nidm</td>\n",
       "      <td>1</td>\n",
       "      <td>pain_15.nidm/Contrast_T001.nii.gz</td>\n",
       "      <td>pain_15.nidm/ContrastStandardError_T001.nii.gz</td>\n",
       "      <td>MNI_2mm</td>\n",
       "      <td>pain_15.nidm/TStatistic_T001.nii.gz</td>\n",
       "      <td>pain_15.nidm/ZStatistic_T001.nii.gz</td>\n",
       "      <td>/opt/anaconda3/envs/tensorflow_cpu_1/lib/pytho...</td>\n",
       "      <td>/opt/anaconda3/envs/tensorflow_cpu_1/lib/pytho...</td>\n",
       "      <td>/opt/anaconda3/envs/tensorflow_cpu_1/lib/pytho...</td>\n",
       "      <td>/opt/anaconda3/envs/tensorflow_cpu_1/lib/pytho...</td>\n",
       "    </tr>\n",
       "    <tr>\n",
       "      <th>15</th>\n",
       "      <td>pain_16.nidm-1</td>\n",
       "      <td>pain_16.nidm</td>\n",
       "      <td>1</td>\n",
       "      <td>pain_16.nidm/Contrast_T001.nii.gz</td>\n",
       "      <td>pain_16.nidm/ContrastStandardError_T001.nii.gz</td>\n",
       "      <td>MNI_2mm</td>\n",
       "      <td>pain_16.nidm/TStatistic_T001.nii.gz</td>\n",
       "      <td>pain_16.nidm/ZStatistic_T001.nii.gz</td>\n",
       "      <td>/opt/anaconda3/envs/tensorflow_cpu_1/lib/pytho...</td>\n",
       "      <td>/opt/anaconda3/envs/tensorflow_cpu_1/lib/pytho...</td>\n",
       "      <td>/opt/anaconda3/envs/tensorflow_cpu_1/lib/pytho...</td>\n",
       "      <td>/opt/anaconda3/envs/tensorflow_cpu_1/lib/pytho...</td>\n",
       "    </tr>\n",
       "    <tr>\n",
       "      <th>16</th>\n",
       "      <td>pain_17.nidm-1</td>\n",
       "      <td>pain_17.nidm</td>\n",
       "      <td>1</td>\n",
       "      <td>pain_17.nidm/Contrast_T001.nii.gz</td>\n",
       "      <td>pain_17.nidm/ContrastStandardError_T001.nii.gz</td>\n",
       "      <td>MNI_2mm</td>\n",
       "      <td>pain_17.nidm/TStatistic_T001.nii.gz</td>\n",
       "      <td>pain_17.nidm/ZStatistic_T001.nii.gz</td>\n",
       "      <td>/opt/anaconda3/envs/tensorflow_cpu_1/lib/pytho...</td>\n",
       "      <td>/opt/anaconda3/envs/tensorflow_cpu_1/lib/pytho...</td>\n",
       "      <td>/opt/anaconda3/envs/tensorflow_cpu_1/lib/pytho...</td>\n",
       "      <td>/opt/anaconda3/envs/tensorflow_cpu_1/lib/pytho...</td>\n",
       "    </tr>\n",
       "    <tr>\n",
       "      <th>17</th>\n",
       "      <td>pain_18.nidm-1</td>\n",
       "      <td>pain_18.nidm</td>\n",
       "      <td>1</td>\n",
       "      <td>pain_18.nidm/Contrast_T001.nii.gz</td>\n",
       "      <td>pain_18.nidm/ContrastStandardError_T001.nii.gz</td>\n",
       "      <td>MNI_2mm</td>\n",
       "      <td>pain_18.nidm/TStatistic_T001.nii.gz</td>\n",
       "      <td>pain_18.nidm/ZStatistic_T001.nii.gz</td>\n",
       "      <td>/opt/anaconda3/envs/tensorflow_cpu_1/lib/pytho...</td>\n",
       "      <td>/opt/anaconda3/envs/tensorflow_cpu_1/lib/pytho...</td>\n",
       "      <td>/opt/anaconda3/envs/tensorflow_cpu_1/lib/pytho...</td>\n",
       "      <td>/opt/anaconda3/envs/tensorflow_cpu_1/lib/pytho...</td>\n",
       "    </tr>\n",
       "    <tr>\n",
       "      <th>18</th>\n",
       "      <td>pain_19.nidm-1</td>\n",
       "      <td>pain_19.nidm</td>\n",
       "      <td>1</td>\n",
       "      <td>pain_19.nidm/Contrast_T001.nii.gz</td>\n",
       "      <td>pain_19.nidm/ContrastStandardError_T001.nii.gz</td>\n",
       "      <td>MNI_2mm</td>\n",
       "      <td>pain_19.nidm/TStatistic_T001.nii.gz</td>\n",
       "      <td>pain_19.nidm/ZStatistic_T001.nii.gz</td>\n",
       "      <td>/opt/anaconda3/envs/tensorflow_cpu_1/lib/pytho...</td>\n",
       "      <td>/opt/anaconda3/envs/tensorflow_cpu_1/lib/pytho...</td>\n",
       "      <td>/opt/anaconda3/envs/tensorflow_cpu_1/lib/pytho...</td>\n",
       "      <td>/opt/anaconda3/envs/tensorflow_cpu_1/lib/pytho...</td>\n",
       "    </tr>\n",
       "    <tr>\n",
       "      <th>19</th>\n",
       "      <td>pain_20.nidm-1</td>\n",
       "      <td>pain_20.nidm</td>\n",
       "      <td>1</td>\n",
       "      <td>pain_20.nidm/Contrast_T001.nii.gz</td>\n",
       "      <td>pain_20.nidm/ContrastStandardError_T001.nii.gz</td>\n",
       "      <td>MNI_2mm</td>\n",
       "      <td>pain_20.nidm/TStatistic_T001.nii.gz</td>\n",
       "      <td>pain_20.nidm/ZStatistic_T001.nii.gz</td>\n",
       "      <td>/opt/anaconda3/envs/tensorflow_cpu_1/lib/pytho...</td>\n",
       "      <td>/opt/anaconda3/envs/tensorflow_cpu_1/lib/pytho...</td>\n",
       "      <td>/opt/anaconda3/envs/tensorflow_cpu_1/lib/pytho...</td>\n",
       "      <td>/opt/anaconda3/envs/tensorflow_cpu_1/lib/pytho...</td>\n",
       "    </tr>\n",
       "    <tr>\n",
       "      <th>20</th>\n",
       "      <td>pain_21.nidm-1</td>\n",
       "      <td>pain_21.nidm</td>\n",
       "      <td>1</td>\n",
       "      <td>pain_21.nidm/Contrast_T001.nii.gz</td>\n",
       "      <td>pain_21.nidm/ContrastStandardError_T001.nii.gz</td>\n",
       "      <td>MNI_2mm</td>\n",
       "      <td>pain_21.nidm/TStatistic_T001.nii.gz</td>\n",
       "      <td>pain_21.nidm/ZStatistic_T001.nii.gz</td>\n",
       "      <td>/opt/anaconda3/envs/tensorflow_cpu_1/lib/pytho...</td>\n",
       "      <td>/opt/anaconda3/envs/tensorflow_cpu_1/lib/pytho...</td>\n",
       "      <td>/opt/anaconda3/envs/tensorflow_cpu_1/lib/pytho...</td>\n",
       "      <td>/opt/anaconda3/envs/tensorflow_cpu_1/lib/pytho...</td>\n",
       "    </tr>\n",
       "  </tbody>\n",
       "</table>\n",
       "</div>"
      ],
      "text/plain": [
       "                id      study_id contrast_id  \\\n",
       "0   pain_01.nidm-1  pain_01.nidm           1   \n",
       "1   pain_02.nidm-1  pain_02.nidm           1   \n",
       "2   pain_03.nidm-1  pain_03.nidm           1   \n",
       "3   pain_04.nidm-1  pain_04.nidm           1   \n",
       "4   pain_05.nidm-1  pain_05.nidm           1   \n",
       "5   pain_06.nidm-1  pain_06.nidm           1   \n",
       "6   pain_07.nidm-1  pain_07.nidm           1   \n",
       "7   pain_08.nidm-1  pain_08.nidm           1   \n",
       "8   pain_09.nidm-1  pain_09.nidm           1   \n",
       "9   pain_10.nidm-1  pain_10.nidm           1   \n",
       "10  pain_11.nidm-1  pain_11.nidm           1   \n",
       "11  pain_12.nidm-1  pain_12.nidm           1   \n",
       "12  pain_13.nidm-1  pain_13.nidm           1   \n",
       "13  pain_14.nidm-1  pain_14.nidm           1   \n",
       "14  pain_15.nidm-1  pain_15.nidm           1   \n",
       "15  pain_16.nidm-1  pain_16.nidm           1   \n",
       "16  pain_17.nidm-1  pain_17.nidm           1   \n",
       "17  pain_18.nidm-1  pain_18.nidm           1   \n",
       "18  pain_19.nidm-1  pain_19.nidm           1   \n",
       "19  pain_20.nidm-1  pain_20.nidm           1   \n",
       "20  pain_21.nidm-1  pain_21.nidm           1   \n",
       "\n",
       "                        con__relative  \\\n",
       "0        pain_01.nidm/Contrast.nii.gz   \n",
       "1        pain_02.nidm/Contrast.nii.gz   \n",
       "2        pain_03.nidm/Contrast.nii.gz   \n",
       "3        pain_04.nidm/Contrast.nii.gz   \n",
       "4        pain_05.nidm/Contrast.nii.gz   \n",
       "5        pain_06.nidm/Contrast.nii.gz   \n",
       "6        pain_07.nidm/Contrast.nii.gz   \n",
       "7        pain_08.nidm/Contrast.nii.gz   \n",
       "8        pain_09.nidm/Contrast.nii.gz   \n",
       "9        pain_10.nidm/Contrast.nii.gz   \n",
       "10  pain_11.nidm/Contrast_T001.nii.gz   \n",
       "11  pain_12.nidm/Contrast_T001.nii.gz   \n",
       "12  pain_13.nidm/Contrast_T001.nii.gz   \n",
       "13  pain_14.nidm/Contrast_T001.nii.gz   \n",
       "14  pain_15.nidm/Contrast_T001.nii.gz   \n",
       "15  pain_16.nidm/Contrast_T001.nii.gz   \n",
       "16  pain_17.nidm/Contrast_T001.nii.gz   \n",
       "17  pain_18.nidm/Contrast_T001.nii.gz   \n",
       "18  pain_19.nidm/Contrast_T001.nii.gz   \n",
       "19  pain_20.nidm/Contrast_T001.nii.gz   \n",
       "20  pain_21.nidm/Contrast_T001.nii.gz   \n",
       "\n",
       "                                      se__relative    space  \\\n",
       "0        pain_01.nidm/ContrastStandardError.nii.gz  MNI_2mm   \n",
       "1        pain_02.nidm/ContrastStandardError.nii.gz  MNI_2mm   \n",
       "2        pain_03.nidm/ContrastStandardError.nii.gz  MNI_2mm   \n",
       "3        pain_04.nidm/ContrastStandardError.nii.gz  MNI_2mm   \n",
       "4        pain_05.nidm/ContrastStandardError.nii.gz  MNI_2mm   \n",
       "5        pain_06.nidm/ContrastStandardError.nii.gz  MNI_2mm   \n",
       "6        pain_07.nidm/ContrastStandardError.nii.gz  MNI_2mm   \n",
       "7        pain_08.nidm/ContrastStandardError.nii.gz  MNI_2mm   \n",
       "8        pain_09.nidm/ContrastStandardError.nii.gz  MNI_2mm   \n",
       "9        pain_10.nidm/ContrastStandardError.nii.gz  MNI_2mm   \n",
       "10  pain_11.nidm/ContrastStandardError_T001.nii.gz  MNI_2mm   \n",
       "11  pain_12.nidm/ContrastStandardError_T001.nii.gz  MNI_2mm   \n",
       "12  pain_13.nidm/ContrastStandardError_T001.nii.gz  MNI_2mm   \n",
       "13  pain_14.nidm/ContrastStandardError_T001.nii.gz  MNI_2mm   \n",
       "14  pain_15.nidm/ContrastStandardError_T001.nii.gz  MNI_2mm   \n",
       "15  pain_16.nidm/ContrastStandardError_T001.nii.gz  MNI_2mm   \n",
       "16  pain_17.nidm/ContrastStandardError_T001.nii.gz  MNI_2mm   \n",
       "17  pain_18.nidm/ContrastStandardError_T001.nii.gz  MNI_2mm   \n",
       "18  pain_19.nidm/ContrastStandardError_T001.nii.gz  MNI_2mm   \n",
       "19  pain_20.nidm/ContrastStandardError_T001.nii.gz  MNI_2mm   \n",
       "20  pain_21.nidm/ContrastStandardError_T001.nii.gz  MNI_2mm   \n",
       "\n",
       "                            t__relative                          z__relative  \\\n",
       "0        pain_01.nidm/TStatistic.nii.gz                                 None   \n",
       "1        pain_02.nidm/TStatistic.nii.gz                                 None   \n",
       "2        pain_03.nidm/TStatistic.nii.gz                                 None   \n",
       "3        pain_04.nidm/TStatistic.nii.gz                                 None   \n",
       "4        pain_05.nidm/TStatistic.nii.gz                                 None   \n",
       "5        pain_06.nidm/TStatistic.nii.gz                                 None   \n",
       "6        pain_07.nidm/TStatistic.nii.gz                                 None   \n",
       "7        pain_08.nidm/TStatistic.nii.gz                                 None   \n",
       "8        pain_09.nidm/TStatistic.nii.gz                                 None   \n",
       "9        pain_10.nidm/TStatistic.nii.gz                                 None   \n",
       "10  pain_11.nidm/TStatistic_T001.nii.gz  pain_11.nidm/ZStatistic_T001.nii.gz   \n",
       "11  pain_12.nidm/TStatistic_T001.nii.gz  pain_12.nidm/ZStatistic_T001.nii.gz   \n",
       "12  pain_13.nidm/TStatistic_T001.nii.gz  pain_13.nidm/ZStatistic_T001.nii.gz   \n",
       "13  pain_14.nidm/TStatistic_T001.nii.gz  pain_14.nidm/ZStatistic_T001.nii.gz   \n",
       "14  pain_15.nidm/TStatistic_T001.nii.gz  pain_15.nidm/ZStatistic_T001.nii.gz   \n",
       "15  pain_16.nidm/TStatistic_T001.nii.gz  pain_16.nidm/ZStatistic_T001.nii.gz   \n",
       "16  pain_17.nidm/TStatistic_T001.nii.gz  pain_17.nidm/ZStatistic_T001.nii.gz   \n",
       "17  pain_18.nidm/TStatistic_T001.nii.gz  pain_18.nidm/ZStatistic_T001.nii.gz   \n",
       "18  pain_19.nidm/TStatistic_T001.nii.gz  pain_19.nidm/ZStatistic_T001.nii.gz   \n",
       "19  pain_20.nidm/TStatistic_T001.nii.gz  pain_20.nidm/ZStatistic_T001.nii.gz   \n",
       "20  pain_21.nidm/TStatistic_T001.nii.gz  pain_21.nidm/ZStatistic_T001.nii.gz   \n",
       "\n",
       "                                                  con  \\\n",
       "0   /opt/anaconda3/envs/tensorflow_cpu_1/lib/pytho...   \n",
       "1   /opt/anaconda3/envs/tensorflow_cpu_1/lib/pytho...   \n",
       "2   /opt/anaconda3/envs/tensorflow_cpu_1/lib/pytho...   \n",
       "3   /opt/anaconda3/envs/tensorflow_cpu_1/lib/pytho...   \n",
       "4   /opt/anaconda3/envs/tensorflow_cpu_1/lib/pytho...   \n",
       "5   /opt/anaconda3/envs/tensorflow_cpu_1/lib/pytho...   \n",
       "6   /opt/anaconda3/envs/tensorflow_cpu_1/lib/pytho...   \n",
       "7   /opt/anaconda3/envs/tensorflow_cpu_1/lib/pytho...   \n",
       "8   /opt/anaconda3/envs/tensorflow_cpu_1/lib/pytho...   \n",
       "9   /opt/anaconda3/envs/tensorflow_cpu_1/lib/pytho...   \n",
       "10  /opt/anaconda3/envs/tensorflow_cpu_1/lib/pytho...   \n",
       "11  /opt/anaconda3/envs/tensorflow_cpu_1/lib/pytho...   \n",
       "12  /opt/anaconda3/envs/tensorflow_cpu_1/lib/pytho...   \n",
       "13  /opt/anaconda3/envs/tensorflow_cpu_1/lib/pytho...   \n",
       "14  /opt/anaconda3/envs/tensorflow_cpu_1/lib/pytho...   \n",
       "15  /opt/anaconda3/envs/tensorflow_cpu_1/lib/pytho...   \n",
       "16  /opt/anaconda3/envs/tensorflow_cpu_1/lib/pytho...   \n",
       "17  /opt/anaconda3/envs/tensorflow_cpu_1/lib/pytho...   \n",
       "18  /opt/anaconda3/envs/tensorflow_cpu_1/lib/pytho...   \n",
       "19  /opt/anaconda3/envs/tensorflow_cpu_1/lib/pytho...   \n",
       "20  /opt/anaconda3/envs/tensorflow_cpu_1/lib/pytho...   \n",
       "\n",
       "                                                   se  \\\n",
       "0   /opt/anaconda3/envs/tensorflow_cpu_1/lib/pytho...   \n",
       "1   /opt/anaconda3/envs/tensorflow_cpu_1/lib/pytho...   \n",
       "2   /opt/anaconda3/envs/tensorflow_cpu_1/lib/pytho...   \n",
       "3   /opt/anaconda3/envs/tensorflow_cpu_1/lib/pytho...   \n",
       "4   /opt/anaconda3/envs/tensorflow_cpu_1/lib/pytho...   \n",
       "5   /opt/anaconda3/envs/tensorflow_cpu_1/lib/pytho...   \n",
       "6   /opt/anaconda3/envs/tensorflow_cpu_1/lib/pytho...   \n",
       "7   /opt/anaconda3/envs/tensorflow_cpu_1/lib/pytho...   \n",
       "8   /opt/anaconda3/envs/tensorflow_cpu_1/lib/pytho...   \n",
       "9   /opt/anaconda3/envs/tensorflow_cpu_1/lib/pytho...   \n",
       "10  /opt/anaconda3/envs/tensorflow_cpu_1/lib/pytho...   \n",
       "11  /opt/anaconda3/envs/tensorflow_cpu_1/lib/pytho...   \n",
       "12  /opt/anaconda3/envs/tensorflow_cpu_1/lib/pytho...   \n",
       "13  /opt/anaconda3/envs/tensorflow_cpu_1/lib/pytho...   \n",
       "14  /opt/anaconda3/envs/tensorflow_cpu_1/lib/pytho...   \n",
       "15  /opt/anaconda3/envs/tensorflow_cpu_1/lib/pytho...   \n",
       "16  /opt/anaconda3/envs/tensorflow_cpu_1/lib/pytho...   \n",
       "17  /opt/anaconda3/envs/tensorflow_cpu_1/lib/pytho...   \n",
       "18  /opt/anaconda3/envs/tensorflow_cpu_1/lib/pytho...   \n",
       "19  /opt/anaconda3/envs/tensorflow_cpu_1/lib/pytho...   \n",
       "20  /opt/anaconda3/envs/tensorflow_cpu_1/lib/pytho...   \n",
       "\n",
       "                                                    t  \\\n",
       "0   /opt/anaconda3/envs/tensorflow_cpu_1/lib/pytho...   \n",
       "1   /opt/anaconda3/envs/tensorflow_cpu_1/lib/pytho...   \n",
       "2   /opt/anaconda3/envs/tensorflow_cpu_1/lib/pytho...   \n",
       "3   /opt/anaconda3/envs/tensorflow_cpu_1/lib/pytho...   \n",
       "4   /opt/anaconda3/envs/tensorflow_cpu_1/lib/pytho...   \n",
       "5   /opt/anaconda3/envs/tensorflow_cpu_1/lib/pytho...   \n",
       "6   /opt/anaconda3/envs/tensorflow_cpu_1/lib/pytho...   \n",
       "7   /opt/anaconda3/envs/tensorflow_cpu_1/lib/pytho...   \n",
       "8   /opt/anaconda3/envs/tensorflow_cpu_1/lib/pytho...   \n",
       "9   /opt/anaconda3/envs/tensorflow_cpu_1/lib/pytho...   \n",
       "10  /opt/anaconda3/envs/tensorflow_cpu_1/lib/pytho...   \n",
       "11  /opt/anaconda3/envs/tensorflow_cpu_1/lib/pytho...   \n",
       "12  /opt/anaconda3/envs/tensorflow_cpu_1/lib/pytho...   \n",
       "13  /opt/anaconda3/envs/tensorflow_cpu_1/lib/pytho...   \n",
       "14  /opt/anaconda3/envs/tensorflow_cpu_1/lib/pytho...   \n",
       "15  /opt/anaconda3/envs/tensorflow_cpu_1/lib/pytho...   \n",
       "16  /opt/anaconda3/envs/tensorflow_cpu_1/lib/pytho...   \n",
       "17  /opt/anaconda3/envs/tensorflow_cpu_1/lib/pytho...   \n",
       "18  /opt/anaconda3/envs/tensorflow_cpu_1/lib/pytho...   \n",
       "19  /opt/anaconda3/envs/tensorflow_cpu_1/lib/pytho...   \n",
       "20  /opt/anaconda3/envs/tensorflow_cpu_1/lib/pytho...   \n",
       "\n",
       "                                                    z  \n",
       "0                                                None  \n",
       "1                                                None  \n",
       "2                                                None  \n",
       "3                                                None  \n",
       "4                                                None  \n",
       "5                                                None  \n",
       "6                                                None  \n",
       "7                                                None  \n",
       "8                                                None  \n",
       "9                                                None  \n",
       "10  /opt/anaconda3/envs/tensorflow_cpu_1/lib/pytho...  \n",
       "11  /opt/anaconda3/envs/tensorflow_cpu_1/lib/pytho...  \n",
       "12  /opt/anaconda3/envs/tensorflow_cpu_1/lib/pytho...  \n",
       "13  /opt/anaconda3/envs/tensorflow_cpu_1/lib/pytho...  \n",
       "14  /opt/anaconda3/envs/tensorflow_cpu_1/lib/pytho...  \n",
       "15  /opt/anaconda3/envs/tensorflow_cpu_1/lib/pytho...  \n",
       "16  /opt/anaconda3/envs/tensorflow_cpu_1/lib/pytho...  \n",
       "17  /opt/anaconda3/envs/tensorflow_cpu_1/lib/pytho...  \n",
       "18  /opt/anaconda3/envs/tensorflow_cpu_1/lib/pytho...  \n",
       "19  /opt/anaconda3/envs/tensorflow_cpu_1/lib/pytho...  \n",
       "20  /opt/anaconda3/envs/tensorflow_cpu_1/lib/pytho...  "
      ]
     },
     "execution_count": 64,
     "metadata": {},
     "output_type": "execute_result"
    }
   ],
   "source": [
    "dset.images"
   ]
  },
  {
   "cell_type": "code",
   "execution_count": 73,
   "metadata": {},
   "outputs": [
    {
     "name": "stdout",
     "output_type": "stream",
     "text": [
      "[25 25 20 20  9  9  9 12 12 12 12 13 32 24 14 14 12 12 16 16 16]\n",
      "[0.04       0.04       0.05       0.05       0.11111111 0.11111111\n",
      " 0.11111111 0.08333333 0.08333333 0.08333333 0.08333333 0.07692308\n",
      " 0.03125    0.04166667 0.07142857 0.07142857 0.08333333 0.08333333\n",
      " 0.0625     0.0625     0.0625    ]\n"
     ]
    }
   ],
   "source": [
    "# obtain the sample size of each individual study from `metadata`\n",
    "study_sample_size = pd.Series.tolist(dset.metadata.sample_sizes)\n",
    "sample_size_array = np.array([list[0] for list in study_sample_size])\n",
    "u_i_list = 1/sample_size_array\n",
    "print(sample_size_list)\n",
    "print(u_i_list)"
   ]
  },
  {
   "cell_type": "code",
   "execution_count": 66,
   "metadata": {},
   "outputs": [
    {
     "name": "stdout",
     "output_type": "stream",
     "text": [
      "['pain_01.nidm/Contrast.nii.gz', 'pain_02.nidm/Contrast.nii.gz', 'pain_03.nidm/Contrast.nii.gz', 'pain_04.nidm/Contrast.nii.gz', 'pain_05.nidm/Contrast.nii.gz', 'pain_06.nidm/Contrast.nii.gz', 'pain_07.nidm/Contrast.nii.gz', 'pain_08.nidm/Contrast.nii.gz', 'pain_09.nidm/Contrast.nii.gz', 'pain_10.nidm/Contrast.nii.gz', 'pain_11.nidm/Contrast_T001.nii.gz', 'pain_12.nidm/Contrast_T001.nii.gz', 'pain_13.nidm/Contrast_T001.nii.gz', 'pain_14.nidm/Contrast_T001.nii.gz', 'pain_15.nidm/Contrast_T001.nii.gz', 'pain_16.nidm/Contrast_T001.nii.gz', 'pain_17.nidm/Contrast_T001.nii.gz', 'pain_18.nidm/Contrast_T001.nii.gz', 'pain_19.nidm/Contrast_T001.nii.gz', 'pain_20.nidm/Contrast_T001.nii.gz', 'pain_21.nidm/Contrast_T001.nii.gz']\n"
     ]
    }
   ],
   "source": [
    "con_relative_files = dset.get_images(imtype='con__relative')\n",
    "print(con_relative_files)\n",
    "#contrast_imgs = [nib.load(f) for f in con_relative_files]\n",
    "#contrast_data = apply_mask(z_imgs, mask_img)"
   ]
  },
  {
   "cell_type": "code",
   "execution_count": null,
   "metadata": {},
   "outputs": [],
   "source": []
  }
 ],
 "metadata": {
  "kernelspec": {
   "display_name": "Python 3",
   "language": "python",
   "name": "python3"
  },
  "language_info": {
   "codemirror_mode": {
    "name": "ipython",
    "version": 3
   },
   "file_extension": ".py",
   "mimetype": "text/x-python",
   "name": "python",
   "nbconvert_exporter": "python",
   "pygments_lexer": "ipython3",
   "version": "3.7.6"
  }
 },
 "nbformat": 4,
 "nbformat_minor": 4
}
